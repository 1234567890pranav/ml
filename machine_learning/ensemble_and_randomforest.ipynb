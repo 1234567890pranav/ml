{
 "cells": [
  {
   "cell_type": "markdown",
   "metadata": {},
   "source": [
    "# Ensemble Learning and Random Forests\n",
    "\n",
    "\n",
    " A group of predictors is called an **ensemble**; thus, this technique is called **Ensemble Learning**, and an **Ensemble Learning algorithm is called an Ensemble method**."
   ]
  },
  {
   "cell_type": "markdown",
   "metadata": {},
   "source": [
    "For example, you can train a group of Decision Tree classifiers, each on a different random subset of the training set.\n",
    "\n",
    "To make predictions,\n",
    "+ You just obtain the predictions of all individual trees,\n",
    "+ then predict the class that gets the most votes.\n",
    "\n",
    "**Such an ensemble of Decision Trees is called a Random Forest**, and despite its simplicity, this is one of the most powerful Machine Learning algorithms available today.\n"
   ]
  },
  {
   "cell_type": "markdown",
   "metadata": {},
   "source": [
    "\n",
    "## Voting Classifiers\n",
    "\n",
    "![Training diverse classifiers](images/ensembles/training_diverse_classifiers.png)"
   ]
  },
  {
   "cell_type": "markdown",
   "metadata": {},
   "source": [
    "A very simple way to create an even better classifier is to aggregate the predictions of each classifier and predict the class that gets the most votes. \n",
    "**This majority-vote classifier is called a hard voting classifier**."
   ]
  },
  {
   "cell_type": "markdown",
   "metadata": {},
   "source": [
    "![Hard voting classifier classification](images/ensembles/hard_voting.png)"
   ]
  },
  {
   "cell_type": "markdown",
   "metadata": {},
   "source": [
    "\n",
    "Somewhat surprisingly, this voting classifier often achieves a higher accuracy than the best classifier in the ensemble.\n",
    "+ In fact, even if each classifier is a weak learner (meaning it does only slightly better than random guessing), the ensemble can still be a strong learner (achieving high accuracy), \n",
    "+ provided there are a sufficient number of weak learners and they are sufficiently diverse."
   ]
  },
  {
   "cell_type": "markdown",
   "metadata": {},
   "source": [
    "Suppose if all the classifiers trained in the ensemble has a accuracy of 51% only. So to find the combined accuracy we want to find how many times each of the classifiers are correct.\n",
    "\n",
    "For a binary classifier, running it n times the probability distribution will be the binomial series\n",
    "\n",
    "\n",
    "**<sup>n</sup>C<sub>r</sub>a<sup>n-r</sup>b<sup>r</sup> **\n",
    "\n",
    " where n-r > r ie the power of a is greater than power of b"
   ]
  },
  {
   "cell_type": "code",
   "execution_count": 2,
   "metadata": {
    "collapsed": true
   },
   "outputs": [],
   "source": [
    "import numpy as np\n",
    "def nCr(n, r):\n",
    "    return np.math.factorial(n)//(np.math.factorial(r) * np.math.factorial(n-r))"
   ]
  },
  {
   "cell_type": "code",
   "execution_count": 3,
   "metadata": {},
   "outputs": [
    {
     "data": {
      "text/plain": [
       "Decimal('0.7260985557305041450334633096')"
      ]
     },
     "execution_count": 3,
     "metadata": {},
     "output_type": "execute_result"
    }
   ],
   "source": [
    "prob = 0\n",
    "from decimal import Decimal\n",
    "for i in range(1, 500):\n",
    "    prob += np.multiply(np.multiply(nCr(1000, i), Decimal(0.51 ** (1000-i))), Decimal(0.49 ** i))\n",
    "    \n",
    "prob \n"
   ]
  },
  {
   "cell_type": "markdown",
   "metadata": {},
   "source": [
    "#### How is this possible ??\n",
    "\n",
    "+ Suppose you have a slightly biased coin that has a 51% chance of coming up heads, \n",
    "+ and 49% chance of coming up tails. \n",
    "+ If you toss it 1,000 times, you will generally get more or less 510 heads and 490 tails, \n",
    "+ and hence a majority of heads. \n",
    "\n",
    "If you do the math, you will find that the probability of obtaining a majority of heads after 1,000 tosses is close to 75%. The more you toss the coin, the higher the probability (e.g., with 10,000 tosses, the probability climbs over 97%). This is due to the law of large numbers: as you keep tossing the coin, the ratio of heads gets closer and closer to the probability of heads (51%). \n",
    "\n",
    "Below figure shows 10 series of biased coin tosses. You can see that as the number of tosses increases, the ratio of heads approaches 51%. Eventually all 10 series end up so close to 51% that they are consistently above 50%.\n"
   ]
  },
  {
   "cell_type": "markdown",
   "metadata": {},
   "source": [
    "#### Lets prepare with common imports and settings"
   ]
  },
  {
   "cell_type": "code",
   "execution_count": 4,
   "metadata": {
    "collapsed": true
   },
   "outputs": [],
   "source": [
    "# Common imports\n",
    "import numpy as np\n",
    "import matplotlib.pyplot as plt\n",
    "import os\n",
    "\n",
    "# setting random seed\n",
    "np.random.seed(42)\n",
    "\n",
    "\n",
    "# To plot pretty figures\n",
    "%matplotlib inline\n",
    "import matplotlib\n",
    "import matplotlib.pyplot as plt\n",
    "plt.rcParams['axes.labelsize'] = 14\n",
    "plt.rcParams['xtick.labelsize'] = 12\n",
    "plt.rcParams['ytick.labelsize'] = 12\n",
    "\n",
    "\n",
    "CHAPTER_ID = \"ensembles\"\n",
    "\n",
    "def image_path(fig_id):\n",
    "    \n",
    "    if os.path.exists(os.path.join(\"images\", CHAPTER_ID)):\n",
    "        return os.path.join(\"images\", CHAPTER_ID, fig_id)\n",
    "    os.mkdir(os.path.join(\"images\", CHAPTER_ID))\n",
    "    return os.path.join(\"images\", CHAPTER_ID, fig_id)\n",
    "\n",
    "def save_fig(fig_id, tight_layout=True):\n",
    "    print(\"Saving figure\", fig_id)\n",
    "    if tight_layout:\n",
    "        plt.tight_layout()\n",
    "    plt.savefig(image_path(fig_id) + \".png\", format='png', dpi=300)"
   ]
  },
  {
   "cell_type": "code",
   "execution_count": 5,
   "metadata": {},
   "outputs": [
    {
     "data": {
      "text/plain": [
       "array([[ 1.        ,  0.        ,  0.        , ...,  0.        ,\n",
       "         0.        ,  0.        ],\n",
       "       [ 1.        ,  0.        ,  0.        , ...,  0.        ,\n",
       "         0.5       ,  0.5       ],\n",
       "       [ 0.66666667,  0.33333333,  0.33333333, ...,  0.        ,\n",
       "         0.33333333,  0.66666667],\n",
       "       ..., \n",
       "       [ 0.51140228,  0.5115023 ,  0.50680136, ...,  0.5095019 ,\n",
       "         0.51070214,  0.51010202],\n",
       "       [ 0.51135114,  0.51145115,  0.50685069, ...,  0.50955096,\n",
       "         0.51075108,  0.51015102],\n",
       "       [ 0.5113    ,  0.5115    ,  0.5068    , ...,  0.5095    ,\n",
       "         0.5108    ,  0.5102    ]])"
      ]
     },
     "execution_count": 5,
     "metadata": {},
     "output_type": "execute_result"
    }
   ],
   "source": [
    "heads_proba = 0.51 # The probability of head is 0.51 as it is a biased coin\n",
    "\n",
    "# coin_tosses contains the coin tosses for 10 series of 10000 times of coin tosses\n",
    "coin_tosses = (np.random.rand(10000, 10) < heads_proba).astype(np.int32) \n",
    "cumulative_sum_of_number_of_heads = np.cumsum(coin_tosses, axis=0)\n",
    "cumulative_heads_ratio = cumulative_sum_of_number_of_heads / np.arange(1, 10001).reshape(-1, 1)\n",
    "cumulative_heads_ratio\n"
   ]
  },
  {
   "cell_type": "markdown",
   "metadata": {},
   "source": [
    "#### Now let's visualize that the probability reaches 51 with increasing number of trials"
   ]
  },
  {
   "cell_type": "code",
   "execution_count": 6,
   "metadata": {},
   "outputs": [
    {
     "name": "stdout",
     "output_type": "stream",
     "text": [
      "Saving figure law_of_large_numbers_plot\n"
     ]
    },
    {
     "data": {
      "image/png": "[encoded data removed]",
      "text/plain": [
       "<matplotlib.figure.Figure at 0x7f28185a5f98>"
      ]
     },
     "metadata": {},
     "output_type": "display_data"
    }
   ],
   "source": [
    "plt.figure(figsize=(8, 3.5))\n",
    "plt.plot(cumulative_heads_ratio)\n",
    "plt.plot([0, 10000], [0.51, 0.51], \"k--\", linewidth=2, label=\"51%\")\n",
    "plt.plot([0, 10000], [0.5, 0.5], \"k-\", label=\"50%\")\n",
    "plt.xlabel(\"Number of coin tosses\")\n",
    "plt.ylabel(\"Heads ratio\")\n",
    "plt.legend(loc=\"lower right\")\n",
    "plt.axis([0, 10000, 0.42, 0.63])\n",
    "save_fig(\"law_of_large_numbers_plot\")\n",
    "plt.show()\n"
   ]
  },
  {
   "cell_type": "markdown",
   "metadata": {},
   "source": [
    "Ensemble methods work best when the predictors are \n",
    "\n",
    "+ As independent from one another as possible. \n",
    "+ One way to get diverse classifiers is to train them using very different algorithms. \n",
    "+ This increases the chance that they will make very different types of errors, improving the ensemble’s accuracy.\n"
   ]
  },
  {
   "cell_type": "markdown",
   "metadata": {},
   "source": [
    "Let's train a voting classifier and check if it performs better than the individual classifiers"
   ]
  },
  {
   "cell_type": "code",
   "execution_count": 7,
   "metadata": {},
   "outputs": [
    {
     "data": {
      "text/plain": [
       "<matplotlib.collections.PathCollection at 0x7f280d9c8908>"
      ]
     },
     "execution_count": 7,
     "metadata": {},
     "output_type": "execute_result"
    },
    {
     "data": {
      "image/png": "[encoded data removed]",
      "text/plain": [
       "<matplotlib.figure.Figure at 0x7f280dc1acc0>"
      ]
     },
     "metadata": {},
     "output_type": "display_data"
    }
   ],
   "source": [
    "from sklearn.model_selection import train_test_split\n",
    "from sklearn.datasets import make_moons\n",
    "\n",
    "X, y = make_moons(n_samples=500, noise=0.3, random_state=42)\n",
    "X_train, X_test, y_train, y_test = train_test_split(X, y, random_state=42)\n",
    "\n",
    "plt.scatter(X[:,0], X[:, 1], c=y)\n"
   ]
  },
  {
   "cell_type": "code",
   "execution_count": 8,
   "metadata": {},
   "outputs": [
    {
     "data": {
      "text/plain": [
       "VotingClassifier(estimators=[('lr', LogisticRegression(C=1.0, class_weight=None, dual=False, fit_intercept=True,\n",
       "          intercept_scaling=1, max_iter=100, multi_class='ovr', n_jobs=1,\n",
       "          penalty='l2', random_state=42, solver='liblinear', tol=0.0001,\n",
       "          verbose=0, warm_start=False)), ('rf', RandomFor...f',\n",
       "  max_iter=-1, probability=False, random_state=42, shrinking=True,\n",
       "  tol=0.001, verbose=False))],\n",
       "         flatten_transform=None, n_jobs=1, voting='hard', weights=None)"
      ]
     },
     "execution_count": 8,
     "metadata": {},
     "output_type": "execute_result"
    }
   ],
   "source": [
    "from sklearn.ensemble import RandomForestClassifier\n",
    "from sklearn.ensemble import VotingClassifier\n",
    "from sklearn.linear_model import LogisticRegression\n",
    "from sklearn.svm import SVC\n",
    "\n",
    "log_clf = LogisticRegression(random_state=42)\n",
    "rnd_clf = RandomForestClassifier(random_state=42)\n",
    "svm_clf = SVC(random_state=42)\n",
    "\n",
    "voting_clf = VotingClassifier(\n",
    "    estimators=[('lr', log_clf), ('rf', rnd_clf), ('svc', svm_clf)],\n",
    "    voting='hard')\n",
    "voting_clf.fit(X_train, y_train)"
   ]
  },
  {
   "cell_type": "code",
   "execution_count": 9,
   "metadata": {},
   "outputs": [
    {
     "name": "stdout",
     "output_type": "stream",
     "text": [
      "LogisticRegression 0.864\n",
      "RandomForestClassifier 0.872\n",
      "SVC 0.888\n",
      "VotingClassifier 0.896\n"
     ]
    }
   ],
   "source": [
    "from sklearn.metrics import accuracy_score\n",
    "\n",
    "for clf in (log_clf, rnd_clf, svm_clf, voting_clf):\n",
    "    clf.fit(X_train, y_train)\n",
    "    y_pred = clf.predict(X_test)\n",
    "    print(clf.__class__.__name__, accuracy_score(y_test, y_pred))"
   ]
  },
  {
   "cell_type": "markdown",
   "metadata": {},
   "source": [
    "**The voting classifier slightly outperforms all the individual classifiers.**\n"
   ]
  },
  {
   "cell_type": "markdown",
   "metadata": {},
   "source": [
    "## Hard voting and Soft voting\n",
    "\n",
    "+ If all classifiers are able to **estimate class probabilities (i.e., they have a predict_proba() method)**, then you can tell Scikit-Learn **to predict the class with the highest class probability, averaged over all the individual classifiers. This is called soft voting.**\n",
    "\n",
    "+ It often achieves higher performance than hard voting because it gives more weight to highly confident votes. All you need to do is replace voting=\"hard\" with voting=\"soft\" and ensure that all classifiers can estimate class probabilities. \n",
    "\n",
    "+ This is not the case of the SVC class by default, so you need to set its probability hyperparameter to True (this will make the SVC class use cross-validation to estimate class probabilities, slowing down training, and it will add a predict_proba() method). \n",
    "\n",
    "Let us modify the preceding code to use soft voting, you will find that the voting classifier achieves over 91% accuracy!"
   ]
  },
  {
   "cell_type": "code",
   "execution_count": 10,
   "metadata": {},
   "outputs": [
    {
     "data": {
      "text/plain": [
       "VotingClassifier(estimators=[('lr', LogisticRegression(C=1.0, class_weight=None, dual=False, fit_intercept=True,\n",
       "          intercept_scaling=1, max_iter=100, multi_class='ovr', n_jobs=1,\n",
       "          penalty='l2', random_state=42, solver='liblinear', tol=0.0001,\n",
       "          verbose=0, warm_start=False)), ('rf', RandomFor...bf',\n",
       "  max_iter=-1, probability=True, random_state=42, shrinking=True,\n",
       "  tol=0.001, verbose=False))],\n",
       "         flatten_transform=None, n_jobs=1, voting='soft', weights=None)"
      ]
     },
     "execution_count": 10,
     "metadata": {},
     "output_type": "execute_result"
    }
   ],
   "source": [
    "log_clf = LogisticRegression(random_state=42)\n",
    "rnd_clf = RandomForestClassifier(random_state=42)\n",
    "svm_clf = SVC(random_state=42, probability=True)\n",
    "\n",
    "voting_clf = VotingClassifier(\n",
    "    estimators=[('lr', log_clf), ('rf', rnd_clf), ('svc', svm_clf)],\n",
    "    voting='soft')\n",
    "voting_clf.fit(X_train, y_train)"
   ]
  },
  {
   "cell_type": "code",
   "execution_count": 11,
   "metadata": {},
   "outputs": [
    {
     "name": "stdout",
     "output_type": "stream",
     "text": [
      "LogisticRegression 0.864\n",
      "RandomForestClassifier 0.872\n",
      "SVC 0.888\n",
      "VotingClassifier 0.912\n"
     ]
    }
   ],
   "source": [
    "for clf in (log_clf, rnd_clf, svm_clf, voting_clf):\n",
    "    clf.fit(X_train, y_train)\n",
    "    y_pred = clf.predict(X_test)\n",
    "    print(clf.__class__.__name__, accuracy_score(y_test, y_pred))"
   ]
  },
  {
   "cell_type": "markdown",
   "metadata": {},
   "source": [
    "## Bagging and Pasting\n",
    "\n",
    "+ One way to get a diverse set of classifiers is to use very different training algorithms, as just discussed.\n",
    "+ Another approach is to use the same training algorithm for every predictor, but to train them on different random subsets of the training set. \n",
    "\n",
    "\n",
    "+ When sampling **is performed with replacement, this method is called bagging (short for bootstrap aggregating2)**. \n",
    "+ When sampling **is performed without replacement, it is called pasting**.\n",
    "\n",
    "\n",
    "In other words, both bagging and pasting allow training instances to be sampled several times across multiple predictors, but only bagging allows training instances to be sampled several times for the same predictor"
   ]
  },
  {
   "cell_type": "markdown",
   "metadata": {},
   "source": [
    "![Pasting and Bagging](images/ensembles/pasting_bagging.png)"
   ]
  },
  {
   "cell_type": "markdown",
   "metadata": {},
   "source": [
    "+ Once all predictors are trained, the ensemble can make a prediction for a new instance by simply aggregating the predictions of all predictors.\n",
    "+ The aggregation function is typically the statistical mode (i.e., the most frequent prediction, just like a hard voting classifier) for classification, or the average for regression."
   ]
  },
  {
   "cell_type": "markdown",
   "metadata": {},
   "source": [
    "Each individual predictor has a higher bias than if it were trained on the original training set, but aggregation reduces both bias and variance. Generally, the net result is that the ensemble has a similar bias but a lower variance than a single predictor trained on the original training set.\n",
    "\n",
    "\n",
    "**As you can see in Figure 7-4, predictors can all be trained in parallel, via different CPU cores or even different servers. Similarly, predictions can be made in parallel. This is one of the reasons why bagging and pasting are such popular methods: they scale very well.**"
   ]
  },
  {
   "cell_type": "markdown",
   "metadata": {},
   "source": [
    "The following code trains an ensemble of 500 Decision Tree classifiers, each trained on 100 training instances randomly sampled from **the training set with replacement (this is an example of bagging, but if you want to use pasting instead, just set bootstrap=False)**.\n",
    "\n",
    "\n",
    "The n_jobs parameter tells Scikit-Learn the **number of CPU cores to use for training and predictions (–1 tells Scikit-Learn to use all available cores)**:"
   ]
  },
  {
   "cell_type": "code",
   "execution_count": 12,
   "metadata": {
    "collapsed": true
   },
   "outputs": [],
   "source": [
    "from sklearn.ensemble import BaggingClassifier \n",
    "from sklearn.tree import DecisionTreeClassifier\n",
    "\n",
    "bag_clf = BaggingClassifier( \n",
    "    DecisionTreeClassifier(), \n",
    "    n_estimators=500, \n",
    "    max_samples=100, \n",
    "    bootstrap=True, \n",
    "    n_jobs=-1\n",
    ")\n",
    "\n",
    "bag_clf.fit(X_train, y_train)\n",
    "y_pred = bag_clf.predict(X_test)"
   ]
  },
  {
   "cell_type": "code",
   "execution_count": 13,
   "metadata": {
    "scrolled": false
   },
   "outputs": [
    {
     "name": "stdout",
     "output_type": "stream",
     "text": [
      "375 90 285\n",
      "375 93 282\n",
      "375 88 287\n",
      "375 88 287\n",
      "375 84 291\n",
      "375 88 287\n",
      "375 93 282\n",
      "375 90 285\n",
      "375 88 287\n",
      "375 87 288\n",
      "375 90 285\n",
      "375 90 285\n",
      "375 82 293\n",
      "375 90 285\n",
      "375 94 281\n",
      "375 89 286\n",
      "375 84 291\n",
      "375 88 287\n",
      "375 84 291\n",
      "375 91 284\n",
      "375 92 283\n",
      "375 87 288\n",
      "375 84 291\n",
      "375 83 292\n",
      "375 85 290\n",
      "375 88 287\n",
      "375 88 287\n",
      "375 84 291\n",
      "375 90 285\n",
      "375 84 291\n",
      "375 85 290\n",
      "375 88 287\n",
      "375 84 291\n",
      "375 92 283\n",
      "375 88 287\n",
      "375 86 289\n",
      "375 88 287\n",
      "375 88 287\n",
      "375 83 292\n",
      "375 90 285\n",
      "375 84 291\n",
      "375 85 290\n",
      "375 85 290\n",
      "375 96 279\n",
      "375 89 286\n",
      "375 89 286\n",
      "375 84 291\n",
      "375 92 283\n",
      "375 88 287\n",
      "375 87 288\n",
      "375 85 290\n",
      "375 89 286\n",
      "375 94 281\n",
      "375 91 284\n",
      "375 87 288\n",
      "375 91 284\n",
      "375 89 286\n",
      "375 87 288\n",
      "375 87 288\n",
      "375 91 284\n",
      "375 86 289\n",
      "375 89 286\n",
      "375 82 293\n",
      "375 82 293\n",
      "375 86 289\n",
      "375 88 287\n",
      "375 92 283\n",
      "375 91 284\n",
      "375 86 289\n",
      "375 89 286\n",
      "375 88 287\n",
      "375 85 290\n",
      "375 85 290\n",
      "375 87 288\n",
      "375 86 289\n",
      "375 86 289\n",
      "375 89 286\n",
      "375 87 288\n",
      "375 89 286\n",
      "375 86 289\n",
      "375 86 289\n",
      "375 84 291\n",
      "375 87 288\n",
      "375 87 288\n",
      "375 89 286\n",
      "375 90 285\n",
      "375 89 286\n",
      "375 91 284\n",
      "375 90 285\n",
      "375 90 285\n",
      "375 89 286\n",
      "375 87 288\n",
      "375 89 286\n",
      "375 90 285\n",
      "375 88 287\n",
      "375 82 293\n",
      "375 84 291\n",
      "375 89 286\n",
      "375 91 284\n",
      "375 85 290\n",
      "375 85 290\n",
      "375 88 287\n",
      "375 85 290\n",
      "375 79 296\n",
      "375 91 284\n",
      "375 93 282\n",
      "375 93 282\n",
      "375 81 294\n",
      "375 87 288\n",
      "375 88 287\n",
      "375 87 288\n",
      "375 94 281\n",
      "375 92 283\n",
      "375 90 285\n",
      "375 91 284\n",
      "375 91 284\n",
      "375 87 288\n",
      "375 87 288\n",
      "375 87 288\n",
      "375 85 290\n",
      "375 90 285\n",
      "375 86 289\n",
      "375 91 284\n",
      "375 86 289\n",
      "375 88 287\n",
      "375 90 285\n",
      "375 89 286\n",
      "375 91 284\n",
      "375 89 286\n",
      "375 87 288\n",
      "375 90 285\n",
      "375 86 289\n",
      "375 85 290\n",
      "375 88 287\n",
      "375 86 289\n",
      "375 90 285\n",
      "375 86 289\n",
      "375 86 289\n",
      "375 82 293\n",
      "375 90 285\n",
      "375 93 282\n",
      "375 84 291\n",
      "375 86 289\n",
      "375 90 285\n",
      "375 87 288\n",
      "375 85 290\n",
      "375 88 287\n",
      "375 86 289\n",
      "375 87 288\n",
      "375 88 287\n",
      "375 86 289\n",
      "375 89 286\n",
      "375 87 288\n",
      "375 89 286\n",
      "375 89 286\n",
      "375 91 284\n",
      "375 88 287\n",
      "375 90 285\n",
      "375 89 286\n",
      "375 89 286\n",
      "375 84 291\n",
      "375 84 291\n",
      "375 88 287\n",
      "375 93 282\n",
      "375 87 288\n",
      "375 91 284\n",
      "375 89 286\n",
      "375 86 289\n",
      "375 91 284\n",
      "375 87 288\n",
      "375 95 280\n",
      "375 85 290\n",
      "375 84 291\n",
      "375 88 287\n",
      "375 84 291\n",
      "375 88 287\n",
      "375 95 280\n",
      "375 84 291\n",
      "375 90 285\n",
      "375 88 287\n",
      "375 91 284\n",
      "375 92 283\n",
      "375 86 289\n",
      "375 93 282\n",
      "375 90 285\n",
      "375 93 282\n",
      "375 95 280\n",
      "375 89 286\n",
      "375 86 289\n",
      "375 84 291\n",
      "375 85 290\n",
      "375 88 287\n",
      "375 87 288\n",
      "375 90 285\n",
      "375 92 283\n",
      "375 84 291\n",
      "375 90 285\n",
      "375 90 285\n",
      "375 88 287\n",
      "375 88 287\n",
      "375 86 289\n",
      "375 93 282\n",
      "375 93 282\n",
      "375 94 281\n",
      "375 89 286\n",
      "375 87 288\n",
      "375 86 289\n",
      "375 87 288\n",
      "375 84 291\n",
      "375 86 289\n",
      "375 90 285\n",
      "375 90 285\n",
      "375 89 286\n",
      "375 88 287\n",
      "375 92 283\n",
      "375 83 292\n",
      "375 84 291\n",
      "375 91 284\n",
      "375 86 289\n",
      "375 87 288\n",
      "375 87 288\n",
      "375 89 286\n",
      "375 89 286\n",
      "375 86 289\n",
      "375 84 291\n",
      "375 87 288\n",
      "375 86 289\n",
      "375 86 289\n",
      "375 90 285\n",
      "375 87 288\n",
      "375 92 283\n",
      "375 87 288\n",
      "375 87 288\n",
      "375 92 283\n",
      "375 90 285\n",
      "375 85 290\n",
      "375 86 289\n",
      "375 88 287\n",
      "375 90 285\n",
      "375 87 288\n",
      "375 87 288\n",
      "375 85 290\n",
      "375 85 290\n",
      "375 86 289\n",
      "375 85 290\n",
      "375 89 286\n",
      "375 86 289\n",
      "375 89 286\n",
      "375 92 283\n",
      "375 90 285\n",
      "375 87 288\n",
      "375 87 288\n",
      "375 92 283\n",
      "375 89 286\n",
      "375 89 286\n",
      "375 90 285\n",
      "375 89 286\n",
      "375 87 288\n",
      "375 84 291\n",
      "375 88 287\n",
      "375 87 288\n",
      "375 82 293\n",
      "375 87 288\n",
      "375 87 288\n",
      "375 92 283\n",
      "375 87 288\n",
      "375 92 283\n",
      "375 85 290\n",
      "375 87 288\n",
      "375 90 285\n",
      "375 87 288\n",
      "375 88 287\n",
      "375 89 286\n",
      "375 87 288\n",
      "375 89 286\n",
      "375 88 287\n",
      "375 86 289\n",
      "375 87 288\n",
      "375 86 289\n",
      "375 88 287\n",
      "375 89 286\n",
      "375 90 285\n",
      "375 92 283\n",
      "375 87 288\n",
      "375 92 283\n",
      "375 91 284\n",
      "375 84 291\n",
      "375 88 287\n",
      "375 88 287\n",
      "375 86 289\n",
      "375 88 287\n",
      "375 86 289\n",
      "375 87 288\n",
      "375 89 286\n",
      "375 88 287\n",
      "375 87 288\n",
      "375 84 291\n",
      "375 89 286\n",
      "375 90 285\n",
      "375 92 283\n",
      "375 91 284\n",
      "375 91 284\n",
      "375 89 286\n",
      "375 91 284\n",
      "375 92 283\n",
      "375 88 287\n",
      "375 87 288\n",
      "375 88 287\n",
      "375 92 283\n",
      "375 86 289\n",
      "375 87 288\n",
      "375 86 289\n",
      "375 91 284\n",
      "375 82 293\n",
      "375 84 291\n",
      "375 90 285\n",
      "375 89 286\n",
      "375 83 292\n",
      "375 87 288\n",
      "375 86 289\n",
      "375 83 292\n",
      "375 95 280\n",
      "375 86 289\n",
      "375 88 287\n",
      "375 90 285\n",
      "375 84 291\n",
      "375 87 288\n",
      "375 85 290\n",
      "375 89 286\n",
      "375 82 293\n",
      "375 89 286\n",
      "375 86 289\n",
      "375 90 285\n",
      "375 90 285\n",
      "375 84 291\n",
      "375 87 288\n",
      "375 91 284\n",
      "375 86 289\n",
      "375 85 290\n",
      "375 93 282\n",
      "375 86 289\n",
      "375 93 282\n",
      "375 89 286\n",
      "375 86 289\n",
      "375 89 286\n",
      "375 93 282\n",
      "375 86 289\n",
      "375 90 285\n",
      "375 87 288\n",
      "375 92 283\n",
      "375 87 288\n",
      "375 89 286\n",
      "375 89 286\n",
      "375 89 286\n",
      "375 90 285\n",
      "375 92 283\n",
      "375 92 283\n",
      "375 90 285\n",
      "375 87 288\n",
      "375 87 288\n",
      "375 86 289\n",
      "375 86 289\n",
      "375 86 289\n",
      "375 86 289\n",
      "375 83 292\n",
      "375 93 282\n",
      "375 91 284\n",
      "375 87 288\n",
      "375 87 288\n",
      "375 94 281\n",
      "375 85 290\n",
      "375 84 291\n",
      "375 91 284\n",
      "375 88 287\n",
      "375 88 287\n",
      "375 87 288\n",
      "375 88 287\n",
      "375 93 282\n",
      "375 87 288\n",
      "375 86 289\n",
      "375 86 289\n",
      "375 86 289\n",
      "375 86 289\n",
      "375 87 288\n",
      "375 86 289\n",
      "375 88 287\n",
      "375 86 289\n",
      "375 86 289\n",
      "375 85 290\n",
      "375 86 289\n",
      "375 90 285\n",
      "375 86 289\n",
      "375 90 285\n",
      "375 84 291\n",
      "375 93 282\n",
      "375 88 287\n",
      "375 90 285\n",
      "375 82 293\n",
      "375 87 288\n",
      "375 86 289\n",
      "375 83 292\n",
      "375 91 284\n",
      "375 88 287\n",
      "375 89 286\n",
      "375 88 287\n",
      "375 91 284\n",
      "375 86 289\n",
      "375 88 287\n",
      "375 87 288\n",
      "375 87 288\n",
      "375 87 288\n",
      "375 93 282\n",
      "375 85 290\n",
      "375 87 288\n",
      "375 87 288\n",
      "375 93 282\n",
      "375 86 289\n",
      "375 85 290\n",
      "375 88 287\n",
      "375 84 291\n",
      "375 88 287\n",
      "375 89 286\n",
      "375 86 289\n",
      "375 92 283\n",
      "375 91 284\n",
      "375 88 287\n",
      "375 87 288\n",
      "375 89 286\n",
      "375 91 284\n",
      "375 86 289\n",
      "375 90 285\n",
      "375 87 288\n",
      "375 86 289\n",
      "375 85 290\n",
      "375 81 294\n",
      "375 84 291\n",
      "375 88 287\n",
      "375 87 288\n",
      "375 83 292\n",
      "375 94 281\n",
      "375 85 290\n",
      "375 90 285\n",
      "375 85 290\n",
      "375 84 291\n",
      "375 86 289\n",
      "375 89 286\n",
      "375 88 287\n",
      "375 87 288\n",
      "375 91 284\n",
      "375 86 289\n",
      "375 90 285\n",
      "375 87 288\n",
      "375 93 282\n",
      "375 86 289\n",
      "375 90 285\n",
      "375 91 284\n",
      "375 93 282\n",
      "375 92 283\n",
      "375 89 286\n",
      "375 88 287\n",
      "375 90 285\n",
      "375 87 288\n",
      "375 84 291\n",
      "375 93 282\n",
      "375 89 286\n",
      "375 92 283\n",
      "375 90 285\n",
      "375 89 286\n",
      "375 92 283\n",
      "375 92 283\n",
      "375 89 286\n",
      "375 90 285\n",
      "375 84 291\n",
      "375 87 288\n",
      "375 84 291\n",
      "375 84 291\n",
      "375 87 288\n",
      "375 88 287\n",
      "375 92 283\n",
      "375 88 287\n",
      "375 89 286\n",
      "375 85 290\n",
      "375 90 285\n",
      "375 89 286\n",
      "375 91 284\n",
      "375 90 285\n",
      "375 91 284\n",
      "375 89 286\n",
      "375 86 289\n",
      "375 89 286\n",
      "375 90 285\n",
      "375 85 290\n",
      "375 95 280\n",
      "375 85 290\n",
      "375 90 285\n",
      "375 85 290\n",
      "375 89 286\n",
      "375 89 286\n",
      "375 92 283\n",
      "375 87 288\n"
     ]
    }
   ],
   "source": [
    "for sample in bag_clf.estimators_samples_:\n",
    "    count = 0\n",
    "    trues = 0\n",
    "    falses = 0\n",
    "    for i in sample:\n",
    "        count +=1\n",
    "        if i:\n",
    "            trues += 1\n",
    "        else:\n",
    "            falses += 1\n",
    "    print (count, trues, falses)"
   ]
  },
  {
   "cell_type": "markdown",
   "metadata": {},
   "source": [
    "**The BaggingClassifier automatically performs soft voting instead of hard voting if the base classifier can estimate class probabilities (i.e., if it has a predict_proba() method), which is the case with Decision Trees classifiers.**"
   ]
  },
  {
   "cell_type": "markdown",
   "metadata": {},
   "source": [
    "As you can see, the ensemble’s predictions will likely generalize much better than the single Decision Tree’s predictions: the ensemble has a comparable bias but a smaller variance (it makes roughly the same number of errors on the training set, but the decision boundary is less irregular)."
   ]
  },
  {
   "cell_type": "code",
   "execution_count": 14,
   "metadata": {},
   "outputs": [
    {
     "name": "stdout",
     "output_type": "stream",
     "text": [
      "0.92\n"
     ]
    }
   ],
   "source": [
    "from sklearn.metrics import accuracy_score\n",
    "print(accuracy_score(y_test, y_pred))"
   ]
  },
  {
   "cell_type": "markdown",
   "metadata": {},
   "source": [
    "whereas for the individual tree we have"
   ]
  },
  {
   "cell_type": "code",
   "execution_count": 15,
   "metadata": {},
   "outputs": [
    {
     "name": "stdout",
     "output_type": "stream",
     "text": [
      "0.856\n"
     ]
    }
   ],
   "source": [
    "tree_clf = DecisionTreeClassifier(random_state=42)\n",
    "tree_clf.fit(X_train, y_train)\n",
    "y_pred_tree = tree_clf.predict(X_test)\n",
    "print(accuracy_score(y_test, y_pred_tree))"
   ]
  },
  {
   "cell_type": "markdown",
   "metadata": {},
   "source": [
    "Let's visualize how the Bagging classifier generalizes well on the data"
   ]
  },
  {
   "cell_type": "code",
   "execution_count": 16,
   "metadata": {
    "collapsed": true
   },
   "outputs": [],
   "source": [
    "from matplotlib.colors import ListedColormap\n",
    "\n",
    "def plot_decision_boundary(clf, X, y, axes=[-1.5, 2.5, -1, 1.5], alpha=0.5, contour=True):\n",
    "    x1s = np.linspace(axes[0], axes[1], 100)\n",
    "    x2s = np.linspace(axes[2], axes[3], 100)\n",
    "    x1, x2 = np.meshgrid(x1s, x2s)\n",
    "    X_new = np.c_[x1.ravel(), x2.ravel()]\n",
    "    y_pred = clf.predict(X_new).reshape(x1.shape)\n",
    "    custom_cmap = ListedColormap(['#fafab0','#9898ff','#a0faa0'])\n",
    "    plt.contourf(x1, x2, y_pred, alpha=0.3, cmap=custom_cmap, linewidth=10)\n",
    "    if contour:\n",
    "        custom_cmap2 = ListedColormap(['#7d7d58','#4c4c7f','#507d50'])\n",
    "        plt.contour(x1, x2, y_pred, cmap=custom_cmap2, alpha=0.8)\n",
    "    plt.plot(X[:, 0][y==0], X[:, 1][y==0], \"yo\", alpha=alpha)\n",
    "    plt.plot(X[:, 0][y==1], X[:, 1][y==1], \"bs\", alpha=alpha)\n",
    "    plt.axis(axes)\n",
    "    plt.xlabel(r\"$x_1$\", fontsize=18)\n",
    "    plt.ylabel(r\"$x_2$\", fontsize=18, rotation=0)"
   ]
  },
  {
   "cell_type": "code",
   "execution_count": 17,
   "metadata": {},
   "outputs": [
    {
     "name": "stderr",
     "output_type": "stream",
     "text": [
      "/usr/local/anaconda/envs/py36/lib/python3.6/site-packages/matplotlib/contour.py:967: UserWarning: The following kwargs were not used by contour: 'linewidth'\n",
      "  s)\n"
     ]
    },
    {
     "name": "stdout",
     "output_type": "stream",
     "text": [
      "Saving figure decision_tree_without_and_with_bagging_plot\n"
     ]
    },
    {
     "data": {
      "image/png": "[encoded data removed]",
      "text/plain": [
       "<matplotlib.figure.Figure at 0x7f28185a5128>"
      ]
     },
     "metadata": {},
     "output_type": "display_data"
    }
   ],
   "source": [
    "plt.figure(figsize=(11,4))\n",
    "plt.subplot(121)\n",
    "plot_decision_boundary(tree_clf, X, y)\n",
    "plt.title(\"Decision Tree\", fontsize=14)\n",
    "plt.subplot(122)\n",
    "plot_decision_boundary(bag_clf, X, y)\n",
    "plt.title(\"Decision Trees with Bagging\", fontsize=14)\n",
    "save_fig(\"decision_tree_without_and_with_bagging_plot\")\n",
    "plt.show()"
   ]
  },
  {
   "cell_type": "markdown",
   "metadata": {},
   "source": [
    "Bootstrapping introduces a bit more diversity in the subsets that each predictor is trained on, so bagging ends up with a slightly higher bias than pasting, but this also means that predictors end up being less correlated so the ensemble’s variance is reduced. \n",
    "\n",
    "Overall, bagging often results in better models, which explains why it is generally preferred."
   ]
  },
  {
   "cell_type": "markdown",
   "metadata": {},
   "source": [
    "## Out of Bag Evaluation\n",
    "\n",
    "With bagging, some instances may be sampled several times for any given predictor, while others may not be sampled at all. \n",
    "**By default a BaggingClassifier samples m training instances with replacement (bootstrap=True), where m is the size of the training set**\n",
    "\n",
    "\n",
    "This means that only about 63% of the training instances are sampled on average for each predictor. \n",
    "**As m grows, this ratio approaches 1 – exp(–1) ≈ 63.212%.**\n",
    "The remaining 37% of the training instances that are not sampled are called out-of-bag (oob) instances. Note that they are not the same 37% for all predictors.\n"
   ]
  },
  {
   "cell_type": "markdown",
   "metadata": {},
   "source": [
    "**Since a predictor never sees the oob instances during training, it can be evaluated on these instances, without the need for a separate validation set or cross-validation. You can evaluate the ensemble itself by averaging out the oob evaluations of each predictor.\n",
    "In Scikit-Learn, you can set oob_score=True when creating a BaggingClassifier to request an\n",
    "automatic oob evaluation after training. **\n",
    "\n",
    "The following code demonstrates this. The resulting evaluation score is available through the **oob\\_score\\_** variable:"
   ]
  },
  {
   "cell_type": "code",
   "execution_count": 18,
   "metadata": {},
   "outputs": [
    {
     "data": {
      "text/plain": [
       "0.89866666666666661"
      ]
     },
     "execution_count": 18,
     "metadata": {},
     "output_type": "execute_result"
    }
   ],
   "source": [
    "bag_clf = BaggingClassifier( \n",
    "    DecisionTreeClassifier(), \n",
    "    n_estimators=500,\n",
    "    bootstrap=True, \n",
    "    random_state=42,\n",
    "    n_jobs=-1, \n",
    "    oob_score=True)\n",
    "bag_clf.fit(X_train, y_train) \n",
    "bag_clf.oob_score_"
   ]
  },
  {
   "cell_type": "code",
   "execution_count": 19,
   "metadata": {},
   "outputs": [
    {
     "data": {
      "text/plain": [
       "0.91200000000000003"
      ]
     },
     "execution_count": 19,
     "metadata": {},
     "output_type": "execute_result"
    }
   ],
   "source": [
    "from sklearn.metrics import accuracy_score\n",
    "y_pred = bag_clf.predict(X_test)\n",
    "accuracy_score(y_test, y_pred)"
   ]
  },
  {
   "cell_type": "code",
   "execution_count": 20,
   "metadata": {},
   "outputs": [
    {
     "data": {
      "text/plain": [
       "BaggingClassifier(base_estimator=DecisionTreeClassifier(class_weight=None, criterion='gini', max_depth=None,\n",
       "            max_features=None, max_leaf_nodes=None,\n",
       "            min_impurity_decrease=0.0, min_impurity_split=None,\n",
       "            min_samples_leaf=1, min_samples_split=2,\n",
       "            min_weight_fraction_leaf=0.0, presort=False, random_state=None,\n",
       "            splitter='best'),\n",
       "         bootstrap=True, bootstrap_features=False, max_features=1.0,\n",
       "         max_samples=1.0, n_estimators=500, n_jobs=-1, oob_score=True,\n",
       "         random_state=42, verbose=0, warm_start=False)"
      ]
     },
     "execution_count": 20,
     "metadata": {},
     "output_type": "execute_result"
    }
   ],
   "source": [
    "bag_clf"
   ]
  },
  {
   "cell_type": "code",
   "execution_count": 21,
   "metadata": {
    "scrolled": false
   },
   "outputs": [
    {
     "name": "stdout",
     "output_type": "stream",
     "text": [
      "375 234 141\n",
      "375 231 144\n",
      "375 229 146\n",
      "375 233 142\n",
      "375 224 151\n",
      "375 235 140\n",
      "375 241 134\n",
      "375 236 139\n",
      "375 240 135\n",
      "375 229 146\n",
      "375 230 145\n",
      "375 234 141\n",
      "375 237 138\n",
      "375 235 140\n",
      "375 250 125\n",
      "375 234 141\n",
      "375 241 134\n",
      "375 238 137\n",
      "375 238 137\n",
      "375 242 133\n",
      "375 241 134\n",
      "375 232 143\n",
      "375 234 141\n",
      "375 236 139\n",
      "375 242 133\n",
      "375 234 141\n",
      "375 239 136\n",
      "375 237 138\n",
      "375 239 136\n",
      "375 229 146\n",
      "375 236 139\n",
      "375 240 135\n",
      "375 238 137\n",
      "375 230 145\n",
      "375 237 138\n",
      "375 250 125\n",
      "375 237 138\n",
      "375 237 138\n",
      "375 234 141\n",
      "375 241 134\n",
      "375 230 145\n",
      "375 239 136\n",
      "375 233 142\n",
      "375 234 141\n",
      "375 235 140\n",
      "375 240 135\n",
      "375 243 132\n",
      "375 235 140\n",
      "375 237 138\n",
      "375 228 147\n",
      "375 238 137\n",
      "375 243 132\n",
      "375 233 142\n",
      "375 241 134\n",
      "375 235 140\n",
      "375 227 148\n",
      "375 237 138\n",
      "375 237 138\n",
      "375 233 142\n",
      "375 234 141\n",
      "375 235 140\n",
      "375 233 142\n",
      "375 239 136\n",
      "375 251 124\n",
      "375 241 134\n",
      "375 245 130\n",
      "375 230 145\n",
      "375 236 139\n",
      "375 239 136\n",
      "375 233 142\n",
      "375 241 134\n",
      "375 234 141\n",
      "375 229 146\n",
      "375 236 139\n",
      "375 236 139\n",
      "375 234 141\n",
      "375 235 140\n",
      "375 242 133\n",
      "375 232 143\n",
      "375 237 138\n",
      "375 230 145\n",
      "375 234 141\n",
      "375 239 136\n",
      "375 233 142\n",
      "375 235 140\n",
      "375 244 131\n",
      "375 242 133\n",
      "375 241 134\n",
      "375 250 125\n",
      "375 236 139\n",
      "375 229 146\n",
      "375 228 147\n",
      "375 233 142\n",
      "375 227 148\n",
      "375 232 143\n",
      "375 237 138\n",
      "375 232 143\n",
      "375 236 139\n",
      "375 237 138\n",
      "375 236 139\n",
      "375 248 127\n",
      "375 234 141\n",
      "375 247 128\n",
      "375 241 134\n",
      "375 232 143\n",
      "375 234 141\n",
      "375 240 135\n",
      "375 239 136\n",
      "375 239 136\n",
      "375 228 147\n",
      "375 237 138\n",
      "375 231 144\n",
      "375 242 133\n",
      "375 244 131\n",
      "375 242 133\n",
      "375 230 145\n",
      "375 238 137\n",
      "375 231 144\n",
      "375 228 147\n",
      "375 241 134\n",
      "375 236 139\n",
      "375 235 140\n",
      "375 247 128\n",
      "375 232 143\n",
      "375 244 131\n",
      "375 245 130\n",
      "375 228 147\n",
      "375 238 137\n",
      "375 238 137\n",
      "375 240 135\n",
      "375 252 123\n",
      "375 226 149\n",
      "375 240 135\n",
      "375 235 140\n",
      "375 247 128\n",
      "375 244 131\n",
      "375 240 135\n",
      "375 233 142\n",
      "375 229 146\n",
      "375 230 145\n",
      "375 230 145\n",
      "375 245 130\n",
      "375 236 139\n",
      "375 232 143\n",
      "375 221 154\n",
      "375 235 140\n",
      "375 244 131\n",
      "375 241 134\n",
      "375 242 133\n",
      "375 242 133\n",
      "375 228 147\n",
      "375 239 136\n",
      "375 240 135\n",
      "375 243 132\n",
      "375 243 132\n",
      "375 229 146\n",
      "375 234 141\n",
      "375 235 140\n",
      "375 236 139\n",
      "375 227 148\n",
      "375 236 139\n",
      "375 229 146\n",
      "375 239 136\n",
      "375 248 127\n",
      "375 242 133\n",
      "375 242 133\n",
      "375 234 141\n",
      "375 241 134\n",
      "375 229 146\n",
      "375 235 140\n",
      "375 231 144\n",
      "375 229 146\n",
      "375 231 144\n",
      "375 241 134\n",
      "375 237 138\n",
      "375 238 137\n",
      "375 234 141\n",
      "375 236 139\n",
      "375 238 137\n",
      "375 234 141\n",
      "375 252 123\n",
      "375 236 139\n",
      "375 242 133\n",
      "375 243 132\n",
      "375 244 131\n",
      "375 232 143\n",
      "375 231 144\n",
      "375 245 130\n",
      "375 240 135\n",
      "375 237 138\n",
      "375 224 151\n",
      "375 239 136\n",
      "375 233 142\n",
      "375 240 135\n",
      "375 233 142\n",
      "375 231 144\n",
      "375 244 131\n",
      "375 236 139\n",
      "375 235 140\n",
      "375 233 142\n",
      "375 230 145\n",
      "375 234 141\n",
      "375 237 138\n",
      "375 240 135\n",
      "375 237 138\n",
      "375 246 129\n",
      "375 235 140\n",
      "375 234 141\n",
      "375 229 146\n",
      "375 232 143\n",
      "375 230 145\n",
      "375 228 147\n",
      "375 235 140\n",
      "375 243 132\n",
      "375 243 132\n",
      "375 228 147\n",
      "375 236 139\n",
      "375 226 149\n",
      "375 240 135\n",
      "375 250 125\n",
      "375 242 133\n",
      "375 243 132\n",
      "375 240 135\n",
      "375 228 147\n",
      "375 230 145\n",
      "375 243 132\n",
      "375 235 140\n",
      "375 251 124\n",
      "375 238 137\n",
      "375 225 150\n",
      "375 243 132\n",
      "375 239 136\n",
      "375 237 138\n",
      "375 242 133\n",
      "375 239 136\n",
      "375 241 134\n",
      "375 245 130\n",
      "375 237 138\n",
      "375 226 149\n",
      "375 245 130\n",
      "375 233 142\n",
      "375 238 137\n",
      "375 231 144\n",
      "375 233 142\n",
      "375 233 142\n",
      "375 245 130\n",
      "375 237 138\n",
      "375 233 142\n",
      "375 239 136\n",
      "375 247 128\n",
      "375 246 129\n",
      "375 243 132\n",
      "375 236 139\n",
      "375 223 152\n",
      "375 233 142\n",
      "375 242 133\n",
      "375 249 126\n",
      "375 230 145\n",
      "375 239 136\n",
      "375 239 136\n",
      "375 244 131\n",
      "375 252 123\n",
      "375 240 135\n",
      "375 243 132\n",
      "375 245 130\n",
      "375 227 148\n",
      "375 227 148\n",
      "375 236 139\n",
      "375 232 143\n",
      "375 245 130\n",
      "375 233 142\n",
      "375 236 139\n",
      "375 236 139\n",
      "375 226 149\n",
      "375 238 137\n",
      "375 245 130\n",
      "375 240 135\n",
      "375 241 134\n",
      "375 236 139\n",
      "375 253 122\n",
      "375 236 139\n",
      "375 230 145\n",
      "375 235 140\n",
      "375 236 139\n",
      "375 239 136\n",
      "375 237 138\n",
      "375 252 123\n",
      "375 235 140\n",
      "375 229 146\n",
      "375 241 134\n",
      "375 233 142\n",
      "375 247 128\n",
      "375 232 143\n",
      "375 232 143\n",
      "375 223 152\n",
      "375 235 140\n",
      "375 252 123\n",
      "375 235 140\n",
      "375 238 137\n",
      "375 238 137\n",
      "375 234 141\n",
      "375 229 146\n",
      "375 231 144\n",
      "375 233 142\n",
      "375 233 142\n",
      "375 242 133\n",
      "375 232 143\n",
      "375 227 148\n",
      "375 241 134\n",
      "375 231 144\n",
      "375 244 131\n",
      "375 240 135\n",
      "375 238 137\n",
      "375 239 136\n",
      "375 241 134\n",
      "375 232 143\n",
      "375 240 135\n",
      "375 243 132\n",
      "375 237 138\n",
      "375 237 138\n",
      "375 239 136\n",
      "375 228 147\n",
      "375 237 138\n",
      "375 246 129\n",
      "375 237 138\n",
      "375 224 151\n",
      "375 244 131\n",
      "375 234 141\n",
      "375 242 133\n",
      "375 238 137\n",
      "375 229 146\n",
      "375 241 134\n",
      "375 238 137\n",
      "375 233 142\n",
      "375 233 142\n",
      "375 236 139\n",
      "375 235 140\n",
      "375 233 142\n",
      "375 239 136\n",
      "375 227 148\n",
      "375 231 144\n",
      "375 240 135\n",
      "375 234 141\n",
      "375 236 139\n",
      "375 231 144\n",
      "375 243 132\n",
      "375 231 144\n",
      "375 235 140\n",
      "375 235 140\n",
      "375 245 130\n",
      "375 242 133\n",
      "375 220 155\n",
      "375 245 130\n",
      "375 234 141\n",
      "375 243 132\n",
      "375 235 140\n",
      "375 245 130\n",
      "375 239 136\n",
      "375 233 142\n",
      "375 237 138\n",
      "375 238 137\n",
      "375 244 131\n",
      "375 248 127\n",
      "375 234 141\n",
      "375 232 143\n",
      "375 238 137\n",
      "375 233 142\n",
      "375 238 137\n",
      "375 237 138\n",
      "375 236 139\n",
      "375 227 148\n",
      "375 239 136\n",
      "375 240 135\n",
      "375 252 123\n",
      "375 249 126\n",
      "375 239 136\n",
      "375 237 138\n",
      "375 227 148\n",
      "375 239 136\n",
      "375 234 141\n",
      "375 243 132\n",
      "375 235 140\n",
      "375 243 132\n",
      "375 233 142\n",
      "375 237 138\n",
      "375 239 136\n",
      "375 238 137\n",
      "375 235 140\n",
      "375 230 145\n",
      "375 231 144\n",
      "375 242 133\n",
      "375 239 136\n",
      "375 230 145\n",
      "375 239 136\n",
      "375 236 139\n",
      "375 243 132\n",
      "375 247 128\n",
      "375 247 128\n",
      "375 240 135\n",
      "375 238 137\n",
      "375 239 136\n",
      "375 229 146\n",
      "375 238 137\n",
      "375 238 137\n",
      "375 239 136\n",
      "375 235 140\n",
      "375 236 139\n",
      "375 238 137\n",
      "375 243 132\n",
      "375 230 145\n",
      "375 238 137\n",
      "375 227 148\n",
      "375 245 130\n",
      "375 243 132\n",
      "375 251 124\n",
      "375 239 136\n",
      "375 237 138\n",
      "375 238 137\n",
      "375 245 130\n",
      "375 236 139\n",
      "375 248 127\n",
      "375 238 137\n",
      "375 245 130\n",
      "375 239 136\n",
      "375 243 132\n",
      "375 227 148\n",
      "375 235 140\n",
      "375 236 139\n",
      "375 244 131\n",
      "375 239 136\n",
      "375 231 144\n",
      "375 242 133\n",
      "375 236 139\n",
      "375 240 135\n",
      "375 240 135\n",
      "375 235 140\n",
      "375 246 129\n",
      "375 233 142\n",
      "375 239 136\n",
      "375 235 140\n",
      "375 241 134\n",
      "375 238 137\n",
      "375 245 130\n",
      "375 235 140\n",
      "375 234 141\n",
      "375 244 131\n",
      "375 242 133\n",
      "375 240 135\n",
      "375 223 152\n",
      "375 239 136\n",
      "375 231 144\n",
      "375 238 137\n",
      "375 237 138\n",
      "375 233 142\n",
      "375 237 138\n",
      "375 233 142\n",
      "375 241 134\n",
      "375 241 134\n",
      "375 238 137\n",
      "375 231 144\n",
      "375 235 140\n",
      "375 234 141\n",
      "375 242 133\n",
      "375 233 142\n",
      "375 239 136\n",
      "375 239 136\n",
      "375 246 129\n",
      "375 240 135\n",
      "375 231 144\n",
      "375 253 122\n",
      "375 246 129\n",
      "375 236 139\n",
      "375 228 147\n",
      "375 239 136\n",
      "375 240 135\n",
      "375 231 144\n",
      "375 250 125\n",
      "375 234 141\n",
      "375 234 141\n",
      "375 240 135\n",
      "375 236 139\n",
      "375 243 132\n",
      "375 235 140\n",
      "375 233 142\n",
      "375 238 137\n",
      "375 237 138\n",
      "375 236 139\n",
      "375 239 136\n",
      "375 229 146\n",
      "375 243 132\n",
      "375 235 140\n",
      "375 235 140\n",
      "375 238 137\n",
      "375 243 132\n",
      "375 231 144\n",
      "375 231 144\n",
      "375 233 142\n",
      "375 240 135\n",
      "375 240 135\n",
      "375 238 137\n"
     ]
    }
   ],
   "source": [
    "for sample in bag_clf.estimators_samples_:\n",
    "    count = 0\n",
    "    trues = 0\n",
    "    falses = 0\n",
    "    for i in sample:\n",
    "        count +=1\n",
    "        if i:\n",
    "            trues += 1\n",
    "        else:\n",
    "            falses += 1\n",
    "    print (count, trues, falses)"
   ]
  },
  {
   "cell_type": "code",
   "execution_count": 22,
   "metadata": {
    "scrolled": false
   },
   "outputs": [
    {
     "data": {
      "text/plain": [
       "array([[ 0.32352941,  0.67647059],\n",
       "       [ 0.35625   ,  0.64375   ],\n",
       "       [ 1.        ,  0.        ],\n",
       "       [ 0.        ,  1.        ],\n",
       "       [ 0.        ,  1.        ],\n",
       "       [ 0.06145251,  0.93854749],\n",
       "       [ 0.35465116,  0.64534884],\n",
       "       [ 0.01142857,  0.98857143],\n",
       "       [ 0.98930481,  0.01069519],\n",
       "       [ 0.97409326,  0.02590674],\n",
       "       [ 0.7370892 ,  0.2629108 ],\n",
       "       [ 0.0049505 ,  0.9950495 ],\n",
       "       [ 0.75      ,  0.25      ],\n",
       "       [ 0.82681564,  0.17318436],\n",
       "       [ 0.98461538,  0.01538462],\n",
       "       [ 0.06315789,  0.93684211],\n",
       "       [ 0.00490196,  0.99509804],\n",
       "       [ 0.99004975,  0.00995025],\n",
       "       [ 0.92513369,  0.07486631],\n",
       "       [ 1.        ,  0.        ],\n",
       "       [ 0.03409091,  0.96590909],\n",
       "       [ 0.34502924,  0.65497076],\n",
       "       [ 0.91666667,  0.08333333],\n",
       "       [ 1.        ,  0.        ],\n",
       "       [ 0.96319018,  0.03680982],\n",
       "       [ 0.        ,  1.        ],\n",
       "       [ 1.        ,  0.        ],\n",
       "       [ 1.        ,  0.        ],\n",
       "       [ 0.        ,  1.        ],\n",
       "       [ 0.65420561,  0.34579439],\n",
       "       [ 0.        ,  1.        ],\n",
       "       [ 1.        ,  0.        ],\n",
       "       [ 0.0049505 ,  0.9950495 ],\n",
       "       [ 0.        ,  1.        ],\n",
       "       [ 0.19148936,  0.80851064],\n",
       "       [ 1.        ,  0.        ],\n",
       "       [ 0.00591716,  0.99408284],\n",
       "       [ 0.39751553,  0.60248447],\n",
       "       [ 0.        ,  1.        ],\n",
       "       [ 1.        ,  0.        ],\n",
       "       [ 0.23463687,  0.76536313],\n",
       "       [ 0.32777778,  0.67222222],\n",
       "       [ 1.        ,  0.        ],\n",
       "       [ 1.        ,  0.        ],\n",
       "       [ 0.        ,  1.        ],\n",
       "       [ 1.        ,  0.        ],\n",
       "       [ 1.        ,  0.        ],\n",
       "       [ 0.02906977,  0.97093023],\n",
       "       [ 1.        ,  0.        ],\n",
       "       [ 0.01183432,  0.98816568],\n",
       "       [ 0.97916667,  0.02083333],\n",
       "       [ 0.88297872,  0.11702128],\n",
       "       [ 0.94054054,  0.05945946],\n",
       "       [ 0.9558011 ,  0.0441989 ],\n",
       "       [ 0.        ,  1.        ],\n",
       "       [ 0.06122449,  0.93877551],\n",
       "       [ 0.98026316,  0.01973684],\n",
       "       [ 0.        ,  1.        ],\n",
       "       [ 0.        ,  1.        ],\n",
       "       [ 0.01005025,  0.98994975],\n",
       "       [ 0.98857143,  0.01142857],\n",
       "       [ 0.81868132,  0.18131868],\n",
       "       [ 0.45303867,  0.54696133],\n",
       "       [ 1.        ,  0.        ],\n",
       "       [ 0.        ,  1.        ],\n",
       "       [ 0.70860927,  0.29139073],\n",
       "       [ 1.        ,  0.        ],\n",
       "       [ 1.        ,  0.        ],\n",
       "       [ 0.84745763,  0.15254237],\n",
       "       [ 1.        ,  0.        ],\n",
       "       [ 0.60526316,  0.39473684],\n",
       "       [ 0.12222222,  0.87777778],\n",
       "       [ 0.6284153 ,  0.3715847 ],\n",
       "       [ 0.9017341 ,  0.0982659 ],\n",
       "       [ 0.        ,  1.        ],\n",
       "       [ 0.17204301,  0.82795699],\n",
       "       [ 0.90055249,  0.09944751],\n",
       "       [ 1.        ,  0.        ],\n",
       "       [ 0.        ,  1.        ],\n",
       "       [ 1.        ,  0.        ],\n",
       "       [ 0.00540541,  0.99459459],\n",
       "       [ 0.05780347,  0.94219653],\n",
       "       [ 0.02312139,  0.97687861],\n",
       "       [ 0.34337349,  0.65662651],\n",
       "       [ 1.        ,  0.        ],\n",
       "       [ 0.        ,  1.        ],\n",
       "       [ 0.82954545,  0.17045455],\n",
       "       [ 0.        ,  1.        ],\n",
       "       [ 0.        ,  1.        ],\n",
       "       [ 0.        ,  1.        ],\n",
       "       [ 0.21276596,  0.78723404],\n",
       "       [ 1.        ,  0.        ],\n",
       "       [ 0.        ,  1.        ],\n",
       "       [ 0.        ,  1.        ],\n",
       "       [ 0.        ,  1.        ],\n",
       "       [ 0.95811518,  0.04188482],\n",
       "       [ 0.81675393,  0.18324607],\n",
       "       [ 0.        ,  1.        ],\n",
       "       [ 1.        ,  0.        ],\n",
       "       [ 0.25274725,  0.74725275],\n",
       "       [ 0.56470588,  0.43529412],\n",
       "       [ 0.        ,  1.        ],\n",
       "       [ 0.04255319,  0.95744681],\n",
       "       [ 0.50543478,  0.49456522],\n",
       "       [ 1.        ,  0.        ],\n",
       "       [ 0.01704545,  0.98295455],\n",
       "       [ 0.98913043,  0.01086957],\n",
       "       [ 0.20903955,  0.79096045],\n",
       "       [ 0.44692737,  0.55307263],\n",
       "       [ 1.        ,  0.        ],\n",
       "       [ 0.01570681,  0.98429319],\n",
       "       [ 0.98901099,  0.01098901],\n",
       "       [ 0.25698324,  0.74301676],\n",
       "       [ 0.87719298,  0.12280702],\n",
       "       [ 1.        ,  0.        ],\n",
       "       [ 1.        ,  0.        ],\n",
       "       [ 0.        ,  1.        ],\n",
       "       [ 0.        ,  1.        ],\n",
       "       [ 0.78285714,  0.21714286],\n",
       "       [ 1.        ,  0.        ],\n",
       "       [ 0.00578035,  0.99421965],\n",
       "       [ 1.        ,  0.        ],\n",
       "       [ 1.        ,  0.        ],\n",
       "       [ 1.        ,  0.        ],\n",
       "       [ 0.98895028,  0.01104972],\n",
       "       [ 0.99447514,  0.00552486],\n",
       "       [ 0.        ,  1.        ],\n",
       "       [ 0.96039604,  0.03960396],\n",
       "       [ 0.99497487,  0.00502513],\n",
       "       [ 0.01092896,  0.98907104],\n",
       "       [ 0.15662651,  0.84337349],\n",
       "       [ 0.95918367,  0.04081633],\n",
       "       [ 0.32727273,  0.67272727],\n",
       "       [ 0.98924731,  0.01075269],\n",
       "       [ 0.        ,  1.        ],\n",
       "       [ 0.        ,  1.        ],\n",
       "       [ 0.7251462 ,  0.2748538 ],\n",
       "       [ 0.35632184,  0.64367816],\n",
       "       [ 0.4       ,  0.6       ],\n",
       "       [ 0.85326087,  0.14673913],\n",
       "       [ 0.95918367,  0.04081633],\n",
       "       [ 0.06878307,  0.93121693],\n",
       "       [ 0.8030303 ,  0.1969697 ],\n",
       "       [ 0.        ,  1.        ],\n",
       "       [ 0.        ,  1.        ],\n",
       "       [ 0.03508772,  0.96491228],\n",
       "       [ 0.98342541,  0.01657459],\n",
       "       [ 1.        ,  0.        ],\n",
       "       [ 1.        ,  0.        ],\n",
       "       [ 0.0052356 ,  0.9947644 ],\n",
       "       [ 0.        ,  1.        ],\n",
       "       [ 0.01932367,  0.98067633],\n",
       "       [ 0.        ,  1.        ],\n",
       "       [ 1.        ,  0.        ],\n",
       "       [ 1.        ,  0.        ],\n",
       "       [ 0.95402299,  0.04597701],\n",
       "       [ 1.        ,  0.        ],\n",
       "       [ 1.        ,  0.        ],\n",
       "       [ 1.        ,  0.        ],\n",
       "       [ 0.        ,  1.        ],\n",
       "       [ 0.38674033,  0.61325967],\n",
       "       [ 0.27717391,  0.72282609],\n",
       "       [ 0.01117318,  0.98882682],\n",
       "       [ 0.        ,  1.        ],\n",
       "       [ 0.30729167,  0.69270833],\n",
       "       [ 1.        ,  0.        ],\n",
       "       [ 0.99378882,  0.00621118],\n",
       "       [ 0.        ,  1.        ],\n",
       "       [ 1.        ,  0.        ],\n",
       "       [ 0.        ,  1.        ],\n",
       "       [ 0.        ,  1.        ],\n",
       "       [ 0.98295455,  0.01704545],\n",
       "       [ 0.        ,  1.        ],\n",
       "       [ 0.        ,  1.        ],\n",
       "       [ 1.        ,  0.        ],\n",
       "       [ 0.00502513,  0.99497487],\n",
       "       [ 0.61271676,  0.38728324],\n",
       "       [ 0.91747573,  0.08252427],\n",
       "       [ 0.        ,  1.        ],\n",
       "       [ 1.        ,  0.        ],\n",
       "       [ 0.99516908,  0.00483092],\n",
       "       [ 1.        ,  0.        ],\n",
       "       [ 0.        ,  1.        ],\n",
       "       [ 0.        ,  1.        ],\n",
       "       [ 1.        ,  0.        ],\n",
       "       [ 0.06930693,  0.93069307],\n",
       "       [ 1.        ,  0.        ],\n",
       "       [ 0.05405405,  0.94594595],\n",
       "       [ 0.        ,  1.        ],\n",
       "       [ 1.        ,  0.        ],\n",
       "       [ 0.        ,  1.        ],\n",
       "       [ 0.04294479,  0.95705521],\n",
       "       [ 1.        ,  0.        ],\n",
       "       [ 0.93229167,  0.06770833],\n",
       "       [ 0.73295455,  0.26704545],\n",
       "       [ 0.61212121,  0.38787879],\n",
       "       [ 0.        ,  1.        ],\n",
       "       [ 0.12244898,  0.87755102],\n",
       "       [ 1.        ,  0.        ],\n",
       "       [ 0.95731707,  0.04268293],\n",
       "       [ 0.96855346,  0.03144654],\n",
       "       [ 1.        ,  0.        ],\n",
       "       [ 0.02272727,  0.97727273],\n",
       "       [ 0.        ,  1.        ],\n",
       "       [ 0.39664804,  0.60335196],\n",
       "       [ 0.85082873,  0.14917127],\n",
       "       [ 0.        ,  1.        ],\n",
       "       [ 0.        ,  1.        ],\n",
       "       [ 0.99408284,  0.00591716],\n",
       "       [ 0.00520833,  0.99479167],\n",
       "       [ 0.00540541,  0.99459459],\n",
       "       [ 0.96111111,  0.03888889],\n",
       "       [ 0.        ,  1.        ],\n",
       "       [ 0.30808081,  0.69191919],\n",
       "       [ 0.        ,  1.        ],\n",
       "       [ 1.        ,  0.        ],\n",
       "       [ 0.00595238,  0.99404762],\n",
       "       [ 0.        ,  1.        ],\n",
       "       [ 0.96236559,  0.03763441],\n",
       "       [ 0.80246914,  0.19753086],\n",
       "       [ 0.995     ,  0.005     ],\n",
       "       [ 0.00543478,  0.99456522],\n",
       "       [ 0.04411765,  0.95588235],\n",
       "       [ 1.        ,  0.        ],\n",
       "       [ 0.02808989,  0.97191011],\n",
       "       [ 0.        ,  1.        ],\n",
       "       [ 0.05405405,  0.94594595],\n",
       "       [ 1.        ,  0.        ],\n",
       "       [ 0.83888889,  0.16111111],\n",
       "       [ 0.        ,  1.        ],\n",
       "       [ 0.8988764 ,  0.1011236 ],\n",
       "       [ 0.99450549,  0.00549451],\n",
       "       [ 0.18857143,  0.81142857],\n",
       "       [ 0.22651934,  0.77348066],\n",
       "       [ 1.        ,  0.        ],\n",
       "       [ 0.        ,  1.        ],\n",
       "       [ 0.00549451,  0.99450549],\n",
       "       [ 0.        ,  1.        ],\n",
       "       [ 0.23684211,  0.76315789],\n",
       "       [ 0.95744681,  0.04255319],\n",
       "       [ 0.00507614,  0.99492386],\n",
       "       [ 1.        ,  0.        ],\n",
       "       [ 1.        ,  0.        ],\n",
       "       [ 0.        ,  1.        ],\n",
       "       [ 0.43956044,  0.56043956],\n",
       "       [ 1.        ,  0.        ],\n",
       "       [ 0.        ,  1.        ],\n",
       "       [ 1.        ,  0.        ],\n",
       "       [ 0.        ,  1.        ],\n",
       "       [ 0.        ,  1.        ],\n",
       "       [ 0.04712042,  0.95287958],\n",
       "       [ 0.0982659 ,  0.9017341 ],\n",
       "       [ 0.97959184,  0.02040816],\n",
       "       [ 0.02185792,  0.97814208],\n",
       "       [ 1.        ,  0.        ],\n",
       "       [ 0.35106383,  0.64893617],\n",
       "       [ 0.13793103,  0.86206897],\n",
       "       [ 0.54891304,  0.45108696],\n",
       "       [ 0.65656566,  0.34343434],\n",
       "       [ 0.00558659,  0.99441341],\n",
       "       [ 1.        ,  0.        ],\n",
       "       [ 0.        ,  1.        ],\n",
       "       [ 0.        ,  1.        ],\n",
       "       [ 0.64622642,  0.35377358],\n",
       "       [ 0.        ,  1.        ],\n",
       "       [ 1.        ,  0.        ],\n",
       "       [ 0.22164948,  0.77835052],\n",
       "       [ 0.81094527,  0.18905473],\n",
       "       [ 0.03012048,  0.96987952],\n",
       "       [ 1.        ,  0.        ],\n",
       "       [ 0.86387435,  0.13612565],\n",
       "       [ 0.        ,  1.        ],\n",
       "       [ 0.00518135,  0.99481865],\n",
       "       [ 0.09137056,  0.90862944],\n",
       "       [ 0.00598802,  0.99401198],\n",
       "       [ 0.        ,  1.        ],\n",
       "       [ 1.        ,  0.        ],\n",
       "       [ 0.94318182,  0.05681818],\n",
       "       [ 0.15697674,  0.84302326],\n",
       "       [ 0.95897436,  0.04102564],\n",
       "       [ 0.01630435,  0.98369565],\n",
       "       [ 0.57923497,  0.42076503],\n",
       "       [ 0.07526882,  0.92473118],\n",
       "       [ 1.        ,  0.        ],\n",
       "       [ 0.78723404,  0.21276596],\n",
       "       [ 0.        ,  1.        ],\n",
       "       [ 1.        ,  0.        ],\n",
       "       [ 0.93684211,  0.06315789],\n",
       "       [ 0.        ,  1.        ],\n",
       "       [ 0.        ,  1.        ],\n",
       "       [ 1.        ,  0.        ],\n",
       "       [ 0.        ,  1.        ],\n",
       "       [ 1.        ,  0.        ],\n",
       "       [ 0.23560209,  0.76439791],\n",
       "       [ 0.99418605,  0.00581395],\n",
       "       [ 1.        ,  0.        ],\n",
       "       [ 0.        ,  1.        ],\n",
       "       [ 0.        ,  1.        ],\n",
       "       [ 0.84831461,  0.15168539],\n",
       "       [ 0.        ,  1.        ],\n",
       "       [ 1.        ,  0.        ],\n",
       "       [ 0.78723404,  0.21276596],\n",
       "       [ 0.92391304,  0.07608696],\n",
       "       [ 1.        ,  0.        ],\n",
       "       [ 0.68852459,  0.31147541],\n",
       "       [ 0.4973262 ,  0.5026738 ],\n",
       "       [ 0.        ,  1.        ],\n",
       "       [ 0.88953488,  0.11046512],\n",
       "       [ 0.        ,  1.        ],\n",
       "       [ 1.        ,  0.        ],\n",
       "       [ 0.9010989 ,  0.0989011 ],\n",
       "       [ 1.        ,  0.        ],\n",
       "       [ 1.        ,  0.        ],\n",
       "       [ 0.72636816,  0.27363184],\n",
       "       [ 0.10227273,  0.89772727],\n",
       "       [ 0.47560976,  0.52439024],\n",
       "       [ 0.24210526,  0.75789474],\n",
       "       [ 0.        ,  1.        ],\n",
       "       [ 0.84782609,  0.15217391],\n",
       "       [ 0.80927835,  0.19072165],\n",
       "       [ 0.        ,  1.        ],\n",
       "       [ 1.        ,  0.        ],\n",
       "       [ 0.99465241,  0.00534759],\n",
       "       [ 1.        ,  0.        ],\n",
       "       [ 0.        ,  1.        ],\n",
       "       [ 0.03431373,  0.96568627],\n",
       "       [ 0.95959596,  0.04040404],\n",
       "       [ 0.94797688,  0.05202312],\n",
       "       [ 1.        ,  0.        ],\n",
       "       [ 0.52542373,  0.47457627],\n",
       "       [ 1.        ,  0.        ],\n",
       "       [ 0.0106383 ,  0.9893617 ],\n",
       "       [ 0.99453552,  0.00546448],\n",
       "       [ 0.02659574,  0.97340426],\n",
       "       [ 1.        ,  0.        ],\n",
       "       [ 1.        ,  0.        ],\n",
       "       [ 1.        ,  0.        ],\n",
       "       [ 0.        ,  1.        ],\n",
       "       [ 0.98275862,  0.01724138],\n",
       "       [ 0.        ,  1.        ],\n",
       "       [ 0.07894737,  0.92105263],\n",
       "       [ 0.        ,  1.        ],\n",
       "       [ 0.        ,  1.        ],\n",
       "       [ 1.        ,  0.        ],\n",
       "       [ 1.        ,  0.        ],\n",
       "       [ 0.        ,  1.        ],\n",
       "       [ 1.        ,  0.        ],\n",
       "       [ 0.00564972,  0.99435028],\n",
       "       [ 1.        ,  0.        ],\n",
       "       [ 0.13559322,  0.86440678],\n",
       "       [ 0.        ,  1.        ],\n",
       "       [ 0.        ,  1.        ],\n",
       "       [ 0.        ,  1.        ],\n",
       "       [ 0.37125749,  0.62874251],\n",
       "       [ 0.0923913 ,  0.9076087 ],\n",
       "       [ 0.23255814,  0.76744186],\n",
       "       [ 1.        ,  0.        ],\n",
       "       [ 0.98181818,  0.01818182],\n",
       "       [ 0.17777778,  0.82222222],\n",
       "       [ 0.9902439 ,  0.0097561 ],\n",
       "       [ 0.        ,  1.        ],\n",
       "       [ 0.        ,  1.        ],\n",
       "       [ 1.        ,  0.        ],\n",
       "       [ 0.96511628,  0.03488372],\n",
       "       [ 0.33714286,  0.66285714],\n",
       "       [ 0.98843931,  0.01156069],\n",
       "       [ 1.        ,  0.        ],\n",
       "       [ 0.        ,  1.        ],\n",
       "       [ 1.        ,  0.        ],\n",
       "       [ 0.        ,  1.        ],\n",
       "       [ 0.02139037,  0.97860963],\n",
       "       [ 1.        ,  0.        ],\n",
       "       [ 1.        ,  0.        ],\n",
       "       [ 0.03076923,  0.96923077],\n",
       "       [ 0.64516129,  0.35483871]])"
      ]
     },
     "execution_count": 22,
     "metadata": {},
     "output_type": "execute_result"
    }
   ],
   "source": [
    "bag_clf.oob_decision_function_"
   ]
  },
  {
   "cell_type": "markdown",
   "metadata": {},
   "source": [
    "## Random Forests"
   ]
  },
  {
   "cell_type": "code",
   "execution_count": 23,
   "metadata": {
    "collapsed": true
   },
   "outputs": [],
   "source": [
    "bag_clf = BaggingClassifier(\n",
    "    DecisionTreeClassifier(splitter=\"random\", max_leaf_nodes=16, random_state=42),\n",
    "    n_estimators=500, max_samples=1.0, bootstrap=True, n_jobs=-1, random_state=42)"
   ]
  },
  {
   "cell_type": "code",
   "execution_count": 24,
   "metadata": {
    "collapsed": true
   },
   "outputs": [],
   "source": [
    "bag_clf.fit(X_train, y_train)\n",
    "y_pred = bag_clf.predict(X_test)"
   ]
  },
  {
   "cell_type": "code",
   "execution_count": 25,
   "metadata": {
    "collapsed": true
   },
   "outputs": [],
   "source": [
    "from sklearn.ensemble import RandomForestClassifier\n",
    "\n",
    "rnd_clf = RandomForestClassifier(n_estimators=500, oob_score=True, max_leaf_nodes=16, n_jobs=-1, random_state=42)\n",
    "rnd_clf.fit(X_train, y_train)\n",
    "\n",
    "y_pred_rf = rnd_clf.predict(X_test)"
   ]
  },
  {
   "cell_type": "code",
   "execution_count": 26,
   "metadata": {},
   "outputs": [
    {
     "data": {
      "text/plain": [
       "0.91733333333333333"
      ]
     },
     "execution_count": 26,
     "metadata": {},
     "output_type": "execute_result"
    }
   ],
   "source": [
    "rnd_clf.oob_score_"
   ]
  },
  {
   "cell_type": "code",
   "execution_count": 27,
   "metadata": {},
   "outputs": [
    {
     "name": "stdout",
     "output_type": "stream",
     "text": [
      "0.84\n",
      "0.896\n",
      "0.848\n",
      "0.832\n",
      "0.784\n",
      "0.824\n",
      "0.896\n",
      "0.88\n",
      "0.88\n",
      "0.88\n",
      "0.896\n",
      "0.832\n",
      "0.856\n",
      "0.888\n",
      "0.832\n",
      "0.864\n",
      "0.856\n",
      "0.912\n",
      "0.864\n",
      "0.88\n",
      "0.84\n",
      "0.848\n",
      "0.912\n",
      "0.896\n",
      "0.84\n",
      "0.848\n",
      "0.856\n",
      "0.88\n",
      "0.856\n",
      "0.888\n",
      "0.856\n",
      "0.832\n",
      "0.848\n",
      "0.896\n",
      "0.896\n",
      "0.888\n",
      "0.864\n",
      "0.872\n",
      "0.896\n",
      "0.888\n",
      "0.88\n",
      "0.88\n",
      "0.848\n",
      "0.888\n",
      "0.848\n",
      "0.84\n",
      "0.896\n",
      "0.848\n",
      "0.896\n",
      "0.88\n",
      "0.864\n",
      "0.888\n",
      "0.832\n",
      "0.888\n",
      "0.832\n",
      "0.84\n",
      "0.856\n",
      "0.856\n",
      "0.848\n",
      "0.84\n",
      "0.888\n",
      "0.864\n",
      "0.8\n",
      "0.872\n",
      "0.88\n",
      "0.888\n",
      "0.896\n",
      "0.816\n",
      "0.856\n",
      "0.888\n",
      "0.888\n",
      "0.848\n",
      "0.936\n",
      "0.88\n",
      "0.824\n",
      "0.92\n",
      "0.896\n",
      "0.84\n",
      "0.888\n",
      "0.872\n",
      "0.872\n",
      "0.904\n",
      "0.856\n",
      "0.864\n",
      "0.856\n",
      "0.864\n",
      "0.888\n",
      "0.816\n",
      "0.872\n",
      "0.848\n",
      "0.856\n",
      "0.896\n",
      "0.816\n",
      "0.832\n",
      "0.84\n",
      "0.864\n",
      "0.896\n",
      "0.872\n",
      "0.92\n",
      "0.904\n",
      "0.824\n",
      "0.824\n",
      "0.848\n",
      "0.848\n",
      "0.904\n",
      "0.808\n",
      "0.704\n",
      "0.808\n",
      "0.848\n",
      "0.88\n",
      "0.832\n",
      "0.84\n",
      "0.872\n",
      "0.88\n",
      "0.808\n",
      "0.864\n",
      "0.896\n",
      "0.904\n",
      "0.744\n",
      "0.888\n",
      "0.848\n",
      "0.84\n",
      "0.832\n",
      "0.856\n",
      "0.888\n",
      "0.848\n",
      "0.84\n",
      "0.864\n",
      "0.808\n",
      "0.784\n",
      "0.88\n",
      "0.792\n",
      "0.824\n",
      "0.888\n",
      "0.848\n",
      "0.88\n",
      "0.92\n",
      "0.864\n",
      "0.768\n",
      "0.872\n",
      "0.896\n",
      "0.88\n",
      "0.912\n",
      "0.88\n",
      "0.888\n",
      "0.848\n",
      "0.8\n",
      "0.88\n",
      "0.88\n",
      "0.936\n",
      "0.856\n",
      "0.872\n",
      "0.896\n",
      "0.88\n",
      "0.88\n",
      "0.816\n",
      "0.872\n",
      "0.848\n",
      "0.88\n",
      "0.872\n",
      "0.824\n",
      "0.872\n",
      "0.848\n",
      "0.872\n",
      "0.832\n",
      "0.896\n",
      "0.864\n",
      "0.904\n",
      "0.88\n",
      "0.896\n",
      "0.856\n",
      "0.848\n",
      "0.904\n",
      "0.88\n",
      "0.84\n",
      "0.808\n",
      "0.88\n",
      "0.904\n",
      "0.848\n",
      "0.864\n",
      "0.888\n",
      "0.84\n",
      "0.872\n",
      "0.888\n",
      "0.808\n",
      "0.872\n",
      "0.816\n",
      "0.864\n",
      "0.896\n",
      "0.912\n",
      "0.832\n",
      "0.888\n",
      "0.88\n",
      "0.872\n",
      "0.88\n",
      "0.816\n",
      "0.896\n",
      "0.872\n",
      "0.896\n",
      "0.88\n",
      "0.888\n",
      "0.872\n",
      "0.84\n",
      "0.88\n",
      "0.832\n",
      "0.904\n",
      "0.8\n",
      "0.84\n",
      "0.904\n",
      "0.856\n",
      "0.872\n",
      "0.896\n",
      "0.768\n",
      "0.896\n",
      "0.848\n",
      "0.88\n",
      "0.832\n",
      "0.856\n",
      "0.904\n",
      "0.864\n",
      "0.888\n",
      "0.84\n",
      "0.896\n",
      "0.792\n",
      "0.808\n",
      "0.888\n",
      "0.864\n",
      "0.88\n",
      "0.848\n",
      "0.864\n",
      "0.888\n",
      "0.904\n",
      "0.88\n",
      "0.84\n",
      "0.856\n",
      "0.856\n",
      "0.864\n",
      "0.88\n",
      "0.848\n",
      "0.816\n",
      "0.864\n",
      "0.888\n",
      "0.872\n",
      "0.848\n",
      "0.872\n",
      "0.872\n",
      "0.88\n",
      "0.872\n",
      "0.8\n",
      "0.856\n",
      "0.872\n",
      "0.912\n",
      "0.88\n",
      "0.824\n",
      "0.872\n",
      "0.856\n",
      "0.872\n",
      "0.88\n",
      "0.888\n",
      "0.856\n",
      "0.808\n",
      "0.872\n",
      "0.832\n",
      "0.824\n",
      "0.896\n",
      "0.912\n",
      "0.864\n",
      "0.856\n",
      "0.808\n",
      "0.872\n",
      "0.848\n",
      "0.912\n",
      "0.824\n",
      "0.84\n",
      "0.8\n",
      "0.896\n",
      "0.872\n",
      "0.912\n",
      "0.872\n",
      "0.872\n",
      "0.864\n",
      "0.92\n",
      "0.864\n",
      "0.816\n",
      "0.872\n",
      "0.856\n",
      "0.888\n",
      "0.88\n",
      "0.832\n",
      "0.824\n",
      "0.864\n",
      "0.84\n",
      "0.88\n",
      "0.88\n",
      "0.848\n",
      "0.88\n",
      "0.816\n",
      "0.88\n",
      "0.896\n",
      "0.864\n",
      "0.848\n",
      "0.816\n",
      "0.848\n",
      "0.848\n",
      "0.832\n",
      "0.792\n",
      "0.896\n",
      "0.88\n",
      "0.864\n",
      "0.864\n",
      "0.832\n",
      "0.872\n",
      "0.872\n",
      "0.88\n",
      "0.88\n",
      "0.888\n",
      "0.856\n",
      "0.856\n",
      "0.84\n",
      "0.864\n",
      "0.832\n",
      "0.808\n",
      "0.904\n",
      "0.832\n",
      "0.872\n",
      "0.8\n",
      "0.88\n",
      "0.808\n",
      "0.872\n",
      "0.872\n",
      "0.904\n",
      "0.856\n",
      "0.912\n",
      "0.88\n",
      "0.888\n",
      "0.864\n",
      "0.84\n",
      "0.912\n",
      "0.816\n",
      "0.888\n",
      "0.84\n",
      "0.896\n",
      "0.84\n",
      "0.888\n",
      "0.88\n",
      "0.896\n",
      "0.912\n",
      "0.912\n",
      "0.864\n",
      "0.84\n",
      "0.896\n",
      "0.88\n",
      "0.84\n",
      "0.872\n",
      "0.896\n",
      "0.816\n",
      "0.84\n",
      "0.864\n",
      "0.84\n",
      "0.888\n",
      "0.8\n",
      "0.864\n",
      "0.8\n",
      "0.848\n",
      "0.848\n",
      "0.856\n",
      "0.816\n",
      "0.92\n",
      "0.888\n",
      "0.864\n",
      "0.816\n",
      "0.84\n",
      "0.872\n",
      "0.872\n",
      "0.792\n",
      "0.856\n",
      "0.888\n",
      "0.88\n",
      "0.88\n",
      "0.824\n",
      "0.856\n",
      "0.896\n",
      "0.856\n",
      "0.848\n",
      "0.824\n",
      "0.912\n",
      "0.8\n",
      "0.888\n",
      "0.808\n",
      "0.896\n",
      "0.864\n",
      "0.88\n",
      "0.904\n",
      "0.864\n",
      "0.88\n",
      "0.912\n",
      "0.824\n",
      "0.896\n",
      "0.888\n",
      "0.904\n",
      "0.864\n",
      "0.912\n",
      "0.856\n",
      "0.864\n",
      "0.824\n",
      "0.864\n",
      "0.856\n",
      "0.84\n",
      "0.88\n",
      "0.896\n",
      "0.84\n",
      "0.896\n",
      "0.84\n",
      "0.88\n",
      "0.88\n",
      "0.792\n",
      "0.8\n",
      "0.904\n",
      "0.816\n",
      "0.888\n",
      "0.88\n",
      "0.864\n",
      "0.888\n",
      "0.816\n",
      "0.872\n",
      "0.856\n",
      "0.856\n",
      "0.824\n",
      "0.928\n",
      "0.84\n",
      "0.88\n",
      "0.872\n",
      "0.848\n",
      "0.904\n",
      "0.864\n",
      "0.848\n",
      "0.84\n",
      "0.856\n",
      "0.904\n",
      "0.848\n",
      "0.896\n",
      "0.816\n",
      "0.92\n",
      "0.896\n",
      "0.872\n",
      "0.912\n",
      "0.904\n",
      "0.856\n",
      "0.872\n",
      "0.896\n",
      "0.888\n",
      "0.824\n",
      "0.848\n",
      "0.904\n",
      "0.872\n",
      "0.84\n",
      "0.872\n",
      "0.896\n",
      "0.864\n",
      "0.896\n",
      "0.872\n",
      "0.904\n",
      "0.832\n",
      "0.856\n",
      "0.904\n",
      "0.864\n",
      "0.888\n",
      "0.896\n",
      "0.864\n",
      "0.864\n",
      "0.824\n",
      "0.864\n",
      "0.832\n",
      "0.864\n",
      "0.848\n",
      "0.872\n",
      "0.864\n",
      "0.888\n",
      "0.88\n",
      "0.856\n",
      "0.88\n",
      "0.904\n",
      "0.872\n",
      "0.848\n",
      "0.84\n",
      "0.84\n",
      "0.816\n",
      "0.888\n",
      "0.864\n",
      "0.912\n",
      "0.856\n",
      "0.824\n",
      "0.88\n",
      "0.856\n",
      "0.888\n",
      "0.864\n",
      "0.896\n",
      "0.872\n",
      "0.912\n",
      "0.872\n"
     ]
    }
   ],
   "source": [
    "for e in rnd_clf.estimators_:\n",
    "    yt = e.predict(X_test)\n",
    "    print(accuracy_score(y_test, yt))"
   ]
  },
  {
   "cell_type": "code",
   "execution_count": 28,
   "metadata": {},
   "outputs": [
    {
     "data": {
      "text/plain": [
       "0.91200000000000003"
      ]
     },
     "execution_count": 28,
     "metadata": {},
     "output_type": "execute_result"
    }
   ],
   "source": [
    "accuracy_score(y_test, y_pred_rf)"
   ]
  },
  {
   "cell_type": "code",
   "execution_count": 29,
   "metadata": {},
   "outputs": [
    {
     "data": {
      "text/plain": [
       "0.97599999999999998"
      ]
     },
     "execution_count": 29,
     "metadata": {},
     "output_type": "execute_result"
    }
   ],
   "source": [
    "np.sum(y_pred == y_pred_rf) / len(y_pred)  # almost identical predictions"
   ]
  },
  {
   "cell_type": "code",
   "execution_count": 30,
   "metadata": {},
   "outputs": [
    {
     "data": {
      "text/plain": [
       "array([ 0.42253629,  0.57746371])"
      ]
     },
     "execution_count": 30,
     "metadata": {},
     "output_type": "execute_result"
    }
   ],
   "source": [
    "rnd_clf.feature_importances_"
   ]
  },
  {
   "cell_type": "code",
   "execution_count": 31,
   "metadata": {},
   "outputs": [
    {
     "data": {
      "text/plain": [
       "True"
      ]
     },
     "execution_count": 31,
     "metadata": {},
     "output_type": "execute_result"
    }
   ],
   "source": [
    "rnd_clf.oob_score"
   ]
  },
  {
   "cell_type": "markdown",
   "metadata": {},
   "source": [
    "### Extra Trees"
   ]
  },
  {
   "cell_type": "code",
   "execution_count": 32,
   "metadata": {
    "collapsed": true
   },
   "outputs": [],
   "source": [
    "from sklearn.ensemble import ExtraTreesClassifier\n",
    "\n",
    "extra_tree_clf = ExtraTreesClassifier(n_estimators=500, max_leaf_nodes=16, n_jobs=-1, random_state=42)\n",
    "extra_tree_clf.fit(X_train, y_train)\n",
    "y_pred_extra_trees = extra_tree_clf.predict(X_test)"
   ]
  },
  {
   "cell_type": "code",
   "execution_count": 33,
   "metadata": {},
   "outputs": [
    {
     "data": {
      "text/plain": [
       "0.99199999999999999"
      ]
     },
     "execution_count": 33,
     "metadata": {},
     "output_type": "execute_result"
    }
   ],
   "source": [
    "np.sum(y_pred == y_pred_extra_trees) / len(y_pred)"
   ]
  },
  {
   "cell_type": "markdown",
   "metadata": {},
   "source": [
    "### Feature Importances"
   ]
  },
  {
   "cell_type": "code",
   "execution_count": 34,
   "metadata": {},
   "outputs": [
    {
     "name": "stdout",
     "output_type": "stream",
     "text": [
      "sepal length (cm) 0.112492250999\n",
      "sepal width (cm) 0.0231192882825\n",
      "petal length (cm) 0.441030464364\n",
      "petal width (cm) 0.423357996355\n"
     ]
    }
   ],
   "source": [
    "from sklearn.datasets import load_iris\n",
    "iris = load_iris()\n",
    "rnd_clf = RandomForestClassifier(n_estimators=500, n_jobs=-1, random_state=42)\n",
    "rnd_clf.fit(iris[\"data\"], iris[\"target\"])\n",
    "for name, score in zip(iris[\"feature_names\"], rnd_clf.feature_importances_):\n",
    "    print(name, score)"
   ]
  },
  {
   "cell_type": "code",
   "execution_count": 35,
   "metadata": {},
   "outputs": [
    {
     "data": {
      "text/plain": [
       "array([ 0.11249225,  0.02311929,  0.44103046,  0.423358  ])"
      ]
     },
     "execution_count": 35,
     "metadata": {},
     "output_type": "execute_result"
    }
   ],
   "source": [
    "rnd_clf.feature_importances_\n"
   ]
  },
  {
   "cell_type": "code",
   "execution_count": 36,
   "metadata": {},
   "outputs": [
    {
     "name": "stderr",
     "output_type": "stream",
     "text": [
      "/usr/local/anaconda/envs/py36/lib/python3.6/site-packages/matplotlib/contour.py:967: UserWarning: The following kwargs were not used by contour: 'linewidth'\n",
      "  s)\n"
     ]
    },
    {
     "data": {
      "image/png": "[encoded data removed]",
      "text/plain": [
       "<matplotlib.figure.Figure at 0x7f280acf0be0>"
      ]
     },
     "metadata": {},
     "output_type": "display_data"
    }
   ],
   "source": [
    "plt.figure(figsize=(6, 4))\n",
    "\n",
    "for i in range(15):\n",
    "    tree_clf = DecisionTreeClassifier(max_leaf_nodes=16, random_state=42 + i)\n",
    "    indices_with_replacement = np.random.randint(0, len(X_train), len(X_train))\n",
    "    tree_clf.fit(X[indices_with_replacement], y[indices_with_replacement])\n",
    "    plot_decision_boundary(tree_clf, X, y, axes=[-1.5, 2.5, -1, 1.5], alpha=0.02, contour=False)\n",
    "\n",
    "plt.show()"
   ]
  },
  {
   "cell_type": "code",
   "execution_count": 37,
   "metadata": {
    "collapsed": true
   },
   "outputs": [],
   "source": [
    "from sklearn.datasets import fetch_mldata\n",
    "mnist = fetch_mldata('MNIST original')"
   ]
  },
  {
   "cell_type": "code",
   "execution_count": 38,
   "metadata": {},
   "outputs": [
    {
     "data": {
      "text/plain": [
       "RandomForestClassifier(bootstrap=True, class_weight=None, criterion='gini',\n",
       "            max_depth=None, max_features='auto', max_leaf_nodes=None,\n",
       "            min_impurity_decrease=0.0, min_impurity_split=None,\n",
       "            min_samples_leaf=1, min_samples_split=2,\n",
       "            min_weight_fraction_leaf=0.0, n_estimators=10, n_jobs=1,\n",
       "            oob_score=False, random_state=42, verbose=0, warm_start=False)"
      ]
     },
     "execution_count": 38,
     "metadata": {},
     "output_type": "execute_result"
    }
   ],
   "source": [
    "rnd_clf = RandomForestClassifier(random_state=42)\n",
    "rnd_clf.fit(mnist[\"data\"], mnist[\"target\"])"
   ]
  },
  {
   "cell_type": "code",
   "execution_count": 39,
   "metadata": {
    "collapsed": true
   },
   "outputs": [],
   "source": [
    "def plot_digit(data):\n",
    "    image = data.reshape(28, 28)\n",
    "    plt.imshow(image, cmap = matplotlib.cm.hot,\n",
    "               interpolation=\"nearest\")\n",
    "    plt.axis(\"off\")"
   ]
  },
  {
   "cell_type": "code",
   "execution_count": 40,
   "metadata": {},
   "outputs": [
    {
     "name": "stdout",
     "output_type": "stream",
     "text": [
      "Saving figure mnist_feature_importance_plot\n"
     ]
    },
    {
     "data": {
      "image/png": "[encoded data removed]",
      "text/plain": [
       "<matplotlib.figure.Figure at 0x7f280abf8898>"
      ]
     },
     "metadata": {},
     "output_type": "display_data"
    }
   ],
   "source": [
    "\n",
    "plot_digit(rnd_clf.feature_importances_)\n",
    "\n",
    "cbar = plt.colorbar(ticks=[rnd_clf.feature_importances_.min(), rnd_clf.feature_importances_.max()])\n",
    "cbar.ax.set_yticklabels(['Not important', 'Very important'])\n",
    "\n",
    "save_fig(\"mnist_feature_importance_plot\")\n",
    "plt.show()"
   ]
  },
  {
   "cell_type": "markdown",
   "metadata": {},
   "source": [
    "## AdaBoost"
   ]
  },
  {
   "cell_type": "code",
   "execution_count": 41,
   "metadata": {},
   "outputs": [
    {
     "data": {
      "text/plain": [
       "AdaBoostClassifier(algorithm='SAMME.R',\n",
       "          base_estimator=DecisionTreeClassifier(class_weight=None, criterion='gini', max_depth=1,\n",
       "            max_features=None, max_leaf_nodes=None,\n",
       "            min_impurity_decrease=0.0, min_impurity_split=None,\n",
       "            min_samples_leaf=1, min_samples_split=2,\n",
       "            min_weight_fraction_leaf=0.0, presort=False, random_state=None,\n",
       "            splitter='best'),\n",
       "          learning_rate=0.5, n_estimators=200, random_state=42)"
      ]
     },
     "execution_count": 41,
     "metadata": {},
     "output_type": "execute_result"
    }
   ],
   "source": [
    "from sklearn.ensemble import AdaBoostClassifier\n",
    "\n",
    "ada_clf = AdaBoostClassifier(\n",
    "    DecisionTreeClassifier(max_depth=1), n_estimators=200,\n",
    "    algorithm=\"SAMME.R\", learning_rate=0.5, random_state=42)\n",
    "ada_clf.fit(X_train, y_train)\n"
   ]
  },
  {
   "cell_type": "code",
   "execution_count": 43,
   "metadata": {},
   "outputs": [
    {
     "name": "stderr",
     "output_type": "stream",
     "text": [
      "/usr/local/anaconda/envs/py36/lib/python3.6/site-packages/matplotlib/contour.py:967: UserWarning: The following kwargs were not used by contour: 'linewidth'\n",
      "  s)\n"
     ]
    },
    {
     "data": {
      "image/png": "[encoded data removed]",
      "text/plain": [
       "<matplotlib.figure.Figure at 0x7f280acf6358>"
      ]
     },
     "metadata": {},
     "output_type": "display_data"
    }
   ],
   "source": [
    "plot_decision_boundary(ada_clf, X, y)"
   ]
  },
  {
   "cell_type": "code",
   "execution_count": 44,
   "metadata": {},
   "outputs": [
    {
     "name": "stderr",
     "output_type": "stream",
     "text": [
      "/usr/local/anaconda/envs/py36/lib/python3.6/site-packages/matplotlib/contour.py:967: UserWarning: The following kwargs were not used by contour: 'linewidth'\n",
      "  s)\n",
      "/usr/local/anaconda/envs/py36/lib/python3.6/site-packages/matplotlib/cbook/deprecation.py:106: MatplotlibDeprecationWarning: Adding an axes using the same arguments as a previous axes currently reuses the earlier instance.  In a future version, a new instance will always be created and returned.  Meanwhile, this warning can be suppressed, and the future behavior ensured, by passing a unique label to each axes instance.\n",
      "  warnings.warn(message, mplDeprecation, stacklevel=1)\n"
     ]
    },
    {
     "name": "stdout",
     "output_type": "stream",
     "text": [
      "Saving figure boosting_plot\n"
     ]
    },
    {
     "data": {
      "image/png": "[encoded data removed]",
      "text/plain": [
       "<matplotlib.figure.Figure at 0x7f280a0c4400>"
      ]
     },
     "metadata": {},
     "output_type": "display_data"
    }
   ],
   "source": [
    "m = len(X_train)\n",
    "plt.figure(figsize=(11, 4))\n",
    "for subplot, learning_rate in ((121, 1), (122, 0.5)):\n",
    "    sample_weights = np.ones(m)\n",
    "    for i in range(5):\n",
    "        plt.subplot(subplot)\n",
    "        svm_clf = SVC(kernel=\"rbf\", C=0.05, random_state=42)\n",
    "        svm_clf.fit(X_train, y_train, sample_weight=sample_weights)\n",
    "        y_pred = svm_clf.predict(X_train)\n",
    "        sample_weights[y_pred != y_train] *= (1 + learning_rate)\n",
    "        plot_decision_boundary(svm_clf, X, y, alpha=0.2)\n",
    "        plt.title(\"learning_rate = {}\".format(learning_rate), fontsize=16)\n",
    "\n",
    "plt.subplot(121)\n",
    "plt.text(-0.7, -0.65, \"1\", fontsize=14)\n",
    "plt.text(-0.6, -0.10, \"2\", fontsize=14)\n",
    "plt.text(-0.5,  0.10, \"3\", fontsize=14)\n",
    "plt.text(-0.4,  0.55, \"4\", fontsize=14)\n",
    "plt.text(-0.3,  0.90, \"5\", fontsize=14)\n",
    "save_fig(\"boosting_plot\")\n",
    "plt.show()"
   ]
  },
  {
   "cell_type": "code",
   "execution_count": 37,
   "metadata": {},
   "outputs": [
    {
     "data": {
      "text/plain": [
       "['base_estimator_',\n",
       " 'classes_',\n",
       " 'estimator_errors_',\n",
       " 'estimator_weights_',\n",
       " 'estimators_',\n",
       " 'feature_importances_',\n",
       " 'n_classes_']"
      ]
     },
     "execution_count": 37,
     "metadata": {},
     "output_type": "execute_result"
    }
   ],
   "source": [
    "list(m for m in dir(ada_clf) if not m.startswith(\"_\") and m.endswith(\"_\"))\n"
   ]
  },
  {
   "cell_type": "markdown",
   "metadata": {},
   "source": [
    "## Gradient Boosting"
   ]
  },
  {
   "cell_type": "code",
   "execution_count": 46,
   "metadata": {
    "collapsed": true
   },
   "outputs": [],
   "source": [
    "np.random.seed(42)\n",
    "X = np.random.rand(100, 1) - 0.5\n",
    "y = 3*X[:, 0]**2 + 0.05 * np.random.randn(100)"
   ]
  },
  {
   "cell_type": "code",
   "execution_count": 47,
   "metadata": {},
   "outputs": [
    {
     "data": {
      "text/plain": [
       "DecisionTreeRegressor(criterion='mse', max_depth=2, max_features=None,\n",
       "           max_leaf_nodes=None, min_impurity_decrease=0.0,\n",
       "           min_impurity_split=None, min_samples_leaf=1,\n",
       "           min_samples_split=2, min_weight_fraction_leaf=0.0,\n",
       "           presort=False, random_state=42, splitter='best')"
      ]
     },
     "execution_count": 47,
     "metadata": {},
     "output_type": "execute_result"
    }
   ],
   "source": [
    "from sklearn.tree import DecisionTreeRegressor\n",
    "\n",
    "tree_reg1 = DecisionTreeRegressor(max_depth=2, random_state=42)\n",
    "tree_reg1.fit(X, y)"
   ]
  },
  {
   "cell_type": "code",
   "execution_count": 48,
   "metadata": {},
   "outputs": [
    {
     "data": {
      "text/plain": [
       "DecisionTreeRegressor(criterion='mse', max_depth=2, max_features=None,\n",
       "           max_leaf_nodes=None, min_impurity_decrease=0.0,\n",
       "           min_impurity_split=None, min_samples_leaf=1,\n",
       "           min_samples_split=2, min_weight_fraction_leaf=0.0,\n",
       "           presort=False, random_state=42, splitter='best')"
      ]
     },
     "execution_count": 48,
     "metadata": {},
     "output_type": "execute_result"
    }
   ],
   "source": [
    "y2 = y - tree_reg1.predict(X)\n",
    "tree_reg2 = DecisionTreeRegressor(max_depth=2, random_state=42)\n",
    "tree_reg2.fit(X, y2)"
   ]
  },
  {
   "cell_type": "code",
   "execution_count": 49,
   "metadata": {},
   "outputs": [
    {
     "data": {
      "text/plain": [
       "DecisionTreeRegressor(criterion='mse', max_depth=2, max_features=None,\n",
       "           max_leaf_nodes=None, min_impurity_decrease=0.0,\n",
       "           min_impurity_split=None, min_samples_leaf=1,\n",
       "           min_samples_split=2, min_weight_fraction_leaf=0.0,\n",
       "           presort=False, random_state=42, splitter='best')"
      ]
     },
     "execution_count": 49,
     "metadata": {},
     "output_type": "execute_result"
    }
   ],
   "source": [
    "y3 = y2 - tree_reg2.predict(X)\n",
    "tree_reg3 = DecisionTreeRegressor(max_depth=2, random_state=42)\n",
    "tree_reg3.fit(X, y3)"
   ]
  },
  {
   "cell_type": "code",
   "execution_count": 66,
   "metadata": {},
   "outputs": [
    {
     "data": {
      "text/plain": [
       "1.9200000000000004"
      ]
     },
     "execution_count": 66,
     "metadata": {},
     "output_type": "execute_result"
    }
   ],
   "source": [
    "3*0.8**2"
   ]
  },
  {
   "cell_type": "code",
   "execution_count": 67,
   "metadata": {
    "collapsed": true
   },
   "outputs": [],
   "source": [
    "X_new = np.array([[0.8]])\n"
   ]
  },
  {
   "cell_type": "code",
   "execution_count": 68,
   "metadata": {
    "collapsed": true
   },
   "outputs": [],
   "source": [
    "y_pred_array = [tree.predict(X_new) for tree in (tree_reg1, tree_reg2, tree_reg3)]\n",
    "y_pred = sum(y_pred_array)\n"
   ]
  },
  {
   "cell_type": "code",
   "execution_count": 69,
   "metadata": {},
   "outputs": [
    {
     "data": {
      "text/plain": [
       "[array([ 0.52856846]), array([ 0.03991297]), array([ 0.18178637])]"
      ]
     },
     "execution_count": 69,
     "metadata": {},
     "output_type": "execute_result"
    }
   ],
   "source": [
    "y_pred_array"
   ]
  },
  {
   "cell_type": "code",
   "execution_count": 70,
   "metadata": {},
   "outputs": [
    {
     "data": {
      "text/plain": [
       "array([ 0.75026781])"
      ]
     },
     "execution_count": 70,
     "metadata": {},
     "output_type": "execute_result"
    }
   ],
   "source": [
    "y_pred\n"
   ]
  },
  {
   "cell_type": "code",
   "execution_count": 75,
   "metadata": {},
   "outputs": [
    {
     "name": "stdout",
     "output_type": "stream",
     "text": [
      "Saving figure gradient_boosting_plot\n"
     ]
    },
    {
     "data": {
      "image/png": "[encoded data removed]",
      "text/plain": [
       "<matplotlib.figure.Figure at 0x7f2809eb6c50>"
      ]
     },
     "metadata": {},
     "output_type": "display_data"
    }
   ],
   "source": [
    "def plot_predictions(regressors, X, y, axes, label=None, style=\"r-\", data_style=\"b.\", data_label=None):\n",
    "    x1 = np.linspace(axes[0], axes[1], 500)\n",
    "    y_pred = sum(regressor.predict(x1.reshape(-1, 1)) for regressor in regressors)\n",
    "    plt.plot(X[:, 0], y, data_style, label=data_label)\n",
    "    plt.plot(x1, y_pred, style, linewidth=2, label=label)\n",
    "    if label or data_label:\n",
    "        plt.legend(loc=\"upper center\", fontsize=16)\n",
    "    plt.axis(axes)\n",
    "\n",
    "plt.figure(figsize=(11,11))\n",
    "\n",
    "plt.subplot(321)\n",
    "plot_predictions([tree_reg1], X, y, axes=[-0.5, 0.5, -0.1, 0.8], label=\"$h_1(x_1)$\", style=\"g-\", data_label=\"Training set\")\n",
    "plt.ylabel(\"$y$\", fontsize=16, rotation=0)\n",
    "plt.title(\"Residuals and tree predictions\", fontsize=16)\n",
    "\n",
    "plt.subplot(322)\n",
    "plot_predictions([tree_reg1], X, y, axes=[-0.5, 0.5, -0.1, 0.8], label=\"$h(x_1) = h_1(x_1)$\", data_label=\"Training set\")\n",
    "plt.ylabel(\"$y$\", fontsize=16, rotation=0)\n",
    "plt.title(\"Ensemble predictions\", fontsize=16)\n",
    "\n",
    "plt.subplot(323)\n",
    "plot_predictions([tree_reg2], X, y2, axes=[-0.5, 0.5, -0.5, 0.5], label=\"$h_2(x_1)$\", style=\"g-\", data_style=\"k+\", data_label=\"Residuals\")\n",
    "plt.ylabel(\"$y - h_1(x_1)$\", fontsize=16)\n",
    "\n",
    "plt.subplot(324)\n",
    "plot_predictions([tree_reg1, tree_reg2], X, y, axes=[-0.5, 0.5, -0.1, 0.8], label=\"$h(x_1) = h_1(x_1) + h_2(x_1)$\")\n",
    "plt.ylabel(\"$y$\", fontsize=16, rotation=0)\n",
    "\n",
    "plt.subplot(325)\n",
    "plot_predictions([tree_reg3], X, y3, axes=[-0.5, 0.5, -0.5, 0.5], label=\"$h_3(x_1)$\", style=\"g-\", data_style=\"k+\")\n",
    "plt.ylabel(\"$y - h_1(x_1) - h_2(x_1)$\", fontsize=16)\n",
    "plt.xlabel(\"$x_1$\", fontsize=16)\n",
    "\n",
    "plt.subplot(326)\n",
    "plot_predictions([tree_reg1, tree_reg2, tree_reg3], X, y, axes=[-0.5, 0.5, -0.1, 0.8], label=\"$h(x_1) = h_1(x_1) + h_2(x_1) + h_3(x_1)$\")\n",
    "plt.xlabel(\"$x_1$\", fontsize=16)\n",
    "plt.ylabel(\"$y$\", fontsize=16, rotation=0)\n",
    "\n",
    "save_fig(\"gradient_boosting_plot\")\n",
    "plt.show()"
   ]
  },
  {
   "cell_type": "code",
   "execution_count": 76,
   "metadata": {},
   "outputs": [
    {
     "data": {
      "text/plain": [
       "GradientBoostingRegressor(alpha=0.9, criterion='friedman_mse', init=None,\n",
       "             learning_rate=1.0, loss='ls', max_depth=2, max_features=None,\n",
       "             max_leaf_nodes=None, min_impurity_decrease=0.0,\n",
       "             min_impurity_split=None, min_samples_leaf=1,\n",
       "             min_samples_split=2, min_weight_fraction_leaf=0.0,\n",
       "             n_estimators=3, presort='auto', random_state=42,\n",
       "             subsample=1.0, verbose=0, warm_start=False)"
      ]
     },
     "execution_count": 76,
     "metadata": {},
     "output_type": "execute_result"
    }
   ],
   "source": [
    "from sklearn.ensemble import GradientBoostingRegressor\n",
    "\n",
    "gbrt = GradientBoostingRegressor(max_depth=2, n_estimators=3, learning_rate=1.0, random_state=42)\n",
    "gbrt.fit(X, y)"
   ]
  },
  {
   "cell_type": "code",
   "execution_count": 77,
   "metadata": {},
   "outputs": [
    {
     "data": {
      "text/plain": [
       "GradientBoostingRegressor(alpha=0.9, criterion='friedman_mse', init=None,\n",
       "             learning_rate=0.1, loss='ls', max_depth=2, max_features=None,\n",
       "             max_leaf_nodes=None, min_impurity_decrease=0.0,\n",
       "             min_impurity_split=None, min_samples_leaf=1,\n",
       "             min_samples_split=2, min_weight_fraction_leaf=0.0,\n",
       "             n_estimators=200, presort='auto', random_state=42,\n",
       "             subsample=1.0, verbose=0, warm_start=False)"
      ]
     },
     "execution_count": 77,
     "metadata": {},
     "output_type": "execute_result"
    }
   ],
   "source": [
    "\n",
    "gbrt_slow = GradientBoostingRegressor(max_depth=2, n_estimators=200, learning_rate=0.1, random_state=42)\n",
    "gbrt_slow.fit(X, y)"
   ]
  },
  {
   "cell_type": "code",
   "execution_count": 96,
   "metadata": {},
   "outputs": [
    {
     "data": {
      "text/plain": [
       "0.0021618964019748618"
      ]
     },
     "execution_count": 96,
     "metadata": {},
     "output_type": "execute_result"
    }
   ],
   "source": [
    "gbrt_slow = GradientBoostingRegressor(max_depth=2, n_estimators=29, learning_rate=0.1, random_state=42)\n",
    "gbrt_slow.fit(X, y)\n",
    "y_pred = gbrt_slow.predict(X)\n",
    "gbrt_slow.loss_(y, y_pred)"
   ]
  },
  {
   "cell_type": "code",
   "execution_count": 95,
   "metadata": {},
   "outputs": [
    {
     "name": "stdout",
     "output_type": "stream",
     "text": [
      "0.0476446538199\n",
      "0\n",
      "0.0403629889655\n",
      "1\n",
      "0.0343680766029\n",
      "2\n",
      "0.0294040187912\n",
      "3\n",
      "0.0256640826165\n",
      "4\n",
      "0.0220303591154\n",
      "5\n",
      "0.0191160615525\n",
      "6\n",
      "0.0165341408747\n",
      "7\n",
      "0.0143840689826\n",
      "8\n",
      "0.0125835520237\n",
      "9\n",
      "0.011129489512\n",
      "10\n",
      "0.00997541340545\n",
      "11\n",
      "0.00882675253304\n",
      "12\n",
      "0.00793389013859\n",
      "13\n",
      "0.00719640729153\n",
      "14\n",
      "0.00656378184783\n",
      "15\n",
      "0.00602259657903\n",
      "16\n",
      "0.00540348754708\n",
      "17\n",
      "0.00493574399711\n",
      "18\n",
      "0.00448021639338\n",
      "19\n",
      "0.00415111413278\n",
      "20\n",
      "0.00376614208309\n",
      "21\n",
      "0.00350336865631\n",
      "22\n",
      "0.00321677596613\n",
      "23\n",
      "0.00290465264813\n",
      "24\n",
      "0.00273594457461\n",
      "25\n",
      "0.00259310862912\n",
      "26\n",
      "0.00237818888513\n",
      "27\n",
      "0.00216189640197\n",
      "28\n",
      "0.00205990867899\n"
     ]
    }
   ],
   "source": [
    "for i, y_pred in enumerate(gbrt_slow.staged_predict(X)):\n",
    "    x = gbrt_slow.loss_(y, y_pred)\n",
    "    print(x)\n",
    "    if x < 0.00216189640197:\n",
    "        break;\n",
    "    print(i)"
   ]
  },
  {
   "cell_type": "code",
   "execution_count": 78,
   "metadata": {
    "scrolled": true
   },
   "outputs": [
    {
     "name": "stdout",
     "output_type": "stream",
     "text": [
      "Saving figure gbrt_learning_rate_plot\n"
     ]
    },
    {
     "data": {
      "image/png": "[encoded data removed]",
      "text/plain": [
       "<matplotlib.figure.Figure at 0x7f2809fba860>"
      ]
     },
     "metadata": {},
     "output_type": "display_data"
    }
   ],
   "source": [
    "\n",
    "plt.figure(figsize=(11,4))\n",
    "\n",
    "plt.subplot(121)\n",
    "plot_predictions([gbrt], X, y, axes=[-0.5, 0.5, -0.1, 0.8], label=\"Ensemble predictions\")\n",
    "plt.title(\"learning_rate={}, n_estimators={}\".format(gbrt.learning_rate, gbrt.n_estimators), fontsize=14)\n",
    "\n",
    "plt.subplot(122)\n",
    "plot_predictions([gbrt_slow], X, y, axes=[-0.5, 0.5, -0.1, 0.8])\n",
    "plt.title(\"learning_rate={}, n_estimators={}\".format(gbrt_slow.learning_rate, gbrt_slow.n_estimators), fontsize=14)\n",
    "\n",
    "save_fig(\"gbrt_learning_rate_plot\")\n",
    "plt.show()"
   ]
  },
  {
   "cell_type": "code",
   "execution_count": null,
   "metadata": {
    "collapsed": true
   },
   "outputs": [],
   "source": []
  }
 ],
 "metadata": {
  "kernelspec": {
   "display_name": "Python 3",
   "language": "python",
   "name": "python3"
  },
  "language_info": {
   "codemirror_mode": {
    "name": "ipython",
    "version": 3
   },
   "file_extension": ".py",
   "mimetype": "text/x-python",
   "name": "python",
   "nbconvert_exporter": "python",
   "pygments_lexer": "ipython3",
   "version": "3.6.3"
  }
 },
 "nbformat": 4,
 "nbformat_minor": 2
}
