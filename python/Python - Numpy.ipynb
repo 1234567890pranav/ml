{
 "cells": [
  {
   "cell_type": "code",
   "execution_count": 1,
   "metadata": {
    "collapsed": true
   },
   "outputs": [],
   "source": [
    "import numpy as np"
   ]
  },
  {
   "cell_type": "code",
   "execution_count": 2,
   "metadata": {},
   "outputs": [
    {
     "data": {
      "text/plain": [
       "array([1, 2, 3])"
      ]
     },
     "execution_count": 2,
     "metadata": {},
     "output_type": "execute_result"
    }
   ],
   "source": [
    "a = np.array([1, 2, 3])\n",
    "a"
   ]
  },
  {
   "cell_type": "code",
   "execution_count": 3,
   "metadata": {
    "scrolled": true
   },
   "outputs": [
    {
     "data": {
      "text/plain": [
       "numpy.ndarray"
      ]
     },
     "execution_count": 3,
     "metadata": {},
     "output_type": "execute_result"
    }
   ],
   "source": [
    "type(a)"
   ]
  },
  {
   "cell_type": "code",
   "execution_count": 4,
   "metadata": {
    "collapsed": true
   },
   "outputs": [],
   "source": [
    "b = np.array((3, 4, 5))"
   ]
  },
  {
   "cell_type": "code",
   "execution_count": 9,
   "metadata": {},
   "outputs": [
    {
     "data": {
      "text/plain": [
       "numpy.ndarray"
      ]
     },
     "execution_count": 9,
     "metadata": {},
     "output_type": "execute_result"
    }
   ],
   "source": [
    "type(b)"
   ]
  },
  {
   "cell_type": "code",
   "execution_count": 5,
   "metadata": {
    "scrolled": false
   },
   "outputs": [
    {
     "name": "stdout",
     "output_type": "stream",
     "text": [
      "[[[ 0.  0.  0.  0.]\n",
      "  [ 0.  0.  0.  0.]\n",
      "  [ 0.  0.  0.  0.]]\n",
      "\n",
      " [[ 0.  0.  0.  0.]\n",
      "  [ 0.  0.  0.  0.]\n",
      "  [ 0.  0.  0.  0.]]]\n"
     ]
    }
   ],
   "source": [
    "x = np.zeros((2,3,4))  \n",
    "print(x)\n"
   ]
  },
  {
   "cell_type": "code",
   "execution_count": 6,
   "metadata": {},
   "outputs": [
    {
     "data": {
      "text/plain": [
       "array([ 0.,  0.,  0.])"
      ]
     },
     "execution_count": 6,
     "metadata": {},
     "output_type": "execute_result"
    }
   ],
   "source": [
    "np.zeros(3)"
   ]
  },
  {
   "cell_type": "code",
   "execution_count": 7,
   "metadata": {},
   "outputs": [
    {
     "name": "stdout",
     "output_type": "stream",
     "text": [
      "[[ 0.  0.  0.  0.]\n",
      " [ 0.  0.  0.  0.]\n",
      " [ 0.  0.  0.  0.]]\n"
     ]
    },
    {
     "data": {
      "text/plain": [
       "numpy.dtype"
      ]
     },
     "execution_count": 7,
     "metadata": {},
     "output_type": "execute_result"
    }
   ],
   "source": [
    "x = np.zeros((3,4))  \n",
    "print(x)\n",
    "type(x.dtype)\n"
   ]
  },
  {
   "cell_type": "code",
   "execution_count": 8,
   "metadata": {},
   "outputs": [
    {
     "data": {
      "text/plain": [
       "(3, 4)"
      ]
     },
     "execution_count": 8,
     "metadata": {},
     "output_type": "execute_result"
    }
   ],
   "source": [
    "x.shape"
   ]
  },
  {
   "cell_type": "code",
   "execution_count": 17,
   "metadata": {},
   "outputs": [
    {
     "data": {
      "text/plain": [
       "array([[ 1.,  1.,  1.,  1.],\n",
       "       [ 1.,  1.,  1.,  1.],\n",
       "       [ 1.,  1.,  1.,  1.]])"
      ]
     },
     "execution_count": 17,
     "metadata": {},
     "output_type": "execute_result"
    }
   ],
   "source": [
    "y = np.ones( (3,4), dtype=np.float64 )  \n",
    "y"
   ]
  },
  {
   "cell_type": "code",
   "execution_count": 18,
   "metadata": {},
   "outputs": [
    {
     "name": "stdout",
     "output_type": "stream",
     "text": [
      "float64\n",
      "float64\n"
     ]
    }
   ],
   "source": [
    "print(x.dtype)\n",
    "print(y.dtype)"
   ]
  },
  {
   "cell_type": "code",
   "execution_count": null,
   "metadata": {
    "collapsed": true
   },
   "outputs": [],
   "source": []
  },
  {
   "cell_type": "code",
   "execution_count": 9,
   "metadata": {},
   "outputs": [
    {
     "data": {
      "text/plain": [
       "array([[ 0.11,  0.11,  0.11,  0.11],\n",
       "       [ 0.11,  0.11,  0.11,  0.11],\n",
       "       [ 0.11,  0.11,  0.11,  0.11]])"
      ]
     },
     "execution_count": 9,
     "metadata": {},
     "output_type": "execute_result"
    }
   ],
   "source": [
    "np.full( (3,4), 0.11 )"
   ]
  },
  {
   "cell_type": "code",
   "execution_count": 10,
   "metadata": {},
   "outputs": [
    {
     "data": {
      "text/plain": [
       "array([[ 3.14159265,  3.14159265,  3.14159265,  3.14159265],\n",
       "       [ 3.14159265,  3.14159265,  3.14159265,  3.14159265],\n",
       "       [ 3.14159265,  3.14159265,  3.14159265,  3.14159265]])"
      ]
     },
     "execution_count": 10,
     "metadata": {},
     "output_type": "execute_result"
    }
   ],
   "source": [
    "np.full( (3,4), np.pi )"
   ]
  },
  {
   "cell_type": "code",
   "execution_count": 26,
   "metadata": {},
   "outputs": [
    {
     "data": {
      "text/plain": [
       "array([10, 12, 14, 16, 18, 20, 22, 24, 26, 28])"
      ]
     },
     "execution_count": 26,
     "metadata": {},
     "output_type": "execute_result"
    }
   ],
   "source": [
    "np.arange( 10, 30, 2 )"
   ]
  },
  {
   "cell_type": "code",
   "execution_count": 11,
   "metadata": {},
   "outputs": [
    {
     "data": {
      "text/plain": [
       "array([[ 0.,  0.,  0.,  0.],\n",
       "       [ 0.,  0.,  0.,  0.],\n",
       "       [ 0.,  0.,  0.,  0.]])"
      ]
     },
     "execution_count": 11,
     "metadata": {},
     "output_type": "execute_result"
    }
   ],
   "source": [
    "x"
   ]
  },
  {
   "cell_type": "code",
   "execution_count": 21,
   "metadata": {},
   "outputs": [
    {
     "name": "stdout",
     "output_type": "stream",
     "text": [
      "22.4 ns ± 0.0106 ns per loop (mean ± std. dev. of 7 runs, 10000000 loops each)\n"
     ]
    }
   ],
   "source": [
    "%timeit x"
   ]
  },
  {
   "cell_type": "code",
   "execution_count": 29,
   "metadata": {},
   "outputs": [
    {
     "data": {
      "text/plain": [
       "array([ 0. ,  0.5,  1. ,  1.5])"
      ]
     },
     "execution_count": 29,
     "metadata": {},
     "output_type": "execute_result"
    }
   ],
   "source": [
    "np.arange( 0, 2, 0.5 ) "
   ]
  },
  {
   "cell_type": "code",
   "execution_count": 14,
   "metadata": {},
   "outputs": [
    {
     "name": "stdout",
     "output_type": "stream",
     "text": [
      "(2, 4)\n"
     ]
    }
   ],
   "source": [
    "x = [\n",
    "        [\n",
    "            1,2,3,4\n",
    "        ],\n",
    "        [\n",
    "            1,2,2,2\n",
    "        ]\n",
    "]\n",
    "x1 = np.array(x)\n",
    "print(x1.shape)"
   ]
  },
  {
   "cell_type": "code",
   "execution_count": 12,
   "metadata": {
    "collapsed": true
   },
   "outputs": [],
   "source": [
    "x = [\n",
    "        [\n",
    "            [1, 3],\n",
    "            [1, 3], \n",
    "            [1, 3],\n",
    "            [1, 3]\n",
    "        ],\n",
    "        [\n",
    "            [1, 3],\n",
    "            [1, 3], \n",
    "            [1, 3],\n",
    "            [1, 3]\n",
    "        ]\n",
    "]"
   ]
  },
  {
   "cell_type": "code",
   "execution_count": 13,
   "metadata": {},
   "outputs": [
    {
     "name": "stdout",
     "output_type": "stream",
     "text": [
      "(2, 4, 2)\n",
      "[[[1 3]\n",
      "  [1 3]\n",
      "  [1 3]\n",
      "  [1 3]]\n",
      "\n",
      " [[1 3]\n",
      "  [1 3]\n",
      "  [1 3]\n",
      "  [1 3]]]\n"
     ]
    }
   ],
   "source": [
    "xx = np.array(x)\n",
    "print(xx.shape)\n",
    "print(xx)"
   ]
  },
  {
   "cell_type": "code",
   "execution_count": 16,
   "metadata": {},
   "outputs": [
    {
     "data": {
      "text/plain": [
       "array([  0.,   5.,  10.])"
      ]
     },
     "execution_count": 16,
     "metadata": {},
     "output_type": "execute_result"
    }
   ],
   "source": [
    "np.linspace(0, 10, 3)"
   ]
  },
  {
   "cell_type": "code",
   "execution_count": 40,
   "metadata": {},
   "outputs": [
    {
     "data": {
      "text/plain": [
       "array([ 0.        ,  0.33333333,  0.66666667,  1.        ,  1.33333333,\n",
       "        1.66666667])"
      ]
     },
     "execution_count": 40,
     "metadata": {},
     "output_type": "execute_result"
    }
   ],
   "source": [
    "np.linspace(0, 5/3, 6)"
   ]
  },
  {
   "cell_type": "code",
   "execution_count": 19,
   "metadata": {},
   "outputs": [
    {
     "data": {
      "text/plain": [
       "array([[ 0.11986549,  0.59448042,  0.55987719],\n",
       "       [ 0.11868417,  0.07005783,  0.41551619]])"
      ]
     },
     "execution_count": 19,
     "metadata": {},
     "output_type": "execute_result"
    }
   ],
   "source": [
    "# Make a 2x3 matrix having random floats between 0 and 1:\n",
    "np.random.rand(2,3)"
   ]
  },
  {
   "cell_type": "code",
   "execution_count": 23,
   "metadata": {
    "collapsed": true
   },
   "outputs": [],
   "source": [
    "x = np.empty((2,3))"
   ]
  },
  {
   "cell_type": "code",
   "execution_count": 24,
   "metadata": {},
   "outputs": [
    {
     "data": {
      "text/plain": [
       "array([[ 0.11986549,  0.59448042,  0.55987719],\n",
       "       [ 0.11868417,  0.07005783,  0.41551619]])"
      ]
     },
     "execution_count": 24,
     "metadata": {},
     "output_type": "execute_result"
    }
   ],
   "source": [
    "x"
   ]
  },
  {
   "cell_type": "code",
   "execution_count": 25,
   "metadata": {},
   "outputs": [
    {
     "data": {
      "text/plain": [
       "2"
      ]
     },
     "execution_count": 25,
     "metadata": {},
     "output_type": "execute_result"
    }
   ],
   "source": [
    "x.ndim"
   ]
  },
  {
   "cell_type": "code",
   "execution_count": 55,
   "metadata": {
    "scrolled": true
   },
   "outputs": [
    {
     "data": {
      "text/plain": [
       "(2, 3)"
      ]
     },
     "execution_count": 55,
     "metadata": {},
     "output_type": "execute_result"
    }
   ],
   "source": [
    "x.shape"
   ]
  },
  {
   "cell_type": "code",
   "execution_count": 59,
   "metadata": {},
   "outputs": [
    {
     "data": {
      "text/plain": [
       "6"
      ]
     },
     "execution_count": 59,
     "metadata": {},
     "output_type": "execute_result"
    }
   ],
   "source": [
    "x.size\n"
   ]
  },
  {
   "cell_type": "code",
   "execution_count": 58,
   "metadata": {},
   "outputs": [
    {
     "data": {
      "text/plain": [
       "array([ 0.21288689,  0.20662218,  0.78018623])"
      ]
     },
     "execution_count": 58,
     "metadata": {},
     "output_type": "execute_result"
    }
   ],
   "source": [
    "x[0]"
   ]
  },
  {
   "cell_type": "code",
   "execution_count": null,
   "metadata": {
    "collapsed": true
   },
   "outputs": [],
   "source": []
  },
  {
   "cell_type": "code",
   "execution_count": 41,
   "metadata": {
    "collapsed": true
   },
   "outputs": [],
   "source": [
    "c = np.arange(1, 5)"
   ]
  },
  {
   "cell_type": "code",
   "execution_count": 42,
   "metadata": {},
   "outputs": [
    {
     "data": {
      "text/plain": [
       "array([1, 2, 3, 4])"
      ]
     },
     "execution_count": 42,
     "metadata": {},
     "output_type": "execute_result"
    }
   ],
   "source": [
    "c"
   ]
  },
  {
   "cell_type": "code",
   "execution_count": 43,
   "metadata": {},
   "outputs": [
    {
     "data": {
      "text/plain": [
       "dtype('int64')"
      ]
     },
     "execution_count": 43,
     "metadata": {},
     "output_type": "execute_result"
    }
   ],
   "source": [
    "c.dtype"
   ]
  },
  {
   "cell_type": "code",
   "execution_count": 44,
   "metadata": {},
   "outputs": [
    {
     "data": {
      "text/plain": [
       "8"
      ]
     },
     "execution_count": 44,
     "metadata": {},
     "output_type": "execute_result"
    }
   ],
   "source": [
    "c.itemsize"
   ]
  },
  {
   "cell_type": "code",
   "execution_count": 26,
   "metadata": {},
   "outputs": [
    {
     "name": "stdout",
     "output_type": "stream",
     "text": [
      "[0 1 2 3 4 5]\n"
     ]
    }
   ],
   "source": [
    "a = np.arange(6)\n",
    "print(a)"
   ]
  },
  {
   "cell_type": "code",
   "execution_count": 30,
   "metadata": {},
   "outputs": [
    {
     "name": "stdout",
     "output_type": "stream",
     "text": [
      "[[0 1]\n",
      " [2 3]\n",
      " [4 5]]\n"
     ]
    }
   ],
   "source": [
    "b = a.reshape(3,2)\n",
    "print(b)"
   ]
  },
  {
   "cell_type": "code",
   "execution_count": 47,
   "metadata": {},
   "outputs": [
    {
     "data": {
      "text/plain": [
       "['ALLOW_THREADS',\n",
       " 'AxisError',\n",
       " 'BUFSIZE',\n",
       " 'CLIP',\n",
       " 'ComplexWarning',\n",
       " 'DataSource',\n",
       " 'ERR_CALL',\n",
       " 'ERR_DEFAULT',\n",
       " 'ERR_IGNORE',\n",
       " 'ERR_LOG',\n",
       " 'ERR_PRINT',\n",
       " 'ERR_RAISE',\n",
       " 'ERR_WARN',\n",
       " 'FLOATING_POINT_SUPPORT',\n",
       " 'FPE_DIVIDEBYZERO',\n",
       " 'FPE_INVALID',\n",
       " 'FPE_OVERFLOW',\n",
       " 'FPE_UNDERFLOW',\n",
       " 'False_',\n",
       " 'Inf',\n",
       " 'Infinity',\n",
       " 'MAXDIMS',\n",
       " 'MAY_SHARE_BOUNDS',\n",
       " 'MAY_SHARE_EXACT',\n",
       " 'MachAr',\n",
       " 'ModuleDeprecationWarning',\n",
       " 'NAN',\n",
       " 'NINF',\n",
       " 'NZERO',\n",
       " 'NaN',\n",
       " 'PINF',\n",
       " 'PZERO',\n",
       " 'PackageLoader',\n",
       " 'RAISE',\n",
       " 'RankWarning',\n",
       " 'SHIFT_DIVIDEBYZERO',\n",
       " 'SHIFT_INVALID',\n",
       " 'SHIFT_OVERFLOW',\n",
       " 'SHIFT_UNDERFLOW',\n",
       " 'ScalarType',\n",
       " 'Tester',\n",
       " 'TooHardError',\n",
       " 'True_',\n",
       " 'UFUNC_BUFSIZE_DEFAULT',\n",
       " 'UFUNC_PYVALS_NAME',\n",
       " 'VisibleDeprecationWarning',\n",
       " 'WRAP',\n",
       " '_NoValue',\n",
       " '__NUMPY_SETUP__',\n",
       " '__all__',\n",
       " '__builtins__',\n",
       " '__cached__',\n",
       " '__config__',\n",
       " '__doc__',\n",
       " '__file__',\n",
       " '__git_revision__',\n",
       " '__loader__',\n",
       " '__mkl_version__',\n",
       " '__name__',\n",
       " '__package__',\n",
       " '__path__',\n",
       " '__spec__',\n",
       " '__version__',\n",
       " '_distributor_init',\n",
       " '_globals',\n",
       " '_import_tools',\n",
       " '_mat',\n",
       " 'abs',\n",
       " 'absolute',\n",
       " 'absolute_import',\n",
       " 'add',\n",
       " 'add_docstring',\n",
       " 'add_newdoc',\n",
       " 'add_newdoc_ufunc',\n",
       " 'add_newdocs',\n",
       " 'alen',\n",
       " 'all',\n",
       " 'allclose',\n",
       " 'alltrue',\n",
       " 'amax',\n",
       " 'amin',\n",
       " 'angle',\n",
       " 'any',\n",
       " 'append',\n",
       " 'apply_along_axis',\n",
       " 'apply_over_axes',\n",
       " 'arange',\n",
       " 'arccos',\n",
       " 'arccosh',\n",
       " 'arcsin',\n",
       " 'arcsinh',\n",
       " 'arctan',\n",
       " 'arctan2',\n",
       " 'arctanh',\n",
       " 'argmax',\n",
       " 'argmin',\n",
       " 'argpartition',\n",
       " 'argsort',\n",
       " 'argwhere',\n",
       " 'around',\n",
       " 'array',\n",
       " 'array2string',\n",
       " 'array_equal',\n",
       " 'array_equiv',\n",
       " 'array_repr',\n",
       " 'array_split',\n",
       " 'array_str',\n",
       " 'asanyarray',\n",
       " 'asarray',\n",
       " 'asarray_chkfinite',\n",
       " 'ascontiguousarray',\n",
       " 'asfarray',\n",
       " 'asfortranarray',\n",
       " 'asmatrix',\n",
       " 'asscalar',\n",
       " 'atleast_1d',\n",
       " 'atleast_2d',\n",
       " 'atleast_3d',\n",
       " 'average',\n",
       " 'bartlett',\n",
       " 'base_repr',\n",
       " 'bench',\n",
       " 'binary_repr',\n",
       " 'bincount',\n",
       " 'bitwise_and',\n",
       " 'bitwise_not',\n",
       " 'bitwise_or',\n",
       " 'bitwise_xor',\n",
       " 'blackman',\n",
       " 'block',\n",
       " 'bmat',\n",
       " 'bool',\n",
       " 'bool8',\n",
       " 'bool_',\n",
       " 'broadcast',\n",
       " 'broadcast_arrays',\n",
       " 'broadcast_to',\n",
       " 'busday_count',\n",
       " 'busday_offset',\n",
       " 'busdaycalendar',\n",
       " 'byte',\n",
       " 'byte_bounds',\n",
       " 'bytes0',\n",
       " 'bytes_',\n",
       " 'c_',\n",
       " 'can_cast',\n",
       " 'cast',\n",
       " 'cbrt',\n",
       " 'cdouble',\n",
       " 'ceil',\n",
       " 'cfloat',\n",
       " 'char',\n",
       " 'character',\n",
       " 'chararray',\n",
       " 'choose',\n",
       " 'clip',\n",
       " 'clongdouble',\n",
       " 'clongfloat',\n",
       " 'column_stack',\n",
       " 'common_type',\n",
       " 'compare_chararrays',\n",
       " 'compat',\n",
       " 'complex',\n",
       " 'complex128',\n",
       " 'complex256',\n",
       " 'complex64',\n",
       " 'complex_',\n",
       " 'complexfloating',\n",
       " 'compress',\n",
       " 'concatenate',\n",
       " 'conj',\n",
       " 'conjugate',\n",
       " 'convolve',\n",
       " 'copy',\n",
       " 'copysign',\n",
       " 'copyto',\n",
       " 'core',\n",
       " 'corrcoef',\n",
       " 'correlate',\n",
       " 'cos',\n",
       " 'cosh',\n",
       " 'count_nonzero',\n",
       " 'cov',\n",
       " 'cross',\n",
       " 'csingle',\n",
       " 'ctypeslib',\n",
       " 'cumprod',\n",
       " 'cumproduct',\n",
       " 'cumsum',\n",
       " 'datetime64',\n",
       " 'datetime_as_string',\n",
       " 'datetime_data',\n",
       " 'deg2rad',\n",
       " 'degrees',\n",
       " 'delete',\n",
       " 'deprecate',\n",
       " 'deprecate_with_doc',\n",
       " 'diag',\n",
       " 'diag_indices',\n",
       " 'diag_indices_from',\n",
       " 'diagflat',\n",
       " 'diagonal',\n",
       " 'diff',\n",
       " 'digitize',\n",
       " 'disp',\n",
       " 'divide',\n",
       " 'division',\n",
       " 'divmod',\n",
       " 'dot',\n",
       " 'double',\n",
       " 'dsplit',\n",
       " 'dstack',\n",
       " 'dtype',\n",
       " 'e',\n",
       " 'ediff1d',\n",
       " 'einsum',\n",
       " 'einsum_path',\n",
       " 'emath',\n",
       " 'empty',\n",
       " 'empty_like',\n",
       " 'equal',\n",
       " 'errstate',\n",
       " 'euler_gamma',\n",
       " 'exp',\n",
       " 'exp2',\n",
       " 'expand_dims',\n",
       " 'expm1',\n",
       " 'extract',\n",
       " 'eye',\n",
       " 'fabs',\n",
       " 'fastCopyAndTranspose',\n",
       " 'fft',\n",
       " 'fill_diagonal',\n",
       " 'find_common_type',\n",
       " 'finfo',\n",
       " 'fix',\n",
       " 'flatiter',\n",
       " 'flatnonzero',\n",
       " 'flexible',\n",
       " 'flip',\n",
       " 'fliplr',\n",
       " 'flipud',\n",
       " 'float',\n",
       " 'float128',\n",
       " 'float16',\n",
       " 'float32',\n",
       " 'float64',\n",
       " 'float_',\n",
       " 'float_power',\n",
       " 'floating',\n",
       " 'floor',\n",
       " 'floor_divide',\n",
       " 'fmax',\n",
       " 'fmin',\n",
       " 'fmod',\n",
       " 'format_parser',\n",
       " 'frexp',\n",
       " 'frombuffer',\n",
       " 'fromfile',\n",
       " 'fromfunction',\n",
       " 'fromiter',\n",
       " 'frompyfunc',\n",
       " 'fromregex',\n",
       " 'fromstring',\n",
       " 'full',\n",
       " 'full_like',\n",
       " 'fv',\n",
       " 'generic',\n",
       " 'genfromtxt',\n",
       " 'geomspace',\n",
       " 'get_array_wrap',\n",
       " 'get_include',\n",
       " 'get_printoptions',\n",
       " 'getbufsize',\n",
       " 'geterr',\n",
       " 'geterrcall',\n",
       " 'geterrobj',\n",
       " 'gradient',\n",
       " 'greater',\n",
       " 'greater_equal',\n",
       " 'half',\n",
       " 'hamming',\n",
       " 'hanning',\n",
       " 'heaviside',\n",
       " 'histogram',\n",
       " 'histogram2d',\n",
       " 'histogramdd',\n",
       " 'hsplit',\n",
       " 'hstack',\n",
       " 'hypot',\n",
       " 'i0',\n",
       " 'identity',\n",
       " 'iinfo',\n",
       " 'imag',\n",
       " 'in1d',\n",
       " 'index_exp',\n",
       " 'indices',\n",
       " 'inexact',\n",
       " 'inf',\n",
       " 'info',\n",
       " 'infty',\n",
       " 'inner',\n",
       " 'insert',\n",
       " 'int',\n",
       " 'int0',\n",
       " 'int16',\n",
       " 'int32',\n",
       " 'int64',\n",
       " 'int8',\n",
       " 'int_',\n",
       " 'int_asbuffer',\n",
       " 'intc',\n",
       " 'integer',\n",
       " 'interp',\n",
       " 'intersect1d',\n",
       " 'intp',\n",
       " 'invert',\n",
       " 'ipmt',\n",
       " 'irr',\n",
       " 'is_busday',\n",
       " 'isclose',\n",
       " 'iscomplex',\n",
       " 'iscomplexobj',\n",
       " 'isfinite',\n",
       " 'isfortran',\n",
       " 'isin',\n",
       " 'isinf',\n",
       " 'isnan',\n",
       " 'isnat',\n",
       " 'isneginf',\n",
       " 'isposinf',\n",
       " 'isreal',\n",
       " 'isrealobj',\n",
       " 'isscalar',\n",
       " 'issctype',\n",
       " 'issubclass_',\n",
       " 'issubdtype',\n",
       " 'issubsctype',\n",
       " 'iterable',\n",
       " 'ix_',\n",
       " 'kaiser',\n",
       " 'kron',\n",
       " 'ldexp',\n",
       " 'left_shift',\n",
       " 'less',\n",
       " 'less_equal',\n",
       " 'lexsort',\n",
       " 'lib',\n",
       " 'linalg',\n",
       " 'linspace',\n",
       " 'little_endian',\n",
       " 'load',\n",
       " 'loads',\n",
       " 'loadtxt',\n",
       " 'log',\n",
       " 'log10',\n",
       " 'log1p',\n",
       " 'log2',\n",
       " 'logaddexp',\n",
       " 'logaddexp2',\n",
       " 'logical_and',\n",
       " 'logical_not',\n",
       " 'logical_or',\n",
       " 'logical_xor',\n",
       " 'logspace',\n",
       " 'long',\n",
       " 'longcomplex',\n",
       " 'longdouble',\n",
       " 'longfloat',\n",
       " 'longlong',\n",
       " 'lookfor',\n",
       " 'ma',\n",
       " 'mafromtxt',\n",
       " 'mask_indices',\n",
       " 'mat',\n",
       " 'math',\n",
       " 'matmul',\n",
       " 'matrix',\n",
       " 'matrixlib',\n",
       " 'max',\n",
       " 'maximum',\n",
       " 'maximum_sctype',\n",
       " 'may_share_memory',\n",
       " 'mean',\n",
       " 'median',\n",
       " 'memmap',\n",
       " 'meshgrid',\n",
       " 'mgrid',\n",
       " 'min',\n",
       " 'min_scalar_type',\n",
       " 'minimum',\n",
       " 'mintypecode',\n",
       " 'mirr',\n",
       " 'mod',\n",
       " 'modf',\n",
       " 'moveaxis',\n",
       " 'msort',\n",
       " 'multiply',\n",
       " 'nan',\n",
       " 'nan_to_num',\n",
       " 'nanargmax',\n",
       " 'nanargmin',\n",
       " 'nancumprod',\n",
       " 'nancumsum',\n",
       " 'nanmax',\n",
       " 'nanmean',\n",
       " 'nanmedian',\n",
       " 'nanmin',\n",
       " 'nanpercentile',\n",
       " 'nanprod',\n",
       " 'nanstd',\n",
       " 'nansum',\n",
       " 'nanvar',\n",
       " 'nbytes',\n",
       " 'ndarray',\n",
       " 'ndenumerate',\n",
       " 'ndfromtxt',\n",
       " 'ndim',\n",
       " 'ndindex',\n",
       " 'nditer',\n",
       " 'negative',\n",
       " 'nested_iters',\n",
       " 'newaxis',\n",
       " 'nextafter',\n",
       " 'nonzero',\n",
       " 'not_equal',\n",
       " 'nper',\n",
       " 'npv',\n",
       " 'numarray',\n",
       " 'number',\n",
       " 'obj2sctype',\n",
       " 'object',\n",
       " 'object0',\n",
       " 'object_',\n",
       " 'ogrid',\n",
       " 'oldnumeric',\n",
       " 'ones',\n",
       " 'ones_like',\n",
       " 'outer',\n",
       " 'packbits',\n",
       " 'pad',\n",
       " 'partition',\n",
       " 'percentile',\n",
       " 'pi',\n",
       " 'piecewise',\n",
       " 'pkgload',\n",
       " 'place',\n",
       " 'pmt',\n",
       " 'poly',\n",
       " 'poly1d',\n",
       " 'polyadd',\n",
       " 'polyder',\n",
       " 'polydiv',\n",
       " 'polyfit',\n",
       " 'polyint',\n",
       " 'polymul',\n",
       " 'polynomial',\n",
       " 'polysub',\n",
       " 'polyval',\n",
       " 'positive',\n",
       " 'power',\n",
       " 'ppmt',\n",
       " 'print_function',\n",
       " 'prod',\n",
       " 'product',\n",
       " 'promote_types',\n",
       " 'ptp',\n",
       " 'put',\n",
       " 'putmask',\n",
       " 'pv',\n",
       " 'r_',\n",
       " 'rad2deg',\n",
       " 'radians',\n",
       " 'random',\n",
       " 'rank',\n",
       " 'rate',\n",
       " 'ravel',\n",
       " 'ravel_multi_index',\n",
       " 'real',\n",
       " 'real_if_close',\n",
       " 'rec',\n",
       " 'recarray',\n",
       " 'recfromcsv',\n",
       " 'recfromtxt',\n",
       " 'reciprocal',\n",
       " 'record',\n",
       " 'remainder',\n",
       " 'repeat',\n",
       " 'require',\n",
       " 'reshape',\n",
       " 'resize',\n",
       " 'result_type',\n",
       " 'right_shift',\n",
       " 'rint',\n",
       " 'roll',\n",
       " 'rollaxis',\n",
       " 'roots',\n",
       " 'rot90',\n",
       " 'round',\n",
       " 'round_',\n",
       " 'row_stack',\n",
       " 's_',\n",
       " 'safe_eval',\n",
       " 'save',\n",
       " 'savetxt',\n",
       " 'savez',\n",
       " 'savez_compressed',\n",
       " 'sctype2char',\n",
       " 'sctypeDict',\n",
       " 'sctypeNA',\n",
       " 'sctypes',\n",
       " 'searchsorted',\n",
       " 'select',\n",
       " 'set_numeric_ops',\n",
       " 'set_printoptions',\n",
       " 'set_string_function',\n",
       " 'setbufsize',\n",
       " 'setdiff1d',\n",
       " 'seterr',\n",
       " 'seterrcall',\n",
       " 'seterrobj',\n",
       " 'setxor1d',\n",
       " 'shape',\n",
       " 'shares_memory',\n",
       " 'short',\n",
       " 'show_config',\n",
       " 'sign',\n",
       " 'signbit',\n",
       " 'signedinteger',\n",
       " 'sin',\n",
       " 'sinc',\n",
       " 'single',\n",
       " 'singlecomplex',\n",
       " 'sinh',\n",
       " 'size',\n",
       " 'sometrue',\n",
       " 'sort',\n",
       " 'sort_complex',\n",
       " 'source',\n",
       " 'spacing',\n",
       " 'split',\n",
       " 'sqrt',\n",
       " 'square',\n",
       " 'squeeze',\n",
       " 'stack',\n",
       " 'std',\n",
       " 'str',\n",
       " 'str0',\n",
       " 'str_',\n",
       " 'string_',\n",
       " 'subtract',\n",
       " 'sum',\n",
       " 'swapaxes',\n",
       " 'sys',\n",
       " 'take',\n",
       " 'tan',\n",
       " 'tanh',\n",
       " 'tensordot',\n",
       " 'test',\n",
       " 'testing',\n",
       " 'tile',\n",
       " 'timedelta64',\n",
       " 'trace',\n",
       " 'tracemalloc_domain',\n",
       " 'transpose',\n",
       " 'trapz',\n",
       " 'tri',\n",
       " 'tril',\n",
       " 'tril_indices',\n",
       " 'tril_indices_from',\n",
       " 'trim_zeros',\n",
       " 'triu',\n",
       " 'triu_indices',\n",
       " 'triu_indices_from',\n",
       " 'true_divide',\n",
       " 'trunc',\n",
       " 'typeDict',\n",
       " 'typeNA',\n",
       " 'typecodes',\n",
       " 'typename',\n",
       " 'ubyte',\n",
       " 'ufunc',\n",
       " 'uint',\n",
       " 'uint0',\n",
       " 'uint16',\n",
       " 'uint32',\n",
       " 'uint64',\n",
       " 'uint8',\n",
       " 'uintc',\n",
       " 'uintp',\n",
       " 'ulonglong',\n",
       " 'unicode',\n",
       " 'unicode_',\n",
       " 'union1d',\n",
       " 'unique',\n",
       " 'unpackbits',\n",
       " 'unravel_index',\n",
       " 'unsignedinteger',\n",
       " 'unwrap',\n",
       " 'ushort',\n",
       " 'vander',\n",
       " 'var',\n",
       " 'vdot',\n",
       " 'vectorize',\n",
       " 'version',\n",
       " 'void',\n",
       " 'void0',\n",
       " 'vsplit',\n",
       " 'vstack',\n",
       " 'warnings',\n",
       " 'where',\n",
       " 'who',\n",
       " 'zeros',\n",
       " 'zeros_like']"
      ]
     },
     "execution_count": 47,
     "metadata": {},
     "output_type": "execute_result"
    }
   ],
   "source": [
    "dir(np)"
   ]
  },
  {
   "cell_type": "code",
   "execution_count": 51,
   "metadata": {},
   "outputs": [
    {
     "data": {
      "text/plain": [
       "5"
      ]
     },
     "execution_count": 51,
     "metadata": {},
     "output_type": "execute_result"
    }
   ],
   "source": [
    "a = np.array([1, 5, 3, 19, 13, 7, 3])\n",
    "a[1]"
   ]
  },
  {
   "cell_type": "code",
   "execution_count": 52,
   "metadata": {
    "scrolled": true
   },
   "outputs": [
    {
     "data": {
      "text/plain": [
       "array([ 3, 19, 13])"
      ]
     },
     "execution_count": 52,
     "metadata": {},
     "output_type": "execute_result"
    }
   ],
   "source": [
    "a[2:5]"
   ]
  },
  {
   "cell_type": "code",
   "execution_count": 35,
   "metadata": {},
   "outputs": [
    {
     "data": {
      "text/plain": [
       "array([0, 1, 2, 3, 4, 5])"
      ]
     },
     "execution_count": 35,
     "metadata": {},
     "output_type": "execute_result"
    }
   ],
   "source": [
    "a"
   ]
  },
  {
   "cell_type": "code",
   "execution_count": 38,
   "metadata": {},
   "outputs": [
    {
     "data": {
      "text/plain": [
       "array([1, 3, 5])"
      ]
     },
     "execution_count": 38,
     "metadata": {},
     "output_type": "execute_result"
    }
   ],
   "source": [
    "a[1:6:2]"
   ]
  },
  {
   "cell_type": "code",
   "execution_count": 43,
   "metadata": {},
   "outputs": [
    {
     "data": {
      "text/plain": [
       "{'In': ['',\n",
       "  'import numpy as np',\n",
       "  'a = np.array([1, 2, 3])\\na',\n",
       "  'type(a)',\n",
       "  'b = np.array((3, 4, 5))',\n",
       "  'x = np.zeros((2,3,4))  \\nprint(x)',\n",
       "  'np.zeros(3)',\n",
       "  'x = np.zeros((3,4))  \\nprint(x)\\ntype(x.dtype)',\n",
       "  'x.shape',\n",
       "  'np.full( (3,4), 0.11 )',\n",
       "  'np.full( (3,4), np.pi )',\n",
       "  'x',\n",
       "  'x = [\\n        [\\n            [1, 3],\\n            [1, 3], \\n            [1, 3],\\n            [1, 3]\\n        ],\\n        [\\n            [1, 3],\\n            [1, 3], \\n            [1, 3],\\n            [1, 3]\\n        ]\\n]',\n",
       "  'xx = np.array(x)\\nprint(xx.shape)\\nprint(xx)',\n",
       "  'x = [\\n        [\\n            1,2,3,4\\n        ],\\n        [\\n            1,2,2,2\\n        ]\\n]\\nx1 = np.array(x)\\nprint(x1.shape)',\n",
       "  'np.linspace(1, 10, 3)',\n",
       "  'np.linspace(0, 10, 3)',\n",
       "  '# Make a 2x3 matrix having random floats between 0 and 1:\\nnp.random.rand(2,3)',\n",
       "  '# Make a 2x3 matrix having random floats between 0 and 1:\\nnp.random.rand(2,3,5)',\n",
       "  '# Make a 2x3 matrix having random floats between 0 and 1:\\nnp.random.rand(2,3)',\n",
       "  'x.ndim',\n",
       "  'x',\n",
       "  'x.ndim',\n",
       "  'x = np.empty((2,3))',\n",
       "  'x',\n",
       "  'x.ndim',\n",
       "  'a = np.arange(6)\\nprint(a)',\n",
       "  'b = a.reshape(2, 3)\\nprint(b)',\n",
       "  'b = a.reshape(2, 4)\\nprint(b)',\n",
       "  'b = a.reshape(2, 3)\\nprint(b)',\n",
       "  'b = a.reshape(3,2)\\nprint(b)',\n",
       "  'a',\n",
       "  'a[::]',\n",
       "  'a[1::]',\n",
       "  'a[1:3:]',\n",
       "  'a',\n",
       "  'a[1:3:1]',\n",
       "  'a[1:3:2]',\n",
       "  'a[1:6:2]',\n",
       "  \"get_ipython().magic('dirs')\",\n",
       "  \"get_ipython().magic('env')\",\n",
       "  \"get_ipython().magic('local ()')\",\n",
       "  'local()',\n",
       "  'locals()'],\n",
       " 'Out': {2: array([1, 2, 3]),\n",
       "  3: numpy.ndarray,\n",
       "  6: array([ 0.,  0.,  0.]),\n",
       "  7: numpy.dtype,\n",
       "  8: (3, 4),\n",
       "  9: array([[ 0.11,  0.11,  0.11,  0.11],\n",
       "         [ 0.11,  0.11,  0.11,  0.11],\n",
       "         [ 0.11,  0.11,  0.11,  0.11]]),\n",
       "  10: array([[ 3.14159265,  3.14159265,  3.14159265,  3.14159265],\n",
       "         [ 3.14159265,  3.14159265,  3.14159265,  3.14159265],\n",
       "         [ 3.14159265,  3.14159265,  3.14159265,  3.14159265]]),\n",
       "  11: array([[ 0.,  0.,  0.,  0.],\n",
       "         [ 0.,  0.,  0.,  0.],\n",
       "         [ 0.,  0.,  0.,  0.]]),\n",
       "  15: array([  1. ,   5.5,  10. ]),\n",
       "  16: array([  0.,   5.,  10.]),\n",
       "  17: array([[ 0.8524341 ,  0.58133572,  0.89056182],\n",
       "         [ 0.93865944,  0.61030374,  0.94891925]]),\n",
       "  18: array([[[ 0.47925736,  0.63573989,  0.51391159,  0.58746411,  0.16174033],\n",
       "          [ 0.15111898,  0.09894501,  0.54394582,  0.81963391,  0.6170946 ],\n",
       "          [ 0.12876706,  0.00418903,  0.92303829,  0.60726772,  0.09685135]],\n",
       "  \n",
       "         [[ 0.62206594,  0.26582863,  0.49296991,  0.41346447,  0.19986025],\n",
       "          [ 0.60867475,  0.07128918,  0.29588672,  0.84776985,  0.33987   ],\n",
       "          [ 0.39017456,  0.02132131,  0.10281896,  0.56495264,  0.14650556]]]),\n",
       "  19: array([[ 0.11986549,  0.59448042,  0.55987719],\n",
       "         [ 0.11868417,  0.07005783,  0.41551619]]),\n",
       "  21: [[1, 2, 3, 4], [1, 2, 2, 2]],\n",
       "  24: array([[ 0.11986549,  0.59448042,  0.55987719],\n",
       "         [ 0.11868417,  0.07005783,  0.41551619]]),\n",
       "  25: 2,\n",
       "  31: array([0, 1, 2, 3, 4, 5]),\n",
       "  32: array([0, 1, 2, 3, 4, 5]),\n",
       "  33: array([1, 2, 3, 4, 5]),\n",
       "  34: array([1, 2]),\n",
       "  35: array([0, 1, 2, 3, 4, 5]),\n",
       "  36: array([1, 2]),\n",
       "  37: array([1]),\n",
       "  38: array([1, 3, 5]),\n",
       "  39: [],\n",
       "  40: {'CLICOLOR': '1',\n",
       "   'CONDA_DEFAULT_ENV': 'py36',\n",
       "   'GIT_PAGER': 'cat',\n",
       "   'HOME': '/home/sandeepgiri9034',\n",
       "   'JPY_API_TOKEN': 'e58241beb26b4b7d8b7038fdebb01adc',\n",
       "   'JPY_PARENT_PID': '5135',\n",
       "   'JUPYTERHUB_API_TOKEN': 'e58241beb26b4b7d8b7038fdebb01adc',\n",
       "   'JUPYTERHUB_API_URL': 'http://127.0.0.1:8081/hub/api',\n",
       "   'JUPYTERHUB_BASE_URL': '/',\n",
       "   'JUPYTERHUB_CLIENT_ID': 'user-sandeepgiri9034',\n",
       "   'JUPYTERHUB_HOST': '',\n",
       "   'JUPYTERHUB_OAUTH_CALLBACK_URL': '/user/sandeepgiri9034/oauth_callback',\n",
       "   'JUPYTERHUB_SERVICE_PREFIX': '/user/sandeepgiri9034/',\n",
       "   'JUPYTERHUB_USER': 'sandeepgiri9034',\n",
       "   'LANG': 'en_US.UTF-8',\n",
       "   'MPLBACKEND': 'module://ipykernel.pylab.backend_inline',\n",
       "   'PAGER': 'cat',\n",
       "   'PATH': '/usr/local/anaconda/envs/py36/bin:/usr/local/anaconda/bin:/sbin:/bin:/usr/sbin:/usr/bin',\n",
       "   'SHELL': '/bin/bash',\n",
       "   'TERM': 'xterm-color',\n",
       "   'USER': 'sandeepgiri9034'}},\n",
       " '_': {'CLICOLOR': '1',\n",
       "  'CONDA_DEFAULT_ENV': 'py36',\n",
       "  'GIT_PAGER': 'cat',\n",
       "  'HOME': '/home/sandeepgiri9034',\n",
       "  'JPY_API_TOKEN': 'e58241beb26b4b7d8b7038fdebb01adc',\n",
       "  'JPY_PARENT_PID': '5135',\n",
       "  'JUPYTERHUB_API_TOKEN': 'e58241beb26b4b7d8b7038fdebb01adc',\n",
       "  'JUPYTERHUB_API_URL': 'http://127.0.0.1:8081/hub/api',\n",
       "  'JUPYTERHUB_BASE_URL': '/',\n",
       "  'JUPYTERHUB_CLIENT_ID': 'user-sandeepgiri9034',\n",
       "  'JUPYTERHUB_HOST': '',\n",
       "  'JUPYTERHUB_OAUTH_CALLBACK_URL': '/user/sandeepgiri9034/oauth_callback',\n",
       "  'JUPYTERHUB_SERVICE_PREFIX': '/user/sandeepgiri9034/',\n",
       "  'JUPYTERHUB_USER': 'sandeepgiri9034',\n",
       "  'LANG': 'en_US.UTF-8',\n",
       "  'MPLBACKEND': 'module://ipykernel.pylab.backend_inline',\n",
       "  'PAGER': 'cat',\n",
       "  'PATH': '/usr/local/anaconda/envs/py36/bin:/usr/local/anaconda/bin:/sbin:/bin:/usr/sbin:/usr/bin',\n",
       "  'SHELL': '/bin/bash',\n",
       "  'TERM': 'xterm-color',\n",
       "  'USER': 'sandeepgiri9034'},\n",
       " '_10': array([[ 3.14159265,  3.14159265,  3.14159265,  3.14159265],\n",
       "        [ 3.14159265,  3.14159265,  3.14159265,  3.14159265],\n",
       "        [ 3.14159265,  3.14159265,  3.14159265,  3.14159265]]),\n",
       " '_11': array([[ 0.,  0.,  0.,  0.],\n",
       "        [ 0.,  0.,  0.,  0.],\n",
       "        [ 0.,  0.,  0.,  0.]]),\n",
       " '_15': array([  1. ,   5.5,  10. ]),\n",
       " '_16': array([  0.,   5.,  10.]),\n",
       " '_17': array([[ 0.8524341 ,  0.58133572,  0.89056182],\n",
       "        [ 0.93865944,  0.61030374,  0.94891925]]),\n",
       " '_18': array([[[ 0.47925736,  0.63573989,  0.51391159,  0.58746411,  0.16174033],\n",
       "         [ 0.15111898,  0.09894501,  0.54394582,  0.81963391,  0.6170946 ],\n",
       "         [ 0.12876706,  0.00418903,  0.92303829,  0.60726772,  0.09685135]],\n",
       " \n",
       "        [[ 0.62206594,  0.26582863,  0.49296991,  0.41346447,  0.19986025],\n",
       "         [ 0.60867475,  0.07128918,  0.29588672,  0.84776985,  0.33987   ],\n",
       "         [ 0.39017456,  0.02132131,  0.10281896,  0.56495264,  0.14650556]]]),\n",
       " '_19': array([[ 0.11986549,  0.59448042,  0.55987719],\n",
       "        [ 0.11868417,  0.07005783,  0.41551619]]),\n",
       " '_2': array([1, 2, 3]),\n",
       " '_21': [[1, 2, 3, 4], [1, 2, 2, 2]],\n",
       " '_24': array([[ 0.11986549,  0.59448042,  0.55987719],\n",
       "        [ 0.11868417,  0.07005783,  0.41551619]]),\n",
       " '_25': 2,\n",
       " '_3': numpy.ndarray,\n",
       " '_31': array([0, 1, 2, 3, 4, 5]),\n",
       " '_32': array([0, 1, 2, 3, 4, 5]),\n",
       " '_33': array([1, 2, 3, 4, 5]),\n",
       " '_34': array([1, 2]),\n",
       " '_35': array([0, 1, 2, 3, 4, 5]),\n",
       " '_36': array([1, 2]),\n",
       " '_37': array([1]),\n",
       " '_38': array([1, 3, 5]),\n",
       " '_39': [],\n",
       " '_40': {'CLICOLOR': '1',\n",
       "  'CONDA_DEFAULT_ENV': 'py36',\n",
       "  'GIT_PAGER': 'cat',\n",
       "  'HOME': '/home/sandeepgiri9034',\n",
       "  'JPY_API_TOKEN': 'e58241beb26b4b7d8b7038fdebb01adc',\n",
       "  'JPY_PARENT_PID': '5135',\n",
       "  'JUPYTERHUB_API_TOKEN': 'e58241beb26b4b7d8b7038fdebb01adc',\n",
       "  'JUPYTERHUB_API_URL': 'http://127.0.0.1:8081/hub/api',\n",
       "  'JUPYTERHUB_BASE_URL': '/',\n",
       "  'JUPYTERHUB_CLIENT_ID': 'user-sandeepgiri9034',\n",
       "  'JUPYTERHUB_HOST': '',\n",
       "  'JUPYTERHUB_OAUTH_CALLBACK_URL': '/user/sandeepgiri9034/oauth_callback',\n",
       "  'JUPYTERHUB_SERVICE_PREFIX': '/user/sandeepgiri9034/',\n",
       "  'JUPYTERHUB_USER': 'sandeepgiri9034',\n",
       "  'LANG': 'en_US.UTF-8',\n",
       "  'MPLBACKEND': 'module://ipykernel.pylab.backend_inline',\n",
       "  'PAGER': 'cat',\n",
       "  'PATH': '/usr/local/anaconda/envs/py36/bin:/usr/local/anaconda/bin:/sbin:/bin:/usr/sbin:/usr/bin',\n",
       "  'SHELL': '/bin/bash',\n",
       "  'TERM': 'xterm-color',\n",
       "  'USER': 'sandeepgiri9034'},\n",
       " '_6': array([ 0.,  0.,  0.]),\n",
       " '_7': numpy.dtype,\n",
       " '_8': (3, 4),\n",
       " '_9': array([[ 0.11,  0.11,  0.11,  0.11],\n",
       "        [ 0.11,  0.11,  0.11,  0.11],\n",
       "        [ 0.11,  0.11,  0.11,  0.11]]),\n",
       " '__': [],\n",
       " '___': array([1, 3, 5]),\n",
       " '__builtin__': <module 'builtins' (built-in)>,\n",
       " '__builtins__': <module 'builtins' (built-in)>,\n",
       " '__doc__': 'Automatically created module for IPython interactive environment',\n",
       " '__loader__': None,\n",
       " '__name__': '__main__',\n",
       " '__package__': None,\n",
       " '__spec__': None,\n",
       " '_dh': ['/home/sandeepgiri9034/ml/python'],\n",
       " '_i': 'local()',\n",
       " '_i1': 'import numpy as np',\n",
       " '_i10': 'np.full( (3,4), np.pi )',\n",
       " '_i11': 'x',\n",
       " '_i12': 'x = [\\n        [\\n            [1, 3],\\n            [1, 3], \\n            [1, 3],\\n            [1, 3]\\n        ],\\n        [\\n            [1, 3],\\n            [1, 3], \\n            [1, 3],\\n            [1, 3]\\n        ]\\n]',\n",
       " '_i13': 'xx = np.array(x)\\nprint(xx.shape)\\nprint(xx)',\n",
       " '_i14': 'x = [\\n        [\\n            1,2,3,4\\n        ],\\n        [\\n            1,2,2,2\\n        ]\\n]\\nx1 = np.array(x)\\nprint(x1.shape)',\n",
       " '_i15': 'np.linspace(1, 10, 3)',\n",
       " '_i16': 'np.linspace(0, 10, 3)',\n",
       " '_i17': '# Make a 2x3 matrix having random floats between 0 and 1:\\nnp.random.rand(2,3)',\n",
       " '_i18': '# Make a 2x3 matrix having random floats between 0 and 1:\\nnp.random.rand(2,3,5)',\n",
       " '_i19': '# Make a 2x3 matrix having random floats between 0 and 1:\\nnp.random.rand(2,3)',\n",
       " '_i2': 'a = np.array([1, 2, 3])\\na',\n",
       " '_i20': 'x.ndim',\n",
       " '_i21': 'x',\n",
       " '_i22': 'x.ndim',\n",
       " '_i23': 'x = np.empty((2,3))',\n",
       " '_i24': 'x',\n",
       " '_i25': 'x.ndim',\n",
       " '_i26': 'a = np.arange(6)\\nprint(a)',\n",
       " '_i27': 'b = a.reshape(2, 3)\\nprint(b)',\n",
       " '_i28': 'b = a.reshape(2, 4)\\nprint(b)',\n",
       " '_i29': 'b = a.reshape(2, 3)\\nprint(b)',\n",
       " '_i3': 'type(a)',\n",
       " '_i30': 'b = a.reshape(3,2)\\nprint(b)',\n",
       " '_i31': 'a',\n",
       " '_i32': 'a[::]',\n",
       " '_i33': 'a[1::]',\n",
       " '_i34': 'a[1:3:]',\n",
       " '_i35': 'a',\n",
       " '_i36': 'a[1:3:1]',\n",
       " '_i37': 'a[1:3:2]',\n",
       " '_i38': 'a[1:6:2]',\n",
       " '_i39': '%dirs',\n",
       " '_i4': 'b = np.array((3, 4, 5))',\n",
       " '_i40': '%env',\n",
       " '_i41': '%local()',\n",
       " '_i42': 'local()',\n",
       " '_i43': 'locals()',\n",
       " '_i5': 'x = np.zeros((2,3,4))  \\nprint(x)',\n",
       " '_i6': 'np.zeros(3)',\n",
       " '_i7': 'x = np.zeros((3,4))  \\nprint(x)\\ntype(x.dtype)',\n",
       " '_i8': 'x.shape',\n",
       " '_i9': 'np.full( (3,4), 0.11 )',\n",
       " '_ih': ['',\n",
       "  'import numpy as np',\n",
       "  'a = np.array([1, 2, 3])\\na',\n",
       "  'type(a)',\n",
       "  'b = np.array((3, 4, 5))',\n",
       "  'x = np.zeros((2,3,4))  \\nprint(x)',\n",
       "  'np.zeros(3)',\n",
       "  'x = np.zeros((3,4))  \\nprint(x)\\ntype(x.dtype)',\n",
       "  'x.shape',\n",
       "  'np.full( (3,4), 0.11 )',\n",
       "  'np.full( (3,4), np.pi )',\n",
       "  'x',\n",
       "  'x = [\\n        [\\n            [1, 3],\\n            [1, 3], \\n            [1, 3],\\n            [1, 3]\\n        ],\\n        [\\n            [1, 3],\\n            [1, 3], \\n            [1, 3],\\n            [1, 3]\\n        ]\\n]',\n",
       "  'xx = np.array(x)\\nprint(xx.shape)\\nprint(xx)',\n",
       "  'x = [\\n        [\\n            1,2,3,4\\n        ],\\n        [\\n            1,2,2,2\\n        ]\\n]\\nx1 = np.array(x)\\nprint(x1.shape)',\n",
       "  'np.linspace(1, 10, 3)',\n",
       "  'np.linspace(0, 10, 3)',\n",
       "  '# Make a 2x3 matrix having random floats between 0 and 1:\\nnp.random.rand(2,3)',\n",
       "  '# Make a 2x3 matrix having random floats between 0 and 1:\\nnp.random.rand(2,3,5)',\n",
       "  '# Make a 2x3 matrix having random floats between 0 and 1:\\nnp.random.rand(2,3)',\n",
       "  'x.ndim',\n",
       "  'x',\n",
       "  'x.ndim',\n",
       "  'x = np.empty((2,3))',\n",
       "  'x',\n",
       "  'x.ndim',\n",
       "  'a = np.arange(6)\\nprint(a)',\n",
       "  'b = a.reshape(2, 3)\\nprint(b)',\n",
       "  'b = a.reshape(2, 4)\\nprint(b)',\n",
       "  'b = a.reshape(2, 3)\\nprint(b)',\n",
       "  'b = a.reshape(3,2)\\nprint(b)',\n",
       "  'a',\n",
       "  'a[::]',\n",
       "  'a[1::]',\n",
       "  'a[1:3:]',\n",
       "  'a',\n",
       "  'a[1:3:1]',\n",
       "  'a[1:3:2]',\n",
       "  'a[1:6:2]',\n",
       "  \"get_ipython().magic('dirs')\",\n",
       "  \"get_ipython().magic('env')\",\n",
       "  \"get_ipython().magic('local ()')\",\n",
       "  'local()',\n",
       "  'locals()'],\n",
       " '_ii': '%local()',\n",
       " '_iii': '%env',\n",
       " '_oh': {2: array([1, 2, 3]),\n",
       "  3: numpy.ndarray,\n",
       "  6: array([ 0.,  0.,  0.]),\n",
       "  7: numpy.dtype,\n",
       "  8: (3, 4),\n",
       "  9: array([[ 0.11,  0.11,  0.11,  0.11],\n",
       "         [ 0.11,  0.11,  0.11,  0.11],\n",
       "         [ 0.11,  0.11,  0.11,  0.11]]),\n",
       "  10: array([[ 3.14159265,  3.14159265,  3.14159265,  3.14159265],\n",
       "         [ 3.14159265,  3.14159265,  3.14159265,  3.14159265],\n",
       "         [ 3.14159265,  3.14159265,  3.14159265,  3.14159265]]),\n",
       "  11: array([[ 0.,  0.,  0.,  0.],\n",
       "         [ 0.,  0.,  0.,  0.],\n",
       "         [ 0.,  0.,  0.,  0.]]),\n",
       "  15: array([  1. ,   5.5,  10. ]),\n",
       "  16: array([  0.,   5.,  10.]),\n",
       "  17: array([[ 0.8524341 ,  0.58133572,  0.89056182],\n",
       "         [ 0.93865944,  0.61030374,  0.94891925]]),\n",
       "  18: array([[[ 0.47925736,  0.63573989,  0.51391159,  0.58746411,  0.16174033],\n",
       "          [ 0.15111898,  0.09894501,  0.54394582,  0.81963391,  0.6170946 ],\n",
       "          [ 0.12876706,  0.00418903,  0.92303829,  0.60726772,  0.09685135]],\n",
       "  \n",
       "         [[ 0.62206594,  0.26582863,  0.49296991,  0.41346447,  0.19986025],\n",
       "          [ 0.60867475,  0.07128918,  0.29588672,  0.84776985,  0.33987   ],\n",
       "          [ 0.39017456,  0.02132131,  0.10281896,  0.56495264,  0.14650556]]]),\n",
       "  19: array([[ 0.11986549,  0.59448042,  0.55987719],\n",
       "         [ 0.11868417,  0.07005783,  0.41551619]]),\n",
       "  21: [[1, 2, 3, 4], [1, 2, 2, 2]],\n",
       "  24: array([[ 0.11986549,  0.59448042,  0.55987719],\n",
       "         [ 0.11868417,  0.07005783,  0.41551619]]),\n",
       "  25: 2,\n",
       "  31: array([0, 1, 2, 3, 4, 5]),\n",
       "  32: array([0, 1, 2, 3, 4, 5]),\n",
       "  33: array([1, 2, 3, 4, 5]),\n",
       "  34: array([1, 2]),\n",
       "  35: array([0, 1, 2, 3, 4, 5]),\n",
       "  36: array([1, 2]),\n",
       "  37: array([1]),\n",
       "  38: array([1, 3, 5]),\n",
       "  39: [],\n",
       "  40: {'CLICOLOR': '1',\n",
       "   'CONDA_DEFAULT_ENV': 'py36',\n",
       "   'GIT_PAGER': 'cat',\n",
       "   'HOME': '/home/sandeepgiri9034',\n",
       "   'JPY_API_TOKEN': 'e58241beb26b4b7d8b7038fdebb01adc',\n",
       "   'JPY_PARENT_PID': '5135',\n",
       "   'JUPYTERHUB_API_TOKEN': 'e58241beb26b4b7d8b7038fdebb01adc',\n",
       "   'JUPYTERHUB_API_URL': 'http://127.0.0.1:8081/hub/api',\n",
       "   'JUPYTERHUB_BASE_URL': '/',\n",
       "   'JUPYTERHUB_CLIENT_ID': 'user-sandeepgiri9034',\n",
       "   'JUPYTERHUB_HOST': '',\n",
       "   'JUPYTERHUB_OAUTH_CALLBACK_URL': '/user/sandeepgiri9034/oauth_callback',\n",
       "   'JUPYTERHUB_SERVICE_PREFIX': '/user/sandeepgiri9034/',\n",
       "   'JUPYTERHUB_USER': 'sandeepgiri9034',\n",
       "   'LANG': 'en_US.UTF-8',\n",
       "   'MPLBACKEND': 'module://ipykernel.pylab.backend_inline',\n",
       "   'PAGER': 'cat',\n",
       "   'PATH': '/usr/local/anaconda/envs/py36/bin:/usr/local/anaconda/bin:/sbin:/bin:/usr/sbin:/usr/bin',\n",
       "   'SHELL': '/bin/bash',\n",
       "   'TERM': 'xterm-color',\n",
       "   'USER': 'sandeepgiri9034'}},\n",
       " 'a': array([0, 1, 2, 3, 4, 5]),\n",
       " 'b': array([[0, 1],\n",
       "        [2, 3],\n",
       "        [4, 5]]),\n",
       " 'exit': <IPython.core.autocall.ZMQExitAutocall at 0x7ff4e3b73a58>,\n",
       " 'get_ipython': <bound method InteractiveShell.get_ipython of <ipykernel.zmqshell.ZMQInteractiveShell object at 0x7ff4e3ba6f60>>,\n",
       " 'np': <module 'numpy' from '/usr/local/anaconda/envs/py36/lib/python3.6/site-packages/numpy/__init__.py'>,\n",
       " 'quit': <IPython.core.autocall.ZMQExitAutocall at 0x7ff4e3b73a58>,\n",
       " 'x': array([[ 0.11986549,  0.59448042,  0.55987719],\n",
       "        [ 0.11868417,  0.07005783,  0.41551619]]),\n",
       " 'x1': array([[1, 2, 3, 4],\n",
       "        [1, 2, 2, 2]]),\n",
       " 'xx': array([[[1, 3],\n",
       "         [1, 3],\n",
       "         [1, 3],\n",
       "         [1, 3]],\n",
       " \n",
       "        [[1, 3],\n",
       "         [1, 3],\n",
       "         [1, 3],\n",
       "         [1, 3]]])}"
      ]
     },
     "execution_count": 43,
     "metadata": {},
     "output_type": "execute_result"
    }
   ],
   "source": [
    "locals()"
   ]
  },
  {
   "cell_type": "code",
   "execution_count": 55,
   "metadata": {
    "scrolled": true
   },
   "outputs": [
    {
     "name": "stdout",
     "output_type": "stream",
     "text": [
      "[ 3 13  3]\n",
      "[3 7]\n",
      "[ 3  7 13 19  3  5  1]\n"
     ]
    }
   ],
   "source": [
    "print(a[2::2])\n",
    "print(a[2::3])\n",
    "print(a[::-1])"
   ]
  },
  {
   "cell_type": "code",
   "execution_count": 44,
   "metadata": {},
   "outputs": [
    {
     "name": "stdout",
     "output_type": "stream",
     "text": [
      "[ 1  5  3 19 13  7  3]\n",
      "[ 1 -1 -1 19 13  7  3]\n"
     ]
    }
   ],
   "source": [
    "a = np.array([1, 5, 3, 19, 13, 7, 3])\n",
    "print(a)\n",
    "a[1:3] = -1\n",
    "print(a)"
   ]
  },
  {
   "cell_type": "code",
   "execution_count": 45,
   "metadata": {
    "collapsed": true
   },
   "outputs": [],
   "source": [
    "b = [1, 2, 5, 7, 8]"
   ]
  },
  {
   "cell_type": "code",
   "execution_count": 46,
   "metadata": {},
   "outputs": [
    {
     "ename": "TypeError",
     "evalue": "can only assign an iterable",
     "output_type": "error",
     "traceback": [
      "\u001b[0;31m---------------------------------------------------------------------------\u001b[0m",
      "\u001b[0;31mTypeError\u001b[0m                                 Traceback (most recent call last)",
      "\u001b[0;32m<ipython-input-46-0efa1db7a79b>\u001b[0m in \u001b[0;36m<module>\u001b[0;34m()\u001b[0m\n\u001b[0;32m----> 1\u001b[0;31m \u001b[0mb\u001b[0m\u001b[0;34m[\u001b[0m\u001b[0;36m1\u001b[0m\u001b[0;34m:\u001b[0m\u001b[0;36m3\u001b[0m\u001b[0;34m]\u001b[0m \u001b[0;34m=\u001b[0m \u001b[0;34m-\u001b[0m\u001b[0;36m1\u001b[0m\u001b[0;34m\u001b[0m\u001b[0m\n\u001b[0m",
      "\u001b[0;31mTypeError\u001b[0m: can only assign an iterable"
     ]
    }
   ],
   "source": [
    "b[1:3] = -1\n"
   ]
  },
  {
   "cell_type": "code",
   "execution_count": 62,
   "metadata": {},
   "outputs": [
    {
     "name": "stdout",
     "output_type": "stream",
     "text": [
      "[   1    2 1000    7    8]\n"
     ]
    }
   ],
   "source": [
    "a = np.array([1, 2, 5, 7, 8])\n",
    "a_slice = a[1:5] # 2, 5, 7, 8\n",
    "a_slice[1] = 1000\n",
    "print(a)"
   ]
  },
  {
   "cell_type": "code",
   "execution_count": 63,
   "metadata": {},
   "outputs": [
    {
     "name": "stdout",
     "output_type": "stream",
     "text": [
      "[ 1000 23333     8]\n",
      "[   1    2 1000    7    8]\n"
     ]
    }
   ],
   "source": [
    "another_slice = a[2:6].copy()\n",
    "another_slice[1] = 23333  \n",
    "print(another_slice) #Updated\n",
    "print(a) #Unchanged"
   ]
  },
  {
   "cell_type": "code",
   "execution_count": 48,
   "metadata": {
    "collapsed": true
   },
   "outputs": [],
   "source": [
    "x = np.random.rand(4,5)"
   ]
  },
  {
   "cell_type": "code",
   "execution_count": 49,
   "metadata": {},
   "outputs": [
    {
     "data": {
      "text/plain": [
       "array([[ 0.51413037,  0.69482588,  0.2815293 ,  0.6633343 ,  0.14940355],\n",
       "       [ 0.00840067,  0.89072513,  0.7041798 ,  0.24091724,  0.20693832],\n",
       "       [ 0.9248849 ,  0.41156005,  0.37849707,  0.43912137,  0.62486803],\n",
       "       [ 0.63539357,  0.877726  ,  0.00489644,  0.68040519,  0.45526226]])"
      ]
     },
     "execution_count": 49,
     "metadata": {},
     "output_type": "execute_result"
    }
   ],
   "source": [
    "x"
   ]
  },
  {
   "cell_type": "code",
   "execution_count": 50,
   "metadata": {},
   "outputs": [
    {
     "data": {
      "text/plain": [
       "array([ 0.00840067,  0.89072513,  0.7041798 ,  0.24091724,  0.20693832])"
      ]
     },
     "execution_count": 50,
     "metadata": {},
     "output_type": "execute_result"
    }
   ],
   "source": [
    "x[1]"
   ]
  },
  {
   "cell_type": "code",
   "execution_count": 51,
   "metadata": {},
   "outputs": [
    {
     "name": "stdout",
     "output_type": "stream",
     "text": [
      "0.890725130479\n",
      "0.890725130479\n"
     ]
    }
   ],
   "source": [
    "print(x[1][1])\n",
    "print(x[1, 1])"
   ]
  },
  {
   "cell_type": "code",
   "execution_count": 52,
   "metadata": {},
   "outputs": [
    {
     "data": {
      "text/plain": [
       "array([[ 0.51413037,  0.69482588],\n",
       "       [ 0.00840067,  0.89072513]])"
      ]
     },
     "execution_count": 52,
     "metadata": {},
     "output_type": "execute_result"
    }
   ],
   "source": [
    "x[0:2, 0:2]"
   ]
  },
  {
   "cell_type": "code",
   "execution_count": 54,
   "metadata": {
    "collapsed": true
   },
   "outputs": [],
   "source": [
    "x = np.random.rand(5,5, 5)"
   ]
  },
  {
   "cell_type": "code",
   "execution_count": 55,
   "metadata": {},
   "outputs": [
    {
     "data": {
      "text/plain": [
       "array([[[ 0.51226495,  0.26909906,  0.04443641,  0.17885857,  0.70970813],\n",
       "        [ 0.91939958,  0.82692282,  0.55314942,  0.17791506,  0.12887349],\n",
       "        [ 0.90321746,  0.02843024,  0.03446226,  0.23392365,  0.69160437],\n",
       "        [ 0.40023325,  0.34690498,  0.11826865,  0.38343352,  0.75649193],\n",
       "        [ 0.85830314,  0.1175052 ,  0.82304463,  0.34899505,  0.44988304]],\n",
       "\n",
       "       [[ 0.52975774,  0.90227423,  0.11679158,  0.06498131,  0.02227412],\n",
       "        [ 0.40456117,  0.251357  ,  0.49946791,  0.86838691,  0.45138521],\n",
       "        [ 0.45319829,  0.0869838 ,  0.16558579,  0.69451768,  0.63049735],\n",
       "        [ 0.60070485,  0.83917778,  0.06653621,  0.83058707,  0.36060204],\n",
       "        [ 0.22933404,  0.9420062 ,  0.98944617,  0.05125053,  0.75802805]],\n",
       "\n",
       "       [[ 0.25358781,  0.34719762,  0.97000838,  0.92665438,  0.42873555],\n",
       "        [ 0.04626455,  0.02184896,  0.69235594,  0.79649929,  0.81373545],\n",
       "        [ 0.32861344,  0.31435248,  0.72954942,  0.44632331,  0.37561862],\n",
       "        [ 0.63358158,  0.58369818,  0.34442935,  0.63830939,  0.82248034],\n",
       "        [ 0.67142435,  0.44661413,  0.66444009,  0.02870939,  0.001445  ]],\n",
       "\n",
       "       [[ 0.33205741,  0.12096834,  0.18233116,  0.5980966 ,  0.59432329],\n",
       "        [ 0.23253106,  0.58737438,  0.85707148,  0.58804809,  0.40642465],\n",
       "        [ 0.60013895,  0.94257533,  0.547102  ,  0.53691543,  0.56459766],\n",
       "        [ 0.04582203,  0.51352054,  0.1189543 ,  0.63940454,  0.37287354],\n",
       "        [ 0.21728939,  0.78757284,  0.98037652,  0.12083633,  0.50226469]],\n",
       "\n",
       "       [[ 0.81609706,  0.74788384,  0.48804234,  0.90590486,  0.21604276],\n",
       "        [ 0.47689265,  0.37238412,  0.44802224,  0.00392138,  0.38571096],\n",
       "        [ 0.2744915 ,  0.58450173,  0.73848155,  0.53997519,  0.01234884],\n",
       "        [ 0.27816428,  0.16868957,  0.13670756,  0.31596187,  0.80038994],\n",
       "        [ 0.27265141,  0.64414277,  0.86548115,  0.87300097,  0.38788054]]])"
      ]
     },
     "execution_count": 55,
     "metadata": {},
     "output_type": "execute_result"
    }
   ],
   "source": [
    "x"
   ]
  },
  {
   "cell_type": "code",
   "execution_count": 53,
   "metadata": {},
   "outputs": [
    {
     "ename": "IndexError",
     "evalue": "too many indices for array",
     "output_type": "error",
     "traceback": [
      "\u001b[0;31m---------------------------------------------------------------------------\u001b[0m",
      "\u001b[0;31mIndexError\u001b[0m                                Traceback (most recent call last)",
      "\u001b[0;32m<ipython-input-53-a46c64a96e41>\u001b[0m in \u001b[0;36m<module>\u001b[0;34m()\u001b[0m\n\u001b[0;32m----> 1\u001b[0;31m \u001b[0mx\u001b[0m\u001b[0;34m[\u001b[0m\u001b[0;36m0\u001b[0m\u001b[0;34m:\u001b[0m\u001b[0;36m2\u001b[0m\u001b[0;34m,\u001b[0m \u001b[0;36m0\u001b[0m\u001b[0;34m:\u001b[0m\u001b[0;36m2\u001b[0m\u001b[0;34m,\u001b[0m \u001b[0;36m0\u001b[0m\u001b[0;34m:\u001b[0m\u001b[0;36m3\u001b[0m\u001b[0;34m]\u001b[0m\u001b[0;34m\u001b[0m\u001b[0m\n\u001b[0m",
      "\u001b[0;31mIndexError\u001b[0m: too many indices for array"
     ]
    }
   ],
   "source": [
    "x[0:2, 0:2, 0:3]"
   ]
  },
  {
   "cell_type": "code",
   "execution_count": 56,
   "metadata": {
    "collapsed": true
   },
   "outputs": [],
   "source": [
    "a = np.arange(12).reshape(3, 4)"
   ]
  },
  {
   "cell_type": "code",
   "execution_count": 57,
   "metadata": {},
   "outputs": [
    {
     "data": {
      "text/plain": [
       "array([[ 0,  1,  2,  3],\n",
       "       [ 4,  5,  6,  7],\n",
       "       [ 8,  9, 10, 11]])"
      ]
     },
     "execution_count": 57,
     "metadata": {},
     "output_type": "execute_result"
    }
   ],
   "source": [
    "a"
   ]
  },
  {
   "cell_type": "code",
   "execution_count": 58,
   "metadata": {
    "collapsed": true
   },
   "outputs": [],
   "source": [
    "rows_on = np.array([ True, False, True])"
   ]
  },
  {
   "cell_type": "code",
   "execution_count": 59,
   "metadata": {},
   "outputs": [
    {
     "data": {
      "text/plain": [
       "array([ True, False,  True], dtype=bool)"
      ]
     },
     "execution_count": 59,
     "metadata": {},
     "output_type": "execute_result"
    }
   ],
   "source": [
    "rows_on"
   ]
  },
  {
   "cell_type": "code",
   "execution_count": 108,
   "metadata": {},
   "outputs": [
    {
     "data": {
      "text/plain": [
       "array([[ 0,  1,  2,  3],\n",
       "       [ 4,  5,  6,  7],\n",
       "       [ 8,  9, 10, 11]])"
      ]
     },
     "execution_count": 108,
     "metadata": {},
     "output_type": "execute_result"
    }
   ],
   "source": [
    "a"
   ]
  },
  {
   "cell_type": "code",
   "execution_count": 93,
   "metadata": {},
   "outputs": [
    {
     "data": {
      "text/plain": [
       "array([[ 0,  1,  2,  3],\n",
       "       [ 8,  9, 10, 11]])"
      ]
     },
     "execution_count": 93,
     "metadata": {},
     "output_type": "execute_result"
    }
   ],
   "source": [
    "a[rows_on]"
   ]
  },
  {
   "cell_type": "code",
   "execution_count": 69,
   "metadata": {},
   "outputs": [
    {
     "name": "stdout",
     "output_type": "stream",
     "text": [
      "(1, 2)\n",
      "(2,)\n",
      "(1, 2)\n",
      "(2,)\n"
     ]
    }
   ],
   "source": [
    "a = np.array([[2,4]])\n",
    "print(a.shape)\n",
    "b = np.array([1,5])\n",
    "print(b.shape)\n",
    "c = a+b\n",
    "print(c.shape)"
   ]
  },
  {
   "cell_type": "code",
   "execution_count": 94,
   "metadata": {},
   "outputs": [
    {
     "name": "stdout",
     "output_type": "stream",
     "text": [
      "[20 30 40 50]\n",
      "[0 1 2 3]\n",
      "[20 31 42 53]\n"
     ]
    }
   ],
   "source": [
    "a = np.array( [20, 30, 40, 50] )\n",
    "b = np.arange( 4 )\n",
    "print(a)\n",
    "print(b)\n",
    "c = a + b\n",
    "print(c)"
   ]
  },
  {
   "cell_type": "code",
   "execution_count": 73,
   "metadata": {},
   "outputs": [
    {
     "ename": "ValueError",
     "evalue": "operands could not be broadcast together with shapes (2,) (4,) ",
     "output_type": "error",
     "traceback": [
      "\u001b[0;31m---------------------------------------------------------------------------\u001b[0m",
      "\u001b[0;31mValueError\u001b[0m                                Traceback (most recent call last)",
      "\u001b[0;32m<ipython-input-73-6484728366f0>\u001b[0m in \u001b[0;36m<module>\u001b[0;34m()\u001b[0m\n\u001b[0;32m----> 1\u001b[0;31m \u001b[0mnp\u001b[0m\u001b[0;34m.\u001b[0m\u001b[0marray\u001b[0m\u001b[0;34m(\u001b[0m\u001b[0;34m[\u001b[0m\u001b[0;36m1\u001b[0m\u001b[0;34m,\u001b[0m\u001b[0;36m4\u001b[0m\u001b[0;34m]\u001b[0m\u001b[0;34m)\u001b[0m \u001b[0;34m+\u001b[0m \u001b[0mnp\u001b[0m\u001b[0;34m.\u001b[0m\u001b[0marray\u001b[0m\u001b[0;34m(\u001b[0m\u001b[0;34m[\u001b[0m\u001b[0;36m1\u001b[0m\u001b[0;34m,\u001b[0m\u001b[0;36m2\u001b[0m\u001b[0;34m,\u001b[0m\u001b[0;36m4\u001b[0m\u001b[0;34m,\u001b[0m\u001b[0;36m5\u001b[0m\u001b[0;34m]\u001b[0m\u001b[0;34m)\u001b[0m\u001b[0;34m\u001b[0m\u001b[0m\n\u001b[0m",
      "\u001b[0;31mValueError\u001b[0m: operands could not be broadcast together with shapes (2,) (4,) "
     ]
    }
   ],
   "source": [
    "np.array([1,4]) + np.array([1,2,4,5])"
   ]
  },
  {
   "cell_type": "code",
   "execution_count": 95,
   "metadata": {},
   "outputs": [
    {
     "data": {
      "text/plain": [
       "array([20, 29, 38, 47])"
      ]
     },
     "execution_count": 95,
     "metadata": {},
     "output_type": "execute_result"
    }
   ],
   "source": [
    "c = a - b\n",
    "c"
   ]
  },
  {
   "cell_type": "code",
   "execution_count": 96,
   "metadata": {},
   "outputs": [
    {
     "name": "stdout",
     "output_type": "stream",
     "text": [
      "[[2 0]\n",
      " [0 4]]\n",
      "[[2, 0], [0, 4]]\n"
     ]
    }
   ],
   "source": [
    "A = np.array( [[1,1],\n",
    "               [0,1]] )\n",
    "\n",
    "B = np.array( [[2,0],\n",
    "               [3,4]] )\n",
    "print(A*B)                         # element wise product\n",
    "\n",
    "print([[1*2, 1*0],\n",
    "       [0*3, 1*4]])"
   ]
  },
  {
   "cell_type": "code",
   "execution_count": 97,
   "metadata": {
    "scrolled": false
   },
   "outputs": [
    {
     "name": "stdout",
     "output_type": "stream",
     "text": [
      "[[5 4]\n",
      " [3 4]]\n",
      "[[5, 4], [3, 4]]\n"
     ]
    }
   ],
   "source": [
    "print(np.dot(A, B))\n",
    "print([[1*2+ 1*3, 1*0+ 1*4],\n",
    "       [0*2+1*3, 0*0+1*4]])"
   ]
  },
  {
   "cell_type": "code",
   "execution_count": 130,
   "metadata": {},
   "outputs": [
    {
     "name": "stdout",
     "output_type": "stream",
     "text": [
      "[ 20.          15.          13.33333333  12.5       ]\n"
     ]
    }
   ],
   "source": [
    "# np.arange - Creating sequence of Numbers\n",
    "\n",
    "a = np.array( [20, 30, 40, 50] )\n",
    "b = np.arange(1, 5)\n",
    "c = a / b\n",
    "print(c)"
   ]
  },
  {
   "cell_type": "code",
   "execution_count": 129,
   "metadata": {},
   "outputs": [
    {
     "data": {
      "text/plain": [
       "array([ 20.        ,  15.        ,  13.33333333,  12.5       ])"
      ]
     },
     "execution_count": 129,
     "metadata": {},
     "output_type": "execute_result"
    }
   ],
   "source": [
    "c"
   ]
  },
  {
   "cell_type": "code",
   "execution_count": 131,
   "metadata": {},
   "outputs": [
    {
     "data": {
      "text/plain": [
       "array([20, 15, 13, 12])"
      ]
     },
     "execution_count": 131,
     "metadata": {},
     "output_type": "execute_result"
    }
   ],
   "source": [
    "a = np.array( [20, 30, 40, 50] )\n",
    "b = np.arange(1, 5)\n",
    "c = a // b\n",
    "c\n"
   ]
  },
  {
   "cell_type": "code",
   "execution_count": 133,
   "metadata": {},
   "outputs": [
    {
     "data": {
      "text/plain": [
       "array([0, 0, 1, 2])"
      ]
     },
     "execution_count": 133,
     "metadata": {},
     "output_type": "execute_result"
    }
   ],
   "source": [
    "#Modulus operator can be applied on NumPy arrays as shown below. They apply element wise.\n",
    "a = np.array( [20, 30, 40, 50] )\n",
    "b = np.arange(1, 5)\n",
    "c = a % b\n",
    "c\n"
   ]
  },
  {
   "cell_type": "code",
   "execution_count": 134,
   "metadata": {},
   "outputs": [
    {
     "data": {
      "text/plain": [
       "array([     20,     900,   64000, 6250000])"
      ]
     },
     "execution_count": 134,
     "metadata": {},
     "output_type": "execute_result"
    }
   ],
   "source": [
    "a = np.array( [20, 30, 40, 50] )\n",
    "b = np.arange(1, 5)\n",
    "c = a ** b\n",
    "c\n",
    "\n"
   ]
  },
  {
   "cell_type": "code",
   "execution_count": 135,
   "metadata": {},
   "outputs": [
    {
     "data": {
      "text/plain": [
       "array([False,  True,  True, False], dtype=bool)"
      ]
     },
     "execution_count": 135,
     "metadata": {},
     "output_type": "execute_result"
    }
   ],
   "source": [
    "m = np.array([20, -5, 30, 40])\n",
    "m < [15, 16, 35, 36]"
   ]
  },
  {
   "cell_type": "code",
   "execution_count": 136,
   "metadata": {},
   "outputs": [
    {
     "data": {
      "text/plain": [
       "array([ True,  True, False, False], dtype=bool)"
      ]
     },
     "execution_count": 136,
     "metadata": {},
     "output_type": "execute_result"
    }
   ],
   "source": [
    "m < 25 "
   ]
  },
  {
   "cell_type": "code",
   "execution_count": 137,
   "metadata": {},
   "outputs": [
    {
     "data": {
      "text/plain": [
       "array([20, -5])"
      ]
     },
     "execution_count": 137,
     "metadata": {},
     "output_type": "execute_result"
    }
   ],
   "source": [
    "m[m < 25]"
   ]
  },
  {
   "cell_type": "code",
   "execution_count": null,
   "metadata": {
    "collapsed": true
   },
   "outputs": [],
   "source": []
  },
  {
   "cell_type": "code",
   "execution_count": 152,
   "metadata": {},
   "outputs": [
    {
     "name": "stdout",
     "output_type": "stream",
     "text": [
      "[[[0 1 2 3 4]]]\n",
      "(1, 1, 5)\n"
     ]
    }
   ],
   "source": [
    "h = np.arange(5).reshape(1, 1, 5)\n",
    "print(h)\n",
    "print(h.shape)"
   ]
  },
  {
   "cell_type": "code",
   "execution_count": 146,
   "metadata": {},
   "outputs": [
    {
     "data": {
      "text/plain": [
       "array([[[10, 20, 30, 40, 50]]])"
      ]
     },
     "execution_count": 146,
     "metadata": {},
     "output_type": "execute_result"
    }
   ],
   "source": [
    "b = np.array([10, 20, 30, 40, 50])\n",
    "b.reshape(1,1,5)"
   ]
  },
  {
   "cell_type": "code",
   "execution_count": 153,
   "metadata": {},
   "outputs": [
    {
     "name": "stdout",
     "output_type": "stream",
     "text": [
      "[[[10 21 32 43 54]]]\n",
      "(1, 1, 5)\n"
     ]
    }
   ],
   "source": [
    "x = h + [10, 20, 30, 40, 50]\n",
    "print(x)\n",
    "print(x.shape)"
   ]
  },
  {
   "cell_type": "code",
   "execution_count": 144,
   "metadata": {},
   "outputs": [
    {
     "data": {
      "text/plain": [
       "array([[[10, 21, 32, 43, 54]]])"
      ]
     },
     "execution_count": 144,
     "metadata": {},
     "output_type": "execute_result"
    }
   ],
   "source": [
    "h + [[[10, 20, 30, 40, 50]]]"
   ]
  },
  {
   "cell_type": "code",
   "execution_count": 147,
   "metadata": {},
   "outputs": [
    {
     "data": {
      "text/plain": [
       "array([[[10, 21, 32, 43, 54]]])"
      ]
     },
     "execution_count": 147,
     "metadata": {},
     "output_type": "execute_result"
    }
   ],
   "source": [
    "h + b.reshape(1,1,5)"
   ]
  },
  {
   "cell_type": "code",
   "execution_count": 148,
   "metadata": {
    "collapsed": true
   },
   "outputs": [],
   "source": [
    "k = np.arange(6).reshape(2, 3)"
   ]
  },
  {
   "cell_type": "code",
   "execution_count": 149,
   "metadata": {},
   "outputs": [
    {
     "data": {
      "text/plain": [
       "array([[0, 1, 2],\n",
       "       [3, 4, 5]])"
      ]
     },
     "execution_count": 149,
     "metadata": {},
     "output_type": "execute_result"
    }
   ],
   "source": [
    "k\n"
   ]
  },
  {
   "cell_type": "code",
   "execution_count": 151,
   "metadata": {},
   "outputs": [
    {
     "data": {
      "text/plain": [
       "array([[100, 201, 302],\n",
       "       [103, 204, 305]])"
      ]
     },
     "execution_count": 151,
     "metadata": {},
     "output_type": "execute_result"
    }
   ],
   "source": [
    "k + [100, 200, 300] "
   ]
  },
  {
   "cell_type": "code",
   "execution_count": 155,
   "metadata": {},
   "outputs": [
    {
     "ename": "ValueError",
     "evalue": "operands could not be broadcast together with shapes (2,3) (2,) ",
     "output_type": "error",
     "traceback": [
      "\u001b[0;31m---------------------------------------------------------------------------\u001b[0m",
      "\u001b[0;31mValueError\u001b[0m                                Traceback (most recent call last)",
      "\u001b[0;32m<ipython-input-155-df99c23ffd2a>\u001b[0m in \u001b[0;36m<module>\u001b[0;34m()\u001b[0m\n\u001b[0;32m----> 1\u001b[0;31m \u001b[0mk\u001b[0m \u001b[0;34m+\u001b[0m \u001b[0;34m[\u001b[0m\u001b[0;36m33\u001b[0m\u001b[0;34m,\u001b[0m \u001b[0;36m44\u001b[0m\u001b[0;34m]\u001b[0m\u001b[0;34m\u001b[0m\u001b[0m\n\u001b[0m",
      "\u001b[0;31mValueError\u001b[0m: operands could not be broadcast together with shapes (2,3) (2,) "
     ]
    }
   ],
   "source": [
    " k + [33, 44]"
   ]
  },
  {
   "cell_type": "code",
   "execution_count": 157,
   "metadata": {},
   "outputs": [
    {
     "name": "stdout",
     "output_type": "stream",
     "text": [
      "mean = 6.76666666667\n"
     ]
    }
   ],
   "source": [
    "a = np.array([[-2.5, 3.1, 7], [10, 11, 12]])\n",
    "print(\"mean =\", a.mean())"
   ]
  },
  {
   "cell_type": "code",
   "execution_count": 158,
   "metadata": {},
   "outputs": [
    {
     "data": {
      "text/plain": [
       "-71610.0"
      ]
     },
     "execution_count": 158,
     "metadata": {},
     "output_type": "execute_result"
    }
   ],
   "source": [
    "np.prod(a)"
   ]
  },
  {
   "cell_type": "code",
   "execution_count": 159,
   "metadata": {},
   "outputs": [
    {
     "name": "stdout",
     "output_type": "stream",
     "text": [
      "-71610.0\n"
     ]
    }
   ],
   "source": [
    "print(-2.5* 3.1* 7*10*11*12)"
   ]
  },
  {
   "cell_type": "code",
   "execution_count": 181,
   "metadata": {},
   "outputs": [
    {
     "name": "stdout",
     "output_type": "stream",
     "text": [
      "2.66666666667\n",
      "[-1.66666667  0.33333333  1.33333333]\n",
      "[ 2.77777778  0.11111111  1.77777778]\n",
      "4.66666666667\n",
      "1.55555555556\n",
      "4.66666666667\n",
      "1.24721912892\n",
      "1.247219128924647\n"
     ]
    }
   ],
   "source": [
    "import math\n",
    "a = np.array([1,3,4])\n",
    "m = np.mean(a)\n",
    "print(m)\n",
    "print(a -m)\n",
    "x = (a-m)**2\n",
    "print(x)\n",
    "s = np.sum(x)\n",
    "print(s)\n",
    "v = np.var(a)\n",
    "print(v)\n",
    "print(v*len(a))\n",
    "print(np.std(a))\n",
    "print(math.sqrt(s/len(a)))"
   ]
  },
  {
   "cell_type": "code",
   "execution_count": 182,
   "metadata": {},
   "outputs": [
    {
     "data": {
      "text/plain": [
       "array([[[ 0,  1,  2,  3],\n",
       "        [ 4,  5,  6,  7],\n",
       "        [ 8,  9, 10, 11]],\n",
       "\n",
       "       [[12, 13, 14, 15],\n",
       "        [16, 17, 18, 19],\n",
       "        [20, 21, 22, 23]]])"
      ]
     },
     "execution_count": 182,
     "metadata": {},
     "output_type": "execute_result"
    }
   ],
   "source": [
    "c=np.arange(24).reshape(2,3,4)\n",
    "c"
   ]
  },
  {
   "cell_type": "code",
   "execution_count": 183,
   "metadata": {},
   "outputs": [
    {
     "data": {
      "text/plain": [
       "array([[12, 14, 16, 18],\n",
       "       [20, 22, 24, 26],\n",
       "       [28, 30, 32, 34]])"
      ]
     },
     "execution_count": 183,
     "metadata": {},
     "output_type": "execute_result"
    }
   ],
   "source": [
    "c.sum(axis=0)  # sum across matrices"
   ]
  },
  {
   "cell_type": "code",
   "execution_count": 3,
   "metadata": {},
   "outputs": [
    {
     "name": "stdout",
     "output_type": "stream",
     "text": [
      "[[11 21]\n",
      " [31 41]]\n"
     ]
    }
   ],
   "source": [
    "import numpy as np\n",
    "a = np.array([[10,20],[30,40]])\n",
    "b = np.array([1])\n",
    "print(a+b)"
   ]
  },
  {
   "cell_type": "code",
   "execution_count": 4,
   "metadata": {
    "collapsed": true
   },
   "outputs": [],
   "source": [
    "import numpy as np\n",
    "import pandas as pd"
   ]
  },
  {
   "cell_type": "code",
   "execution_count": 1,
   "metadata": {
    "collapsed": true
   },
   "outputs": [],
   "source": [
    "weights = {\"alice\": 68, \"bob\": 83, \"colin\": 86, \"darwin\": 68}"
   ]
  },
  {
   "cell_type": "code",
   "execution_count": 2,
   "metadata": {},
   "outputs": [
    {
     "data": {
      "text/plain": [
       "{'alice': 68, 'bob': 83, 'colin': 86, 'darwin': 68}"
      ]
     },
     "execution_count": 2,
     "metadata": {},
     "output_type": "execute_result"
    }
   ],
   "source": [
    "weights"
   ]
  },
  {
   "cell_type": "code",
   "execution_count": 5,
   "metadata": {
    "collapsed": true
   },
   "outputs": [],
   "source": [
    "s3 = pd.Series(weights)"
   ]
  },
  {
   "cell_type": "code",
   "execution_count": 7,
   "metadata": {},
   "outputs": [
    {
     "data": {
      "text/plain": [
       "alice     136\n",
       "bob       166\n",
       "colin     172\n",
       "darwin    136\n",
       "dtype: int64"
      ]
     },
     "execution_count": 7,
     "metadata": {},
     "output_type": "execute_result"
    }
   ],
   "source": [
    "s3 + s3"
   ]
  },
  {
   "cell_type": "code",
   "execution_count": 8,
   "metadata": {},
   "outputs": [
    {
     "ename": "NameError",
     "evalue": "name 'people' is not defined",
     "output_type": "error",
     "traceback": [
      "\u001b[0;31m---------------------------------------------------------------------------\u001b[0m",
      "\u001b[0;31mNameError\u001b[0m                                 Traceback (most recent call last)",
      "\u001b[0;32m<ipython-input-8-f437c0866371>\u001b[0m in \u001b[0;36m<module>\u001b[0;34m()\u001b[0m\n\u001b[0;32m----> 1\u001b[0;31m \u001b[0mpeople\u001b[0m\u001b[0;34m[\u001b[0m\u001b[0;34m\"birthyear\"\u001b[0m\u001b[0;34m]\u001b[0m\u001b[0;34m\u001b[0m\u001b[0m\n\u001b[0m",
      "\u001b[0;31mNameError\u001b[0m: name 'people' is not defined"
     ]
    }
   ],
   "source": [
    "people[\"birthyear\"]"
   ]
  },
  {
   "cell_type": "code",
   "execution_count": 9,
   "metadata": {},
   "outputs": [
    {
     "ename": "NameError",
     "evalue": "name 'people_dict' is not defined",
     "output_type": "error",
     "traceback": [
      "\u001b[0;31m---------------------------------------------------------------------------\u001b[0m",
      "\u001b[0;31mNameError\u001b[0m                                 Traceback (most recent call last)",
      "\u001b[0;32m<ipython-input-9-14ed258f013b>\u001b[0m in \u001b[0;36m<module>\u001b[0;34m()\u001b[0m\n\u001b[0;32m----> 1\u001b[0;31m \u001b[0mpeople\u001b[0m \u001b[0;34m=\u001b[0m \u001b[0mpd\u001b[0m\u001b[0;34m.\u001b[0m\u001b[0mDataFrame\u001b[0m\u001b[0;34m(\u001b[0m\u001b[0mpeople_dict\u001b[0m\u001b[0;34m)\u001b[0m\u001b[0;34m\u001b[0m\u001b[0m\n\u001b[0m",
      "\u001b[0;31mNameError\u001b[0m: name 'people_dict' is not defined"
     ]
    }
   ],
   "source": [
    "people = pd.DataFrame(people_dict)"
   ]
  },
  {
   "cell_type": "code",
   "execution_count": 10,
   "metadata": {},
   "outputs": [
    {
     "ename": "NameError",
     "evalue": "name 'people_dict' is not defined",
     "output_type": "error",
     "traceback": [
      "\u001b[0;31m---------------------------------------------------------------------------\u001b[0m",
      "\u001b[0;31mNameError\u001b[0m                                 Traceback (most recent call last)",
      "\u001b[0;32m<ipython-input-10-5e1de0b283db>\u001b[0m in \u001b[0;36m<module>\u001b[0;34m()\u001b[0m\n\u001b[1;32m      1\u001b[0m d2 = pd.DataFrame(\n\u001b[0;32m----> 2\u001b[0;31m         \u001b[0mpeople_dict\u001b[0m\u001b[0;34m,\u001b[0m\u001b[0;34m\u001b[0m\u001b[0m\n\u001b[0m\u001b[1;32m      3\u001b[0m         \u001b[0mcolumns\u001b[0m\u001b[0;34m=\u001b[0m\u001b[0;34m[\u001b[0m\u001b[0;34m\"birthyear\"\u001b[0m\u001b[0;34m,\u001b[0m \u001b[0;34m\"weight\"\u001b[0m\u001b[0;34m,\u001b[0m \u001b[0;34m\"height\"\u001b[0m\u001b[0;34m]\u001b[0m\u001b[0;34m,\u001b[0m\u001b[0;34m\u001b[0m\u001b[0m\n\u001b[1;32m      4\u001b[0m         \u001b[0mindex\u001b[0m\u001b[0;34m=\u001b[0m\u001b[0;34m[\u001b[0m\u001b[0;34m\"bob\"\u001b[0m\u001b[0;34m,\u001b[0m \u001b[0;34m\"alice\"\u001b[0m\u001b[0;34m,\u001b[0m \u001b[0;34m\"eugene\"\u001b[0m\u001b[0;34m]\u001b[0m\u001b[0;34m\u001b[0m\u001b[0m\n\u001b[1;32m      5\u001b[0m      )\n",
      "\u001b[0;31mNameError\u001b[0m: name 'people_dict' is not defined"
     ]
    }
   ],
   "source": [
    "d2 = pd.DataFrame(\n",
    "        people_dict,\n",
    "        columns=[\"birthyear\", \"weight\", \"height\"],\n",
    "        index=[\"bob\", \"alice\", \"eugene\"]\n",
    "     )"
   ]
  },
  {
   "cell_type": "code",
   "execution_count": 81,
   "metadata": {},
   "outputs": [
    {
     "data": {
      "text/plain": [
       "array([[1, 4],\n",
       "       [2, 5],\n",
       "       [3, 6]])"
      ]
     },
     "execution_count": 81,
     "metadata": {},
     "output_type": "execute_result"
    }
   ],
   "source": [
    "a = np.array([[1, 2, 3],\n",
    "[4, 5, 6]])\n",
    "a.T"
   ]
  },
  {
   "cell_type": "code",
   "execution_count": 80,
   "metadata": {},
   "outputs": [
    {
     "data": {
      "text/plain": [
       "array([5, 7, 9])"
      ]
     },
     "execution_count": 80,
     "metadata": {},
     "output_type": "execute_result"
    }
   ],
   "source": [
    "a.sum(axis=0)"
   ]
  },
  {
   "cell_type": "code",
   "execution_count": 79,
   "metadata": {},
   "outputs": [
    {
     "data": {
      "text/plain": [
       "array([ 6, 15])"
      ]
     },
     "execution_count": 79,
     "metadata": {},
     "output_type": "execute_result"
    }
   ],
   "source": [
    "a.sum(axis=1)"
   ]
  },
  {
   "cell_type": "code",
   "execution_count": 82,
   "metadata": {
    "collapsed": true
   },
   "outputs": [],
   "source": [
    "b = np.array([[.1, .2, .3],\n",
    "[.4, .5, .6]])"
   ]
  },
  {
   "cell_type": "code",
   "execution_count": 84,
   "metadata": {},
   "outputs": [],
   "source": [
    "from numpy import linalg"
   ]
  },
  {
   "cell_type": "code",
   "execution_count": 85,
   "metadata": {
    "collapsed": true
   },
   "outputs": [],
   "source": [
    "coeffs  = np.array([[2, 6], [5, 3]])\n",
    "depvars = np.array([6, -9])\n",
    "solution = linalg.solve(coeffs, depvars)\n"
   ]
  },
  {
   "cell_type": "code",
   "execution_count": 87,
   "metadata": {},
   "outputs": [
    {
     "data": {
      "text/plain": [
       "array([-3.,  2.])"
      ]
     },
     "execution_count": 87,
     "metadata": {},
     "output_type": "execute_result"
    }
   ],
   "source": [
    "solution"
   ]
  },
  {
   "cell_type": "code",
   "execution_count": null,
   "metadata": {
    "collapsed": true
   },
   "outputs": [],
   "source": []
  }
 ],
 "metadata": {
  "kernelspec": {
   "display_name": "Python 3",
   "language": "python",
   "name": "python3"
  },
  "language_info": {
   "codemirror_mode": {
    "name": "ipython",
    "version": 3
   },
   "file_extension": ".py",
   "mimetype": "text/x-python",
   "name": "python",
   "nbconvert_exporter": "python",
   "pygments_lexer": "ipython3",
   "version": "3.6.3"
  }
 },
 "nbformat": 4,
 "nbformat_minor": 2
}
