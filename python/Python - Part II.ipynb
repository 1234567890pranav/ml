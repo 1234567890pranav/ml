{
 "cells": [
  {
   "cell_type": "markdown",
   "metadata": {},
   "source": [
    "# Regular Expressions"
   ]
  },
  {
   "cell_type": "markdown",
   "metadata": {},
   "source": [
    "# TODO: String format, float formats\n",
    "https://pyformat.info/"
   ]
  },
  {
   "cell_type": "code",
   "execution_count": 3,
   "metadata": {},
   "outputs": [
    {
     "data": {
      "text/plain": [
       "'one two'"
      ]
     },
     "execution_count": 3,
     "metadata": {},
     "output_type": "execute_result"
    }
   ],
   "source": [
    "'{} {}'.format('one', 'two')"
   ]
  },
  {
   "cell_type": "code",
   "execution_count": 34,
   "metadata": {},
   "outputs": [
    {
     "name": "stdout",
     "output_type": "stream",
     "text": [
      "hi                                                                                              122.300 04\n"
     ]
    }
   ],
   "source": [
    "print((\"hi %100.3f %2.2d\") % (122.30, 4))"
   ]
  },
  {
   "cell_type": "code",
   "execution_count": 12,
   "metadata": {},
   "outputs": [
    {
     "name": "stdout",
     "output_type": "stream",
     "text": [
      "['2', '19', '42']\n"
     ]
    },
    {
     "data": {
      "text/plain": [
       "'sandeep'"
      ]
     },
     "execution_count": 12,
     "metadata": {},
     "output_type": "execute_result"
    }
   ],
   "source": [
    "## Matching and Extracting Data\n",
    "\n",
    "import re\n",
    "x = 'My 2 favorite numbers are 19 and 42'\n",
    "y = re.findall('[0-9]+',x)\n",
    "print(y)\n"
   ]
  },
  {
   "cell_type": "code",
   "execution_count": 90,
   "metadata": {},
   "outputs": [
    {
     "data": {
      "text/plain": [
       "[' ', ' ', ',', ' ', ':', ' ', ' ', ' ', ' ']"
      ]
     },
     "execution_count": 90,
     "metadata": {},
     "output_type": "execute_result"
    }
   ],
   "source": [
    "\n",
    "import re\n",
    "\n",
    "# . means any single char\n",
    "re.findall(\"t...\", \"this is a aa and that is a aaa\")\n",
    "re.findall(\"a. \", \"this is a aa and that is a aaa\")\n",
    "\n",
    "# * - 0 or more number of prev character\n",
    "re.findall(\"aa*\", \"this is a aa and that is a aaa\")\n",
    "re.findall(\".*\", \"this is a aa and that is a aaa\")\n",
    "# aa* -> a, aa, aaa, ...\n",
    "\n",
    "# + means 1 or more of preceding\n",
    "#re.findall(\"a+\", \"this is a aa and that is a aaa\")\n",
    "re.findall(\"aa+\", \"this is a aa and that is a aaa\")\n",
    "\n",
    "re.findall(\"thi?\", \"this is a            aa and that is a aaa\")\n",
    "\n",
    "# escape\n",
    "re.findall(\".\\\\+\", \"this+ is a aa and that is a aaa\")\n",
    "\n",
    "#Beging of line\n",
    "re.findall(\"^t....\", \"this is a aa and that is a aaa\")\n",
    "\n",
    "#End of line\n",
    "re.findall(\"......a$\", \"this is a aa and that is a aaa\")\n",
    "\n",
    "#Space\n",
    "re.findall(\"a\\s\", \"this is a            aa and that is a aaa\")\n",
    "re.findall(\"a +\", \"this is a            aa and that is a aaa\")\n",
    "re.findall(\"a\\S\", \"this is a            aa and that is a aaa\")\n",
    "\n",
    "re.findall(\"th[ai][st]\", \"this is a            aa and that is a aaa\")\n",
    "re.findall(\"[aeiou]\", \"this is a            aa and that is a aaa\")\n",
    "re.findall(\"[aeiou][^aeiou]\", \"this is a            aa and that is a aaa\")\n",
    "re.findall(\"[a-s]\", \"this is a            aa and that is a aaa\")\n",
    "re.findall(\"[A-Z]\", \"this is a            Aaa and that is a aaa\")\n",
    "re.findall('[0-9]+', 'My 2 favorite numbers are 19 and 42')\n",
    "\n",
    "re.findall('[0-9]+\\\\.[0-9]+', 'My 2.x favorite numbers are 1912121.00995 and 42')\n",
    "re.findall('[^0-9a-zA-Z.]', 'My 2.x favorite, numbers: are 1912121.00995 and 42')\n"
   ]
  },
  {
   "cell_type": "code",
   "execution_count": null,
   "metadata": {
    "collapsed": true
   },
   "outputs": [],
   "source": [
    "## Using re.search() like find()\n",
    "\n",
    "import re\n",
    "\n",
    "hand = open('mbox-short.txt')\n",
    "for line in hand:\n",
    "    line = line.rstrip()\n",
    "    if re.search('From:', line) :\n",
    "        print(line)\n"
   ]
  },
  {
   "cell_type": "code",
   "execution_count": 7,
   "metadata": {
    "collapsed": true
   },
   "outputs": [],
   "source": [
    "## Using re.search() like startswith()\n",
    "\n",
    "import re\n",
    "\n",
    "hand = open('mbox-short.txt')\n",
    "for line in hand:\n",
    "    line = line.rstrip()\n",
    "    if re.search('^From:', line) :\n",
    "        print(line)\n"
   ]
  },
  {
   "cell_type": "code",
   "execution_count": 72,
   "metadata": {},
   "outputs": [
    {
     "name": "stdout",
     "output_type": "stream",
     "text": [
      "['2', '19', '42']\n"
     ]
    }
   ],
   "source": [
    "## Matching and Extracting Data\n",
    "\n",
    "import re\n",
    "x = 'My 2 favorite numbers are 19 and 42'\n",
    "y = re.findall('[0-9]+',x)\n",
    "print(y)\n"
   ]
  },
  {
   "cell_type": "code",
   "execution_count": null,
   "metadata": {
    "collapsed": true
   },
   "outputs": [],
   "source": [
    "## Matching and Extracting Data\n",
    "\n",
    "import re\n",
    "x = 'My 2 favorite numbers are 19 and 42'\n",
    "y = re.findall('[0-9]+',x)\n",
    "print(y)\n",
    "y = re.findall('[AEIOU]+',x)\n",
    "print(y)"
   ]
  },
  {
   "cell_type": "code",
   "execution_count": 94,
   "metadata": {},
   "outputs": [
    {
     "name": "stdout",
     "output_type": "stream",
     "text": [
      "['From:']\n"
     ]
    }
   ],
   "source": [
    "## Warning: Greedy Matching\n",
    "\n",
    "import re\n",
    "x = 'From: Using the : character'\n",
    "#y = re.findall('^F.+:', x)\n",
    "y = re.findall('^F[^ ]+:', x)\n",
    "print(y)\n"
   ]
  },
  {
   "cell_type": "code",
   "execution_count": 93,
   "metadata": {},
   "outputs": [
    {
     "name": "stdout",
     "output_type": "stream",
     "text": [
      "['From:']\n"
     ]
    }
   ],
   "source": [
    "## Non-Greedy Matching\n",
    "import re\n",
    "x = 'From: Using the : character'\n",
    "y = re.findall('^F.+?:', x)\n",
    "print(y)"
   ]
  },
  {
   "cell_type": "code",
   "execution_count": 107,
   "metadata": {},
   "outputs": [
    {
     "data": {
      "text/plain": [
       "['stephen.marquard@uct.ac.za']"
      ]
     },
     "execution_count": 107,
     "metadata": {},
     "output_type": "execute_result"
    }
   ],
   "source": [
    "## Fine-Tuning String Extraction\n",
    "x = 'From stephen.marquard@uct.ac.za Sat Jan  5 09:14:16 2008'\n",
    "re.findall('\\S+@\\S+',x)\n"
   ]
  },
  {
   "cell_type": "code",
   "execution_count": null,
   "metadata": {
    "collapsed": true
   },
   "outputs": [],
   "source": [
    "## Fine-Tuning String Extraction\n",
    "\n",
    "y = re.findall('\\S+@\\S+',x)\n",
    "print(y)\n",
    "y = re.findall('^From:.*? (\\S+@\\S+)',x)\n",
    "print(y)\n"
   ]
  },
  {
   "cell_type": "code",
   "execution_count": null,
   "metadata": {
    "collapsed": true
   },
   "outputs": [],
   "source": [
    "data = 'From stephen.marquard@uct.ac.za Sat Jan  5 09:14:16 2008'\n",
    "atpos = data.find('@')\n",
    "print(atpos)\n",
    "sppos = data.find(' ',atpos)\n",
    "print(sppos)\n",
    "host = data[atpos+1 : sppos]\n",
    "print(host)\n"
   ]
  },
  {
   "cell_type": "code",
   "execution_count": null,
   "metadata": {
    "collapsed": true
   },
   "outputs": [],
   "source": [
    "## The Double Split Pattern\n",
    "line = 'From stephen.marquard@uct.ac.za Sat Jan  5 09:14:16 2008'\n",
    "words = line.split()\n",
    "email = words[1]\n",
    "pieces = email.split('@')\n",
    "print(pieces[1])\n"
   ]
  },
  {
   "cell_type": "code",
   "execution_count": null,
   "metadata": {
    "collapsed": true
   },
   "outputs": [],
   "source": [
    "## The Regex Version\n",
    "\n",
    "import re \n",
    "lin = 'From stephen.marquard@uct.ac.za Sat Jan  5 09:14:16 2008'\n",
    "y = re.findall('@([^ ]*)',lin)\n",
    "print(y)\n",
    "['uct.ac.za']\n"
   ]
  },
  {
   "cell_type": "code",
   "execution_count": null,
   "metadata": {
    "collapsed": true
   },
   "outputs": [],
   "source": [
    "## Even Cooler Regex Version\n",
    "import re \n",
    "lin = 'From stephen.marquard@uct.ac.za Sat Jan  5 09:14:16 2008'\n",
    "y = re.findall('^From .*@([^ ]*)',lin)\n",
    "print(y)\n",
    "['uct.ac.za']\n"
   ]
  },
  {
   "cell_type": "code",
   "execution_count": null,
   "metadata": {
    "collapsed": true
   },
   "outputs": [],
   "source": [
    "## Spam Confidence\n",
    "\n",
    "import re\n",
    "hand = open('mbox-short.txt')\n",
    "numlist = list()\n",
    "for line in hand:\n",
    "    line = line.rstrip()\n",
    "    stuff = re.findall('^X-DSPAM-Confidence: ([0-9.]+)', line)\n",
    "    if len(stuff) != 1 :  continue\n",
    "    num = float(stuff[0])\n",
    "    numlist.append(num)\n",
    "print('Maximum:', max(numlist))\n"
   ]
  },
  {
   "cell_type": "code",
   "execution_count": null,
   "metadata": {
    "collapsed": true
   },
   "outputs": [],
   "source": [
    "## Escape Character\n",
    "\n",
    "import re\n",
    "x = 'We just received $10.00 for cookies.'\n",
    "y = re.findall('\\$[0-9.]+',x)\n",
    "print(y)\n"
   ]
  },
  {
   "cell_type": "markdown",
   "metadata": {},
   "source": [
    "## An HTTP Request in Python\n"
   ]
  },
  {
   "cell_type": "code",
   "execution_count": null,
   "metadata": {
    "collapsed": true
   },
   "outputs": [],
   "source": [
    "\n",
    "import socket\n",
    "mysock = socket.socket(socket.AF_INET, socket.SOCK_STREAM)\n",
    "mysock.connect(('www.py4inf.com', 80))\n",
    "\n",
    "mysock.send('GET http://www.py4inf.com/code/romeo.txt HTTP/1.0\\n\\n')\n",
    "\n",
    "while True:\n",
    "    data = mysock.recv(512)\n",
    "    if ( len(data) < 1 ) :\n",
    "        break\n",
    "    print(data)\n",
    "mysock.close()"
   ]
  },
  {
   "cell_type": "code",
   "execution_count": null,
   "metadata": {
    "collapsed": true
   },
   "outputs": [],
   "source": [
    "## Using urllib in Python\n",
    "\n",
    "from urllib import *\n",
    "\n",
    "fhand = request.urlopen('http://www.py4inf.com/code/romeo.txt')\n",
    "\n",
    "for line in fhand:\n",
    "    print(line.strip())\n"
   ]
  },
  {
   "cell_type": "code",
   "execution_count": null,
   "metadata": {
    "collapsed": true
   },
   "outputs": [],
   "source": [
    "# And like a file\n",
    "from urllib import *\n",
    "fhand = request.urlopen('http://www.py4inf.com/code/romeo.txt')\n",
    "\n",
    "counts = dict()\n",
    "for line in fhand:\n",
    "    words = line.split()\n",
    "    for word in words:\n",
    "        counts[word] = counts.get(word,0) + 1\n",
    "print(counts)\n"
   ]
  },
  {
   "cell_type": "code",
   "execution_count": null,
   "metadata": {
    "collapsed": true
   },
   "outputs": [],
   "source": [
    "## Reading Web Pages\n",
    "\n",
    "from urllib import *\n",
    "fhand = request.urlopen('http://www.dr-chuck.com/page1.htm')\n",
    "for line in fhand:\n",
    "    print(line.strip())\n"
   ]
  },
  {
   "cell_type": "markdown",
   "metadata": {},
   "source": [
    "## The Easy Way - Beautiful Soup"
   ]
  },
  {
   "cell_type": "code",
   "execution_count": null,
   "metadata": {
    "collapsed": true
   },
   "outputs": [],
   "source": [
    "!pip install beautifulsoup4 # Already installed on CloudxLab"
   ]
  },
  {
   "cell_type": "code",
   "execution_count": null,
   "metadata": {
    "collapsed": true
   },
   "outputs": [],
   "source": [
    "# Enter http://en.wikipedia.org/wiki/Web_scraping\n",
    "from urllib import *\n",
    "from bs4 import BeautifulSoup\n",
    "\n",
    "url = input('Enter - ')\n",
    "\n",
    "html = request.urlopen(url).read()\n",
    "soup = BeautifulSoup(html)\n",
    "\n",
    "# Retrieve a list of the anchor tags\n",
    "# Each tag is like a dictionary of HTML attributes\n",
    "\n",
    "tags = soup('a')\n",
    "\n",
    "for tag in tags:\n",
    "   print(tag.get('href', None))"
   ]
  },
  {
   "cell_type": "markdown",
   "metadata": {},
   "source": [
    "# Objects"
   ]
  },
  {
   "cell_type": "code",
   "execution_count": null,
   "metadata": {
    "collapsed": true
   },
   "outputs": [],
   "source": [
    "movies = list()\n",
    "movie1 = dict()\n",
    "movie1['Director'] = 'James Cameron'\n",
    "movie1['Title'] = 'Avatar'\n",
    "movie1['Release Date'] = '18 December 2009'\n",
    "movie1['Running Time'] = '162 minutes'\n",
    "movie1['Rating'] = 'PG-13'\n",
    "movies.append(movie1)\n",
    "movie2 = dict()\n",
    "movie2['Director'] = 'David Fincher'\n",
    "movie2['Title'] = 'The Social Network'\n",
    "movie2['Release Date'] = '01 October 2010'\n",
    "movie2['Running Time'] = '120 min'\n",
    "movie2['Rating'] = 'PG-13'\n",
    "movies.append(movie2)\n",
    "keys = ['Title', 'Director', 'Rating', 'Running Time']\n",
    "\n",
    "print('-----------')\n",
    "print(movies)\n",
    "print('-----------')\n",
    "print(keys)\n",
    "\n",
    "for item in movies:\n",
    "    print('-----------')\n",
    "    for key in keys:\n",
    "        print(key,': ', item[key])\n",
    "print('-----------')\n"
   ]
  },
  {
   "cell_type": "code",
   "execution_count": null,
   "metadata": {
    "collapsed": true
   },
   "outputs": [],
   "source": [
    "movies"
   ]
  },
  {
   "cell_type": "code",
   "execution_count": null,
   "metadata": {
    "collapsed": true
   },
   "outputs": [],
   "source": [
    "class PartyAnimal:\n",
    "    x = 0\n",
    "\n",
    "    def party(self) :\n",
    "      self.x = self.x + 1\n",
    "      print(\"So far\",self.x)\n",
    "\n",
    "an = PartyAnimal()\n",
    "\n",
    "an.party()\n",
    "an.party()\n",
    "an.party()\n"
   ]
  },
  {
   "cell_type": "code",
   "execution_count": null,
   "metadata": {
    "collapsed": true
   },
   "outputs": [],
   "source": [
    "class PartyAnimal:\n",
    "   x = 0\n",
    "\n",
    "   def party(self) :\n",
    "     self.x = self.x + 1\n",
    "     print(\"So far\", self.x)\n",
    "\n",
    "an = PartyAnimal()\n",
    "\n",
    "print(\"Type\", type(an))\n",
    "print(\"Dir \", dir(an))\n"
   ]
  },
  {
   "cell_type": "code",
   "execution_count": null,
   "metadata": {
    "collapsed": true
   },
   "outputs": [],
   "source": [
    "## Constructor\n",
    "\n",
    "class PartyAnimal:\n",
    "   x = 0\n",
    "\n",
    "   def __init__(self):\n",
    "     print(\"I am constructed\")\n",
    "\n",
    "   def party(self) :\n",
    "     self.x = self.x + 1\n",
    "     print(\"So far\", self.x)\n",
    "\n",
    "   def __del__(self):\n",
    "     print(\"I am destructed\", self.x)\n",
    "\n",
    "an = PartyAnimal()\n",
    "an.party()\n",
    "an.party()\n",
    "an.party()\n"
   ]
  },
  {
   "cell_type": "code",
   "execution_count": null,
   "metadata": {
    "collapsed": true
   },
   "outputs": [],
   "source": [
    "## Many Instances\n",
    "\n",
    "class PartyAnimal:\n",
    "   x = 0\n",
    "   name = \"\"\n",
    "   def __init__(self, nam):\n",
    "     self.name = nam\n",
    "     print(self.name,\"constructed\")\n",
    "\n",
    "   def party(self) :\n",
    "     self.x = self.x + 1\n",
    "     print(self.name,\"party count\",self.x)\n",
    "\n",
    "s = PartyAnimal(\"Sally\")\n",
    "s.party()\n",
    "\n",
    "j = PartyAnimal(\"Jim\")\n",
    "j.party()\n",
    "s.party()\n"
   ]
  },
  {
   "cell_type": "code",
   "execution_count": null,
   "metadata": {
    "collapsed": true,
    "slideshow": {
     "slide_type": "-"
    }
   },
   "outputs": [],
   "source": [
    "## Inheritance\n",
    "\n",
    "class PartyAnimal:\n",
    "   x = 0\n",
    "   name = \"\"\n",
    "   def __init__(self, nam):\n",
    "     self.name = nam\n",
    "     print(self.name,\"constructed\")\n",
    "\n",
    "   def party(self) :\n",
    "     self.x = self.x + 1\n",
    "     print(self.name,\"party count\",self.x)\n",
    "\n",
    "class FootballFan(PartyAnimal):\n",
    "   points = 0\n",
    "   def touchdown(self):\n",
    "      self.points = self.points + 7\n",
    "      self.party()\n",
    "      print(self.name,\"points\",self.points)\n"
   ]
  },
  {
   "cell_type": "code",
   "execution_count": null,
   "metadata": {
    "collapsed": true
   },
   "outputs": [],
   "source": [
    "s = PartyAnimal(\"Sally\")\n",
    "s.party()\n",
    "\n",
    "j = FootballFan(\"Jim\")\n",
    "j.party()\n",
    "j.touchdown()\n"
   ]
  },
  {
   "cell_type": "markdown",
   "metadata": {},
   "source": [
    "# Modules"
   ]
  },
  {
   "cell_type": "code",
   "execution_count": 7,
   "metadata": {},
   "outputs": [
    {
     "name": "stdout",
     "output_type": "stream",
     "text": [
      "['README', 'Python Getting Started.ipynb', '.ipynb_checkpoints', 'simpleexp.py', 'mbox.txt', 'mbox-short.txt', 'Numpy.ipynb', 'mylib.py', '__pycache__', 'hello.py', 'Lambda Operator.ipynb', 'Session_Nov_19_2017.ipynb']\n",
      "0.768309718668981\n"
     ]
    },
    {
     "data": {
      "text/plain": [
       "['MAXYEAR',\n",
       " 'MINYEAR',\n",
       " '__builtins__',\n",
       " '__cached__',\n",
       " '__doc__',\n",
       " '__file__',\n",
       " '__loader__',\n",
       " '__name__',\n",
       " '__package__',\n",
       " '__spec__',\n",
       " 'date',\n",
       " 'datetime',\n",
       " 'datetime_CAPI',\n",
       " 'time',\n",
       " 'timedelta',\n",
       " 'timezone',\n",
       " 'tzinfo']"
      ]
     },
     "execution_count": 7,
     "metadata": {},
     "output_type": "execute_result"
    }
   ],
   "source": [
    "import random   # For generating random numbers.\n",
    "import os       # For interacting with the filesystem of your computer.\n",
    "import re       # For regular expressions. Unrelated: https://xkcd.com/1171/\n",
    "import datetime # Helps immensely with determining the date and formatting it.\n",
    "import math     # Gives some basic math functions: trig, factorial, exponential, logarithms, etc.\n",
    "import xml      # Abandon all hope, ye who enter.\n",
    "print(os.listdir())\n",
    "print(random.random())\n",
    "dir(datetime)"
   ]
  },
  {
   "cell_type": "code",
   "execution_count": null,
   "metadata": {
    "collapsed": true
   },
   "outputs": [],
   "source": [
    "# As your program gets longer, you may want to split it into several files for easier maintenance\n",
    "# Use a handy function that you’ve written in several programs\n",
    "# without copying its definition into each program.\n",
    "\n",
    "# put definitions in a file and use them => module\n",
    "\n",
    "# Create a file mylib.py having the following definitions\n",
    "\n",
    "def interest(p, r, t):\n",
    "    return (p*r*t)/100\n",
    "\n",
    "def compoundinterest(p, r, t):\n",
    "    c = p;\n",
    "    for i in range(0, t):\n",
    "        c = c + c*r/100\n",
    "    return c - p"
   ]
  },
  {
   "cell_type": "code",
   "execution_count": null,
   "metadata": {
    "collapsed": true
   },
   "outputs": [],
   "source": [
    "compoundinterest(100, 5, 2)"
   ]
  },
  {
   "cell_type": "code",
   "execution_count": null,
   "metadata": {
    "collapsed": true
   },
   "outputs": [],
   "source": [
    "# Import the same library - file is module name\n",
    "import mylib"
   ]
  },
  {
   "cell_type": "code",
   "execution_count": null,
   "metadata": {
    "collapsed": true
   },
   "outputs": [],
   "source": [
    "# Check function\n",
    "mylib.compoundinterest(100, 5, 2)"
   ]
  },
  {
   "cell_type": "code",
   "execution_count": null,
   "metadata": {
    "collapsed": true,
    "scrolled": true
   },
   "outputs": [],
   "source": [
    "from mylib import interest, compoundinterest\n",
    "from mylib import *\n"
   ]
  },
  {
   "cell_type": "code",
   "execution_count": null,
   "metadata": {
    "collapsed": true
   },
   "outputs": [],
   "source": [
    "import mylib\n",
    "mylib.__name__"
   ]
  },
  {
   "cell_type": "code",
   "execution_count": null,
   "metadata": {
    "collapsed": true
   },
   "outputs": [],
   "source": [
    "%run mylib\n"
   ]
  },
  {
   "cell_type": "code",
   "execution_count": null,
   "metadata": {
    "collapsed": true
   },
   "outputs": [],
   "source": [
    "!python mylib.py"
   ]
  },
  {
   "cell_type": "code",
   "execution_count": null,
   "metadata": {
    "collapsed": true
   },
   "outputs": [],
   "source": [
    "import sys"
   ]
  },
  {
   "cell_type": "code",
   "execution_count": null,
   "metadata": {
    "collapsed": true
   },
   "outputs": [],
   "source": [
    "sys.path"
   ]
  },
  {
   "cell_type": "code",
   "execution_count": null,
   "metadata": {
    "collapsed": true
   },
   "outputs": [],
   "source": [
    "sys.path += [\"/home/sandeepgiri9034/tmp\"]"
   ]
  },
  {
   "cell_type": "code",
   "execution_count": null,
   "metadata": {
    "collapsed": true
   },
   "outputs": [],
   "source": [
    "sys.path"
   ]
  },
  {
   "cell_type": "code",
   "execution_count": null,
   "metadata": {
    "collapsed": true
   },
   "outputs": [],
   "source": [
    "# Create testmod.py with the following code in tmp\n",
    "def mymethod():\n",
    "    print(\"Wow! You found it!\")\n"
   ]
  },
  {
   "cell_type": "code",
   "execution_count": 2,
   "metadata": {},
   "outputs": [
    {
     "ename": "ModuleNotFoundError",
     "evalue": "No module named 'tensorflow'",
     "output_type": "error",
     "traceback": [
      "\u001b[0;31m---------------------------------------------------------------------------\u001b[0m",
      "\u001b[0;31mModuleNotFoundError\u001b[0m                       Traceback (most recent call last)",
      "\u001b[0;32m<ipython-input-2-a649b509054f>\u001b[0m in \u001b[0;36m<module>\u001b[0;34m()\u001b[0m\n\u001b[0;32m----> 1\u001b[0;31m \u001b[0;32mimport\u001b[0m \u001b[0mtensorflow\u001b[0m\u001b[0;34m\u001b[0m\u001b[0m\n\u001b[0m",
      "\u001b[0;31mModuleNotFoundError\u001b[0m: No module named 'tensorflow'"
     ]
    }
   ],
   "source": []
  },
  {
   "cell_type": "code",
   "execution_count": null,
   "metadata": {
    "collapsed": true
   },
   "outputs": [],
   "source": [
    "import testmod\n",
    "testmod.mymethod()"
   ]
  },
  {
   "cell_type": "markdown",
   "metadata": {},
   "source": [
    "# Packages"
   ]
  },
  {
   "cell_type": "markdown",
   "metadata": {},
   "source": [
    "Packages are a way of structuring Python’s module namespace\n",
    "For example, the module name A.B designates a submodule named B in a package named A.\n",
    "Say you have huge project\n",
    "\n",
    "sound/                          Top-level package\n",
    "      __init__.py               Initialize the sound package\n",
    "      formats/                  Subpackage for file format conversions\n",
    "              __init__.py\n",
    "              wavread.py\n",
    "              wavwrite.py\n",
    "              aiffread.py\n",
    "              aiffwrite.py\n",
    "              auread.py\n",
    "              auwrite.py\n",
    "              ...\n",
    "      effects/                  Subpackage for sound effects\n",
    "              __init__.py\n",
    "              echo.py\n",
    "              surround.py\n",
    "              reverse.py\n",
    "              ...\n",
    "      filters/                  Subpackage for filters\n",
    "              __init__.py\n",
    "              equalizer.py\n",
    "              vocoder.py\n",
    "              karaoke.py\n",
    "              ...\n",
    "                "
   ]
  },
  {
   "cell_type": "code",
   "execution_count": null,
   "metadata": {
    "collapsed": true
   },
   "outputs": [],
   "source": [
    "# Users of the package can import individual modules from the package, for example:\n",
    "\n",
    "import sound.effects.echo\n",
    "# This loads the submodule sound.effects.echo. \n",
    "\n",
    "# It must be referenced with its full name.\n",
    "sound.effects.echo.echofilter(input, output, delay=0.7, atten=4)\n",
    "\n",
    "\n",
    "# An alternative way of importing the submodule is:\n",
    "\n",
    "from sound.effects import echo\n",
    "\n",
    "# This also loads the submodule echo, and makes it available without its package prefix, so it can be used as follows:\n",
    "echo.echofilter(input, output, delay=0.7, atten=4)\n",
    "\n",
    "# Yet another variation is to import the desired function or variable directly:\n",
    "from sound.effects.echo import echofilter\n",
    "# Again, this loads the submodule echo, but this makes its function echofilter() directly available:\n",
    "\n",
    "echofilter(input, output, delay=0.7, atten=4)\n"
   ]
  },
  {
   "cell_type": "code",
   "execution_count": 35,
   "metadata": {
    "collapsed": true
   },
   "outputs": [],
   "source": [
    "def multiply_loops(A, B):\n",
    "    C = np.zeros((A.shape[0], B.shape[1]))\n",
    "    for i in range(A.shape[1]):\n",
    "        for j in range(B.shape[0]):\n",
    "            C[i, j] = A[i, j] * B[j, i]\n",
    "    return C"
   ]
  },
  {
   "cell_type": "code",
   "execution_count": 36,
   "metadata": {
    "collapsed": true
   },
   "outputs": [],
   "source": [
    "# And now a function that uses NumPy's matrix-matrix multiplication operator.\n",
    "def multiply_vector(A, B):\n",
    "    return A @ B"
   ]
  },
  {
   "cell_type": "code",
   "execution_count": 42,
   "metadata": {
    "collapsed": true
   },
   "outputs": [],
   "source": [
    "import numpy as np\n",
    "# Here's our sample data: two randomly-generated, 100x100 matrices.\n",
    "X = np.random.random((1000, 1000))\n",
    "Y = np.random.random((1000, 1000))\n"
   ]
  },
  {
   "cell_type": "code",
   "execution_count": 43,
   "metadata": {},
   "outputs": [
    {
     "name": "stdout",
     "output_type": "stream",
     "text": [
      "465 ms ± 1.96 ms per loop (mean ± std. dev. of 7 runs, 1 loop each)\n"
     ]
    }
   ],
   "source": [
    "%timeit multiply_loops(X, Y)"
   ]
  },
  {
   "cell_type": "code",
   "execution_count": 44,
   "metadata": {},
   "outputs": [
    {
     "name": "stdout",
     "output_type": "stream",
     "text": [
      "33 ms ± 9.35 ms per loop (mean ± std. dev. of 7 runs, 10 loops each)\n"
     ]
    }
   ],
   "source": [
    "%timeit multiply_vector(X, Y)"
   ]
  },
  {
   "cell_type": "code",
   "execution_count": 45,
   "metadata": {
    "collapsed": true
   },
   "outputs": [],
   "source": [
    "from pylab import *"
   ]
  },
  {
   "cell_type": "code",
   "execution_count": 46,
   "metadata": {},
   "outputs": [
    {
     "data": {
      "text/plain": [
       "[<matplotlib.lines.Line2D at 0x7f241c3e7748>]"
      ]
     },
     "execution_count": 46,
     "metadata": {},
     "output_type": "execute_result"
    }
   ],
   "source": [
    "plot([1,2,3])"
   ]
  },
  {
   "cell_type": "code",
   "execution_count": 47,
   "metadata": {},
   "outputs": [
    {
     "data": {
      "text/plain": [
       "Text(0.5,0,'hi mom')"
      ]
     },
     "execution_count": 47,
     "metadata": {},
     "output_type": "execute_result"
    }
   ],
   "source": [
    "xlabel('hi mom')"
   ]
  },
  {
   "cell_type": "code",
   "execution_count": 48,
   "metadata": {
    "collapsed": true
   },
   "outputs": [],
   "source": [
    "%matplotlib inline\n",
    "\n",
    "from matplotlib import pyplot as plt\n",
    "import numpy as np"
   ]
  },
  {
   "cell_type": "code",
   "execution_count": 49,
   "metadata": {
    "scrolled": true
   },
   "outputs": [
    {
     "data": {
      "text/plain": [
       "Text(0,0.5,'y')"
      ]
     },
     "execution_count": 49,
     "metadata": {},
     "output_type": "execute_result"
    },
    {
     "data": {
      "image/png": "[encoded data removed]",
      "text/plain": [
       "<matplotlib.figure.Figure at 0x7f243d796e10>"
      ]
     },
     "metadata": {},
     "output_type": "display_data"
    }
   ],
   "source": [
    "plt.scatter(*np.random.randn(2, 100), \n",
    "            s=np.pi * (15 * np.random.rand(100))**2 , \n",
    "            c=np.random.randn(100), alpha=0.5,\n",
    "            cmap='viridis')\n",
    "plt.xlabel('x')\n",
    "plt.ylabel('y')"
   ]
  },
  {
   "cell_type": "code",
   "execution_count": 51,
   "metadata": {},
   "outputs": [
    {
     "data": {
      "text/plain": [
       "['Annotation',\n",
       " 'Arrow',\n",
       " 'Artist',\n",
       " 'AutoLocator',\n",
       " 'Axes',\n",
       " 'Button',\n",
       " 'Circle',\n",
       " 'Figure',\n",
       " 'FigureCanvasBase',\n",
       " 'FixedFormatter',\n",
       " 'FixedLocator',\n",
       " 'FormatStrFormatter',\n",
       " 'Formatter',\n",
       " 'FuncFormatter',\n",
       " 'GridSpec',\n",
       " 'IndexLocator',\n",
       " 'Line2D',\n",
       " 'LinearLocator',\n",
       " 'Locator',\n",
       " 'LogFormatter',\n",
       " 'LogFormatterExponent',\n",
       " 'LogFormatterMathtext',\n",
       " 'LogLocator',\n",
       " 'MaxNLocator',\n",
       " 'MultipleLocator',\n",
       " 'Normalize',\n",
       " 'NullFormatter',\n",
       " 'NullLocator',\n",
       " 'PolarAxes',\n",
       " 'Polygon',\n",
       " 'Rectangle',\n",
       " 'ScalarFormatter',\n",
       " 'Slider',\n",
       " 'Subplot',\n",
       " 'SubplotTool',\n",
       " 'Text',\n",
       " 'TickHelper',\n",
       " 'Widget',\n",
       " '_INSTALL_FIG_OBSERVER',\n",
       " '_IP_REGISTERED',\n",
       " '__builtins__',\n",
       " '__cached__',\n",
       " '__doc__',\n",
       " '__file__',\n",
       " '__loader__',\n",
       " '__name__',\n",
       " '__package__',\n",
       " '__spec__',\n",
       " '_auto_draw_if_interactive',\n",
       " '_autogen_docstring',\n",
       " '_backend_mod',\n",
       " '_backend_selection',\n",
       " '_hold_msg',\n",
       " '_imread',\n",
       " '_imsave',\n",
       " '_interactive_bk',\n",
       " '_pylab_helpers',\n",
       " '_setp',\n",
       " '_setup_pyplot_info_docstrings',\n",
       " '_show',\n",
       " '_string_to_bool',\n",
       " 'absolute_import',\n",
       " 'acorr',\n",
       " 'angle_spectrum',\n",
       " 'annotate',\n",
       " 'arrow',\n",
       " 'autoscale',\n",
       " 'autumn',\n",
       " 'axes',\n",
       " 'axhline',\n",
       " 'axhspan',\n",
       " 'axis',\n",
       " 'axvline',\n",
       " 'axvspan',\n",
       " 'bar',\n",
       " 'barbs',\n",
       " 'barh',\n",
       " 'bone',\n",
       " 'box',\n",
       " 'boxplot',\n",
       " 'broken_barh',\n",
       " 'cla',\n",
       " 'clabel',\n",
       " 'clf',\n",
       " 'clim',\n",
       " 'close',\n",
       " 'cm',\n",
       " 'cohere',\n",
       " 'colorbar',\n",
       " 'colormaps',\n",
       " 'colors',\n",
       " 'connect',\n",
       " 'contour',\n",
       " 'contourf',\n",
       " 'cool',\n",
       " 'copper',\n",
       " 'csd',\n",
       " 'cycler',\n",
       " 'dedent',\n",
       " 'delaxes',\n",
       " 'deprecated',\n",
       " 'disconnect',\n",
       " 'division',\n",
       " 'docstring',\n",
       " 'draw',\n",
       " 'draw_all',\n",
       " 'draw_if_interactive',\n",
       " 'errorbar',\n",
       " 'eventplot',\n",
       " 'figaspect',\n",
       " 'figimage',\n",
       " 'figlegend',\n",
       " 'fignum_exists',\n",
       " 'figtext',\n",
       " 'figure',\n",
       " 'fill',\n",
       " 'fill_between',\n",
       " 'fill_betweenx',\n",
       " 'findobj',\n",
       " 'flag',\n",
       " 'gca',\n",
       " 'gcf',\n",
       " 'gci',\n",
       " 'get',\n",
       " 'get_backend',\n",
       " 'get_cmap',\n",
       " 'get_current_fig_manager',\n",
       " 'get_figlabels',\n",
       " 'get_fignums',\n",
       " 'get_plot_commands',\n",
       " 'get_scale_docs',\n",
       " 'get_scale_names',\n",
       " 'getp',\n",
       " 'ginput',\n",
       " 'gray',\n",
       " 'grid',\n",
       " 'hexbin',\n",
       " 'hist',\n",
       " 'hist2d',\n",
       " 'hlines',\n",
       " 'hold',\n",
       " 'hot',\n",
       " 'hsv',\n",
       " 'imread',\n",
       " 'imsave',\n",
       " 'imshow',\n",
       " 'inferno',\n",
       " 'install_repl_displayhook',\n",
       " 'interactive',\n",
       " 'ioff',\n",
       " 'ion',\n",
       " 'is_numlike',\n",
       " 'ishold',\n",
       " 'isinteractive',\n",
       " 'jet',\n",
       " 'legend',\n",
       " 'locator_params',\n",
       " 'loglog',\n",
       " 'magma',\n",
       " 'magnitude_spectrum',\n",
       " 'margins',\n",
       " 'matplotlib',\n",
       " 'matshow',\n",
       " 'minorticks_off',\n",
       " 'minorticks_on',\n",
       " 'mlab',\n",
       " 'new_figure_manager',\n",
       " 'nipy_spectral',\n",
       " 'np',\n",
       " 'over',\n",
       " 'pause',\n",
       " 'pcolor',\n",
       " 'pcolormesh',\n",
       " 'phase_spectrum',\n",
       " 'pie',\n",
       " 'pink',\n",
       " 'plasma',\n",
       " 'plot',\n",
       " 'plot_date',\n",
       " 'plotfile',\n",
       " 'plotting',\n",
       " 'polar',\n",
       " 'print_function',\n",
       " 'prism',\n",
       " 'psd',\n",
       " 'pylab_setup',\n",
       " 'quiver',\n",
       " 'quiverkey',\n",
       " 'rc',\n",
       " 'rcParams',\n",
       " 'rcParamsDefault',\n",
       " 'rc_context',\n",
       " 'rcdefaults',\n",
       " 'register_cmap',\n",
       " 'rgrids',\n",
       " 'savefig',\n",
       " 'sca',\n",
       " 'scatter',\n",
       " 'sci',\n",
       " 'semilogx',\n",
       " 'semilogy',\n",
       " 'set_cmap',\n",
       " 'setp',\n",
       " 'show',\n",
       " 'silent_list',\n",
       " 'six',\n",
       " 'specgram',\n",
       " 'spectral',\n",
       " 'spring',\n",
       " 'spy',\n",
       " 'stackplot',\n",
       " 'stem',\n",
       " 'step',\n",
       " 'streamplot',\n",
       " 'style',\n",
       " 'subplot',\n",
       " 'subplot2grid',\n",
       " 'subplot_tool',\n",
       " 'subplots',\n",
       " 'subplots_adjust',\n",
       " 'summer',\n",
       " 'suptitle',\n",
       " 'switch_backend',\n",
       " 'sys',\n",
       " 'table',\n",
       " 'text',\n",
       " 'thetagrids',\n",
       " 'tick_params',\n",
       " 'ticklabel_format',\n",
       " 'tight_layout',\n",
       " 'title',\n",
       " 'tricontour',\n",
       " 'tricontourf',\n",
       " 'tripcolor',\n",
       " 'triplot',\n",
       " 'twinx',\n",
       " 'twiny',\n",
       " 'types',\n",
       " 'unicode_literals',\n",
       " 'uninstall_repl_displayhook',\n",
       " 'violinplot',\n",
       " 'viridis',\n",
       " 'vlines',\n",
       " 'waitforbuttonpress',\n",
       " 'warnings',\n",
       " 'winter',\n",
       " 'xcorr',\n",
       " 'xkcd',\n",
       " 'xlabel',\n",
       " 'xlim',\n",
       " 'xscale',\n",
       " 'xticks',\n",
       " 'ylabel',\n",
       " 'ylim',\n",
       " 'yscale',\n",
       " 'yticks']"
      ]
     },
     "execution_count": 51,
     "metadata": {},
     "output_type": "execute_result"
    }
   ],
   "source": [
    "dir(plt)"
   ]
  },
  {
   "cell_type": "code",
   "execution_count": null,
   "metadata": {
    "collapsed": true
   },
   "outputs": [],
   "source": []
  }
 ],
 "metadata": {
  "kernelspec": {
   "display_name": "Python 3",
   "language": "python",
   "name": "python3"
  },
  "language_info": {
   "codemirror_mode": {
    "name": "ipython",
    "version": 3
   },
   "file_extension": ".py",
   "mimetype": "text/x-python",
   "name": "python",
   "nbconvert_exporter": "python",
   "pygments_lexer": "ipython3",
   "version": "3.6.3"
  }
 },
 "nbformat": 4,
 "nbformat_minor": 2
}
